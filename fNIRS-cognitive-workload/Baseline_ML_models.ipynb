{
 "cells": [
  {
   "cell_type": "code",
   "execution_count": 1,
   "id": "d5b156af",
   "metadata": {},
   "outputs": [],
   "source": [
    "import numpy as np\n",
    "import pandas as pd\n",
    "from sklearn.pipeline import Pipeline\n",
    "from sklearn.preprocessing import StandardScaler, MinMaxScaler\n",
    "from sklearn.decomposition import PCA\n",
    "from sklearn.cluster import FeatureAgglomeration\n",
    "from sklearn.svm import SVC\n",
    "from sklearn.ensemble import RandomForestClassifier\n",
    "from sklearn.neighbors import KNeighborsClassifier\n",
    "from sklearn.model_selection import cross_val_score, RandomizedSearchCV\n",
    "import math\n",
    "import pickle\n",
    "import os\n",
    "\n",
    "## Import custom functions from 'pre_processing.py' ##\n",
    "try:\n",
    "    import importlib\n",
    "    importlib.reload(pp)\n",
    "except NameError: # It hasn't been imported yet\n",
    "    import pre_processing as pp\n",
    "    \n",
    "fnirs_data = r'C:\\Users\\61407\\mental-health-modelling\\data\\fNIRS\\bandpass_filtered_whole_data'"
   ]
  },
  {
   "cell_type": "markdown",
   "id": "ef7be514",
   "metadata": {},
   "source": [
    "## 0. Data restructuring ##\n",
    "- Split the data into task blocks (16 blocks per subject, each block consists of data from one level of task difficulty), as they are independent time series (and we don't want overlap between task blocks)\n",
    "- Further split the 80 second task blocks into \"chunks\" of 10 seconds each, to increase number of samples (8 chunks x 16 blocks = 128 samples per subject). These chunks of data are what will eventually be fed into the models"
   ]
  },
  {
   "cell_type": "code",
   "execution_count": 2,
   "id": "8da9bff7",
   "metadata": {},
   "outputs": [],
   "source": [
    "structure_suffix = '20s_chunks_no_overlap' # suffix to add at end of model name, to indicate how data was restructure"
   ]
  },
  {
   "cell_type": "code",
   "execution_count": 3,
   "id": "f47614cd",
   "metadata": {},
   "outputs": [],
   "source": [
    "chunk_seconds = 20 #how long you want each chunk to be in seconds\n",
    "overlap_seconds = 0 #how many seconds of overlap you want across chunks\n",
    "\n",
    "## Upload raw data from repository ##\n",
    "all_data = pp.upload_all_subjects(fnirs_data, scaled=False)\n",
    "\n",
    "# First split data into task blocks by assigning a block label\n",
    "all_grouped_dataframes, all_block_change_idx = pp.detect_block_changes(all_data, label='difficulty')\n",
    "block_labelled_data = pd.concat(all_grouped_dataframes)\n",
    "\n",
    "# Make sure that every block is the same size, otherwise the following line will raise an error\n",
    "block_size = int(block_labelled_data.groupby(block_labelled_data.index.get_level_values(0)).size().unique())\n",
    "\n",
    "# Split data from task blocks into 10 second chunks by assigning a chunk label\n",
    "chunk_labelled_data = block_labelled_data.groupby(block_labelled_data.index.get_level_values(0)).apply(pp.split_chunks, chunk_seconds)\n",
    "\n",
    "# Do some index restructuring for aesthetics - this is a messy code that should be optimized\n",
    "chunk_labelled_data = chunk_labelled_data.droplevel(0).reset_index().set_index(['level_0','level_1','level_2','level_3'])\n",
    "chunk_labelled_data.index.names = ['chunk','block','subject','sample']\n",
    "unique_chunk = np.array([[i+1]*math.floor(chunk_seconds*5.2) for i, (x) in enumerate(chunk_labelled_data.droplevel([2,3]).index.unique())]).flatten()\n",
    "chunk_labelled_data['unique_chunk_ID'] = unique_chunk\n",
    "chunk_labelled_data = chunk_labelled_data.reset_index().set_index(['unique_chunk_ID','block','chunk','subject','sample'])"
   ]
  },
  {
   "cell_type": "markdown",
   "id": "d157f0f8",
   "metadata": {},
   "source": [
    "## 1. Define paragidms and data partitioning ##\n",
    "***Generic model:*** The first paradigm is to try and build a \"one size fits all\" model that is trained on many subjects, and can generalize to new subject data. This would allow for a pre-trained model to be deployed with the software, and there will be **no model training required at the user end**. However, this would the software to cognitive workload-related tasks only, and have **limited flexibility in its applications**. Application flexibility could be increased by deploying multiple pre-trained models for different tasks, but this would require extensive and continuous data collection.\n",
    "- *Data partitioning for model training will involve randomly splitting the 68 subjects into 51 training (75%) and 17 testing (25%) subjects. We will perform this split in 4 different \"buckets\", where every bucket will have different test subjects from each other (random selection of 17 test subjects without replacement for each bucket).*\n",
    "\n",
    "***Subject-specific models:*** The second paradigm is to build a single model for each subject, where only a model architecture will be deployed with the software, and **model training will be required at the user end for optimiation**. This approach would **increase the flexibility of its applications beyond cognitive workload-related tasks**, where a user could train the model architecture on specific tasks that are relevant to their daily lives. This approach would probably **require a cloud interface on the developer end to accept model training requests from users**, as model training may require high computational capacity that users may not have on their local device.\n",
    "- *Data partitioning for model training will involve splitting each subject's data into 12 training and 4 test blocks, where there will be one block from each level of task difficulty (4 difficulties) in the test blocks. This results in 96 training and 32 testing \"chunks\".*"
   ]
  },
  {
   "cell_type": "markdown",
   "id": "54521c11",
   "metadata": {},
   "source": [
    "**1.1 Partition the raw data for generic model building**\n",
    "- Here we will only extract the indexes of partitions for each bucket, to avoid having to write the data partitions into memory (and will use these indexes and reference the entire data set at later steps)"
   ]
  },
  {
   "cell_type": "code",
   "execution_count": 4,
   "id": "d846e15c",
   "metadata": {},
   "outputs": [],
   "source": [
    "generic_suffix = '51train_17test' # suffix to add at end of model name, to indicate how generic models were partitioned"
   ]
  },
  {
   "cell_type": "code",
   "execution_count": 5,
   "id": "e75c2611",
   "metadata": {},
   "outputs": [
    {
     "name": "stdout",
     "output_type": "stream",
     "text": [
      "4 buckets\n",
      "68 unique indexes\n",
      "Repeated indexes: (array([], dtype=int64),)\n"
     ]
    }
   ],
   "source": [
    "# Define the desired number of test subjects in each bucket\n",
    "test_size = 17\n",
    "\n",
    "# Total number of subjects\n",
    "n_subjects = all_data.index.get_level_values(0).unique().shape[0]\n",
    "\n",
    "# Run random partitioning to get test bucket index positions\n",
    "seed = 42 # for reproducibility\n",
    "test_buckets_positions = pp.partition_subject_indexes(test_size, n_subjects, seed)\n",
    "\n",
    "# Get the actual index names of test buckets based on dataframe\n",
    "test_buckets = [all_data.index.get_level_values(0).unique()[x] for x in test_buckets_positions]\n",
    "\n",
    "# Get the train buckets\n",
    "train_buckets = [all_data[~all_data.index.get_level_values(0).isin(x)].index.get_level_values(0).unique() for x in test_buckets]"
   ]
  },
  {
   "cell_type": "markdown",
   "id": "d333bd72",
   "metadata": {},
   "source": [
    "**1.2 Partition the raw data for subject-specific model building**\n",
    "- Here we will only define the test indexes, and use a boolean operation to partition into train/test in later steps"
   ]
  },
  {
   "cell_type": "code",
   "execution_count": 6,
   "id": "a5efe979",
   "metadata": {},
   "outputs": [],
   "source": [
    "subject_suffix = '1test_per_difficulty' # suffix to add at end of model name, to indicate how subject models were partitioned"
   ]
  },
  {
   "cell_type": "code",
   "execution_count": 7,
   "id": "a5be029e",
   "metadata": {},
   "outputs": [],
   "source": [
    "# Create groupby to get the block numbers for each task difficulty, for each subject\n",
    "groups = chunk_labelled_data.groupby([chunk_labelled_data.index.get_level_values('subject'),\n",
    "                                     'difficulty',\n",
    "                                     ]\n",
    "                                    )\n",
    "\n",
    "# Randomly sample one block from each groupby group {subject/difficulty : block number}\n",
    "test_idx = {name:np.random.choice(indices)[1] for name, indices in groups.groups.items()}"
   ]
  },
  {
   "cell_type": "markdown",
   "id": "a4880d40",
   "metadata": {},
   "source": [
    "## 2. Feature engineering (to be applied for both paradigms) ##"
   ]
  },
  {
   "cell_type": "markdown",
   "id": "2b843efa",
   "metadata": {},
   "source": [
    "**2.1 Summary sensor metrics across time series samples (i.e. remove temporal information)**\n",
    " - Use the mean, median, std, min, max, RMS, skewness of each time series\n",
    " - Apply this feature engineering on a **chunk-by-chunk basis**, as they are the \"independent\" samples to feed into the models"
   ]
  },
  {
   "cell_type": "code",
   "execution_count": 8,
   "id": "29c17bb8",
   "metadata": {},
   "outputs": [],
   "source": [
    "# Define a dictionary of aggregation functions for each metric\n",
    "def rms(series): # root mean square\n",
    "    return np.sqrt(np.mean(series**2))\n",
    "\n",
    "agg_functions = {'mean':'mean',\n",
    "                 'median':'median',\n",
    "                 'std':'std',\n",
    "                 'min':'min',\n",
    "                 'max':'max',\n",
    "                 'rms':rms,\n",
    "                 'skew':'skew'}\n",
    "\n",
    "# Define a function to retrieve unique column values (for label extraction)\n",
    "def get_unique_column_values(group, column, dtype):\n",
    "    return dtype(group[column].unique())\n",
    "\n",
    "# First calculate aggregate functions on each block of time series\n",
    "agg = {key: chunk_labelled_data.drop('difficulty', axis=1).groupby(chunk_labelled_data.drop('difficulty', axis=1).index.get_level_values(0)).agg(value)\n",
    "              for key, value in agg_functions.items()}\n",
    "chunked_data = pd.concat(agg, axis=1)\n",
    "\n",
    "# Get indexes for each chunk\n",
    "chunked_indexes = [chunk_labelled_data[chunk_labelled_data.index.get_level_values('unique_chunk_ID') == x].index[0][:-1] for x in chunked_data.index]\n",
    "chunked_multiindex = pd.MultiIndex.from_tuples(chunked_indexes)\n",
    "chunked_data.index = chunked_multiindex\n",
    "chunked_data.index.names = ['unique_chunk_ID','block','chunk','subject']"
   ]
  },
  {
   "cell_type": "markdown",
   "id": "1f81b733",
   "metadata": {},
   "source": [
    "**2.1 Label engineering**\n",
    "- Decide whether we want to predict all labels, a subset of labels (e.g. level 0 vs. level 2), or combined labels (e.g. \"low\" difficulty levels 0 + 1 vs. \"high\" difficulty levels 2 + 3).\n",
    "- Each type of label engineering will have different use cases"
   ]
  },
  {
   "cell_type": "code",
   "execution_count": 9,
   "id": "c4228b3b",
   "metadata": {},
   "outputs": [],
   "source": [
    "label_suffix = 'low_vs_high' # 0 = low (level 0 or 1), 1 = high (level 2 or 3)\n",
    "\n",
    "# Get labels for each chunk\n",
    "chunked_labels = chunk_labelled_data.groupby(chunk_labelled_data.index.get_level_values(0)).apply(get_unique_column_values, 'difficulty', int)\n",
    "chunked_labels.index = chunked_data.index\n",
    "\n",
    "# Apply label engineering\n",
    "chunked_labels = chunked_labels.replace({1:0,2:1,3:1})\n",
    "# chunked_labels = chunked_labels[chunked_labels.isin([0,2])]\n",
    "# chunked_data = chunked_data[chunked_data.index.isin(chunked_labels.index)]"
   ]
  },
  {
   "cell_type": "markdown",
   "id": "8383ffc1",
   "metadata": {},
   "source": [
    "## 3. Define options for pipeline components and hyperparameter search spaces ##"
   ]
  },
  {
   "cell_type": "markdown",
   "id": "4e9f6449",
   "metadata": {},
   "source": [
    "**3.1. Define pipeline components**"
   ]
  },
  {
   "cell_type": "code",
   "execution_count": 10,
   "id": "1b6c3c0c",
   "metadata": {},
   "outputs": [],
   "source": [
    "## Normalization, dimensionality reduction, and classifier options to test ##\n",
    "norm = [StandardScaler()]\n",
    "dim = [PCA(n_components=0.9), FeatureAgglomeration(n_clusters=4)]\n",
    "clf = [SVC(), RandomForestClassifier(), KNeighborsClassifier()]"
   ]
  },
  {
   "cell_type": "markdown",
   "id": "452d0d05",
   "metadata": {},
   "source": [
    "**3.2. Define classifier hyperparameter search spaces**"
   ]
  },
  {
   "cell_type": "code",
   "execution_count": 11,
   "id": "824e7ade",
   "metadata": {},
   "outputs": [],
   "source": [
    "# Support vector classifier search space\n",
    "svc_params = {\n",
    "    'clf__C': [0.1, 1, 10, 100],  # Regularization parameter\n",
    "    'clf__kernel': ['linear', 'rbf', 'poly', 'sigmoid'],  # Kernel type\n",
    "    'clf__gamma': ['scale', 'auto', 0.1, 1],  # Kernel coefficient for 'rbf', 'poly' and 'sigmoid'\n",
    "    'clf__degree': [2, 3, 4],  # Degree of the polynomial kernel ('poly')\n",
    "    'clf__coef0': [0.0, 1.0, 2.0],  # Independent term in the kernel function\n",
    "}\n",
    "\n",
    "# Random forest classifier search space\n",
    "rf_params = {\n",
    "    'clf__n_estimators': [50, 100, 200],  # Number of trees in the forest\n",
    "    'clf__max_features': ['auto', 'sqrt', 'log2', None],  # Number of features to consider at each split\n",
    "    'clf__max_depth': [None, 10, 20, 30],  # Maximum depth of the tree\n",
    "    'clf__min_samples_split': [2, 5, 10],  # Minimum number of samples required to split an internal node\n",
    "    'clf__min_samples_leaf': [1, 2, 4],  # Minimum number of samples required to be at a leaf node\n",
    "    'clf__bootstrap': [True, False],  # Method of selecting samples for training each tree\n",
    "}\n",
    "\n",
    "# K-nearest neighbors classifier search space\n",
    "knn_params = {\n",
    "    'clf__n_neighbors': [3, 5, 10, 20],  # Number of neighbors\n",
    "    'clf__weights': ['uniform', 'distance'],  # Weight function used in prediction\n",
    "    'clf__algorithm': ['auto', 'ball_tree', 'kd_tree', 'brute'],  # Algorithm used to compute the nearest neighbors\n",
    "    'clf__p': [1, 2],  # Power parameter for the Minkowski metric\n",
    "}"
   ]
  },
  {
   "cell_type": "markdown",
   "id": "e9f61794",
   "metadata": {},
   "source": [
    "**3.3. Combine together all possible combinations of pipelines**"
   ]
  },
  {
   "cell_type": "code",
   "execution_count": 12,
   "id": "f419f555",
   "metadata": {},
   "outputs": [],
   "source": [
    "pipelines = {}\n",
    "p = 1\n",
    "for n in norm:\n",
    "    for d in dim:\n",
    "        for c in clf:\n",
    "            if d is not None:\n",
    "                steps = [('normalization',n), ('dim_reduce',d), ('clf',c)]\n",
    "            else:\n",
    "                steps = [('normalization',n), ('clf',c)]                \n",
    "            pipelines[f'Pipeline_{p}'] = Pipeline(steps)\n",
    "            p += 1"
   ]
  },
  {
   "cell_type": "markdown",
   "id": "3c2ef61e",
   "metadata": {},
   "source": [
    "## 4. Partition, create pipeline, and CV search hyperparemeters for generic paradigm ##\n",
    "- Here we are using the training data only to optimize the best hyperparameters for each pipeline\n",
    "- The best estimator returned from the randomized search CV object is a pipeline that contains all pre-processing steps, so all the \"fit_transform\" methods will be appropriately applied to test data, when calling the \"score\" method."
   ]
  },
  {
   "cell_type": "code",
   "execution_count": 13,
   "id": "003200ef",
   "metadata": {},
   "outputs": [
    {
     "name": "stdout",
     "output_type": "stream",
     "text": [
      "Bucket 0:\n",
      "************************************************************************************************************************\n",
      "partitioning...\n",
      "...complete!\n",
      "\n",
      "Pipeline_1...\n",
      "[('normalization', StandardScaler()), ('dim_reduce', PCA(n_components=0.9)), ('clf', SVC())]\n",
      "\n",
      "Fitting 3 folds for each of 15 candidates, totalling 45 fits\n"
     ]
    },
    {
     "ename": "KeyboardInterrupt",
     "evalue": "",
     "output_type": "error",
     "traceback": [
      "\u001b[1;31m---------------------------------------------------------------------------\u001b[0m",
      "\u001b[1;31mKeyboardInterrupt\u001b[0m                         Traceback (most recent call last)",
      "Cell \u001b[1;32mIn[13], line 50\u001b[0m\n\u001b[0;32m     48\u001b[0m \u001b[38;5;66;03m# Fit the RandomizedSearchCV object to the data\u001b[39;00m\n\u001b[0;32m     49\u001b[0m \u001b[38;5;28mprint\u001b[39m(\u001b[38;5;124mf\u001b[39m\u001b[38;5;124m'\u001b[39m\u001b[38;5;132;01m{\u001b[39;00mname\u001b[38;5;132;01m}\u001b[39;00m\u001b[38;5;124m...\u001b[39m\u001b[38;5;130;01m\\n\u001b[39;00m\u001b[38;5;132;01m{\u001b[39;00mpipe\u001b[38;5;241m.\u001b[39msteps\u001b[38;5;132;01m}\u001b[39;00m\u001b[38;5;130;01m\\n\u001b[39;00m\u001b[38;5;124m'\u001b[39m)\n\u001b[1;32m---> 50\u001b[0m \u001b[43mrandom_search\u001b[49m\u001b[38;5;241;43m.\u001b[39;49m\u001b[43mfit\u001b[49m\u001b[43m(\u001b[49m\u001b[43mX_train\u001b[49m\u001b[38;5;241;43m.\u001b[39;49m\u001b[43mto_numpy\u001b[49m\u001b[43m(\u001b[49m\u001b[43m)\u001b[49m\u001b[43m,\u001b[49m\u001b[43m \u001b[49m\u001b[43my_train\u001b[49m\u001b[38;5;241;43m.\u001b[39;49m\u001b[43mto_numpy\u001b[49m\u001b[43m(\u001b[49m\u001b[43m)\u001b[49m\u001b[43m)\u001b[49m\n\u001b[0;32m     52\u001b[0m \u001b[38;5;66;03m# Get the best hyperparameters and the corresponding estimator\u001b[39;00m\n\u001b[0;32m     53\u001b[0m best_params \u001b[38;5;241m=\u001b[39m random_search\u001b[38;5;241m.\u001b[39mbest_params_\n",
      "File \u001b[1;32m~\\anaconda3\\lib\\site-packages\\sklearn\\model_selection\\_search.py:874\u001b[0m, in \u001b[0;36mBaseSearchCV.fit\u001b[1;34m(self, X, y, groups, **fit_params)\u001b[0m\n\u001b[0;32m    868\u001b[0m     results \u001b[38;5;241m=\u001b[39m \u001b[38;5;28mself\u001b[39m\u001b[38;5;241m.\u001b[39m_format_results(\n\u001b[0;32m    869\u001b[0m         all_candidate_params, n_splits, all_out, all_more_results\n\u001b[0;32m    870\u001b[0m     )\n\u001b[0;32m    872\u001b[0m     \u001b[38;5;28;01mreturn\u001b[39;00m results\n\u001b[1;32m--> 874\u001b[0m \u001b[38;5;28;43mself\u001b[39;49m\u001b[38;5;241;43m.\u001b[39;49m\u001b[43m_run_search\u001b[49m\u001b[43m(\u001b[49m\u001b[43mevaluate_candidates\u001b[49m\u001b[43m)\u001b[49m\n\u001b[0;32m    876\u001b[0m \u001b[38;5;66;03m# multimetric is determined here because in the case of a callable\u001b[39;00m\n\u001b[0;32m    877\u001b[0m \u001b[38;5;66;03m# self.scoring the return type is only known after calling\u001b[39;00m\n\u001b[0;32m    878\u001b[0m first_test_score \u001b[38;5;241m=\u001b[39m all_out[\u001b[38;5;241m0\u001b[39m][\u001b[38;5;124m\"\u001b[39m\u001b[38;5;124mtest_scores\u001b[39m\u001b[38;5;124m\"\u001b[39m]\n",
      "File \u001b[1;32m~\\anaconda3\\lib\\site-packages\\sklearn\\model_selection\\_search.py:1768\u001b[0m, in \u001b[0;36mRandomizedSearchCV._run_search\u001b[1;34m(self, evaluate_candidates)\u001b[0m\n\u001b[0;32m   1766\u001b[0m \u001b[38;5;28;01mdef\u001b[39;00m \u001b[38;5;21m_run_search\u001b[39m(\u001b[38;5;28mself\u001b[39m, evaluate_candidates):\n\u001b[0;32m   1767\u001b[0m     \u001b[38;5;124;03m\"\"\"Search n_iter candidates from param_distributions\"\"\"\u001b[39;00m\n\u001b[1;32m-> 1768\u001b[0m     \u001b[43mevaluate_candidates\u001b[49m\u001b[43m(\u001b[49m\n\u001b[0;32m   1769\u001b[0m \u001b[43m        \u001b[49m\u001b[43mParameterSampler\u001b[49m\u001b[43m(\u001b[49m\n\u001b[0;32m   1770\u001b[0m \u001b[43m            \u001b[49m\u001b[38;5;28;43mself\u001b[39;49m\u001b[38;5;241;43m.\u001b[39;49m\u001b[43mparam_distributions\u001b[49m\u001b[43m,\u001b[49m\u001b[43m \u001b[49m\u001b[38;5;28;43mself\u001b[39;49m\u001b[38;5;241;43m.\u001b[39;49m\u001b[43mn_iter\u001b[49m\u001b[43m,\u001b[49m\u001b[43m \u001b[49m\u001b[43mrandom_state\u001b[49m\u001b[38;5;241;43m=\u001b[39;49m\u001b[38;5;28;43mself\u001b[39;49m\u001b[38;5;241;43m.\u001b[39;49m\u001b[43mrandom_state\u001b[49m\n\u001b[0;32m   1771\u001b[0m \u001b[43m        \u001b[49m\u001b[43m)\u001b[49m\n\u001b[0;32m   1772\u001b[0m \u001b[43m    \u001b[49m\u001b[43m)\u001b[49m\n",
      "File \u001b[1;32m~\\anaconda3\\lib\\site-packages\\sklearn\\model_selection\\_search.py:821\u001b[0m, in \u001b[0;36mBaseSearchCV.fit.<locals>.evaluate_candidates\u001b[1;34m(candidate_params, cv, more_results)\u001b[0m\n\u001b[0;32m    813\u001b[0m \u001b[38;5;28;01mif\u001b[39;00m \u001b[38;5;28mself\u001b[39m\u001b[38;5;241m.\u001b[39mverbose \u001b[38;5;241m>\u001b[39m \u001b[38;5;241m0\u001b[39m:\n\u001b[0;32m    814\u001b[0m     \u001b[38;5;28mprint\u001b[39m(\n\u001b[0;32m    815\u001b[0m         \u001b[38;5;124m\"\u001b[39m\u001b[38;5;124mFitting \u001b[39m\u001b[38;5;132;01m{0}\u001b[39;00m\u001b[38;5;124m folds for each of \u001b[39m\u001b[38;5;132;01m{1}\u001b[39;00m\u001b[38;5;124m candidates,\u001b[39m\u001b[38;5;124m\"\u001b[39m\n\u001b[0;32m    816\u001b[0m         \u001b[38;5;124m\"\u001b[39m\u001b[38;5;124m totalling \u001b[39m\u001b[38;5;132;01m{2}\u001b[39;00m\u001b[38;5;124m fits\u001b[39m\u001b[38;5;124m\"\u001b[39m\u001b[38;5;241m.\u001b[39mformat(\n\u001b[0;32m    817\u001b[0m             n_splits, n_candidates, n_candidates \u001b[38;5;241m*\u001b[39m n_splits\n\u001b[0;32m    818\u001b[0m         )\n\u001b[0;32m    819\u001b[0m     )\n\u001b[1;32m--> 821\u001b[0m out \u001b[38;5;241m=\u001b[39m \u001b[43mparallel\u001b[49m\u001b[43m(\u001b[49m\n\u001b[0;32m    822\u001b[0m \u001b[43m    \u001b[49m\u001b[43mdelayed\u001b[49m\u001b[43m(\u001b[49m\u001b[43m_fit_and_score\u001b[49m\u001b[43m)\u001b[49m\u001b[43m(\u001b[49m\n\u001b[0;32m    823\u001b[0m \u001b[43m        \u001b[49m\u001b[43mclone\u001b[49m\u001b[43m(\u001b[49m\u001b[43mbase_estimator\u001b[49m\u001b[43m)\u001b[49m\u001b[43m,\u001b[49m\n\u001b[0;32m    824\u001b[0m \u001b[43m        \u001b[49m\u001b[43mX\u001b[49m\u001b[43m,\u001b[49m\n\u001b[0;32m    825\u001b[0m \u001b[43m        \u001b[49m\u001b[43my\u001b[49m\u001b[43m,\u001b[49m\n\u001b[0;32m    826\u001b[0m \u001b[43m        \u001b[49m\u001b[43mtrain\u001b[49m\u001b[38;5;241;43m=\u001b[39;49m\u001b[43mtrain\u001b[49m\u001b[43m,\u001b[49m\n\u001b[0;32m    827\u001b[0m \u001b[43m        \u001b[49m\u001b[43mtest\u001b[49m\u001b[38;5;241;43m=\u001b[39;49m\u001b[43mtest\u001b[49m\u001b[43m,\u001b[49m\n\u001b[0;32m    828\u001b[0m \u001b[43m        \u001b[49m\u001b[43mparameters\u001b[49m\u001b[38;5;241;43m=\u001b[39;49m\u001b[43mparameters\u001b[49m\u001b[43m,\u001b[49m\n\u001b[0;32m    829\u001b[0m \u001b[43m        \u001b[49m\u001b[43msplit_progress\u001b[49m\u001b[38;5;241;43m=\u001b[39;49m\u001b[43m(\u001b[49m\u001b[43msplit_idx\u001b[49m\u001b[43m,\u001b[49m\u001b[43m \u001b[49m\u001b[43mn_splits\u001b[49m\u001b[43m)\u001b[49m\u001b[43m,\u001b[49m\n\u001b[0;32m    830\u001b[0m \u001b[43m        \u001b[49m\u001b[43mcandidate_progress\u001b[49m\u001b[38;5;241;43m=\u001b[39;49m\u001b[43m(\u001b[49m\u001b[43mcand_idx\u001b[49m\u001b[43m,\u001b[49m\u001b[43m \u001b[49m\u001b[43mn_candidates\u001b[49m\u001b[43m)\u001b[49m\u001b[43m,\u001b[49m\n\u001b[0;32m    831\u001b[0m \u001b[43m        \u001b[49m\u001b[38;5;241;43m*\u001b[39;49m\u001b[38;5;241;43m*\u001b[39;49m\u001b[43mfit_and_score_kwargs\u001b[49m\u001b[43m,\u001b[49m\n\u001b[0;32m    832\u001b[0m \u001b[43m    \u001b[49m\u001b[43m)\u001b[49m\n\u001b[0;32m    833\u001b[0m \u001b[43m    \u001b[49m\u001b[38;5;28;43;01mfor\u001b[39;49;00m\u001b[43m \u001b[49m\u001b[43m(\u001b[49m\u001b[43mcand_idx\u001b[49m\u001b[43m,\u001b[49m\u001b[43m \u001b[49m\u001b[43mparameters\u001b[49m\u001b[43m)\u001b[49m\u001b[43m,\u001b[49m\u001b[43m \u001b[49m\u001b[43m(\u001b[49m\u001b[43msplit_idx\u001b[49m\u001b[43m,\u001b[49m\u001b[43m \u001b[49m\u001b[43m(\u001b[49m\u001b[43mtrain\u001b[49m\u001b[43m,\u001b[49m\u001b[43m \u001b[49m\u001b[43mtest\u001b[49m\u001b[43m)\u001b[49m\u001b[43m)\u001b[49m\u001b[43m \u001b[49m\u001b[38;5;129;43;01min\u001b[39;49;00m\u001b[43m \u001b[49m\u001b[43mproduct\u001b[49m\u001b[43m(\u001b[49m\n\u001b[0;32m    834\u001b[0m \u001b[43m        \u001b[49m\u001b[38;5;28;43menumerate\u001b[39;49m\u001b[43m(\u001b[49m\u001b[43mcandidate_params\u001b[49m\u001b[43m)\u001b[49m\u001b[43m,\u001b[49m\u001b[43m \u001b[49m\u001b[38;5;28;43menumerate\u001b[39;49m\u001b[43m(\u001b[49m\u001b[43mcv\u001b[49m\u001b[38;5;241;43m.\u001b[39;49m\u001b[43msplit\u001b[49m\u001b[43m(\u001b[49m\u001b[43mX\u001b[49m\u001b[43m,\u001b[49m\u001b[43m \u001b[49m\u001b[43my\u001b[49m\u001b[43m,\u001b[49m\u001b[43m \u001b[49m\u001b[43mgroups\u001b[49m\u001b[43m)\u001b[49m\u001b[43m)\u001b[49m\n\u001b[0;32m    835\u001b[0m \u001b[43m    \u001b[49m\u001b[43m)\u001b[49m\n\u001b[0;32m    836\u001b[0m \u001b[43m\u001b[49m\u001b[43m)\u001b[49m\n\u001b[0;32m    838\u001b[0m \u001b[38;5;28;01mif\u001b[39;00m \u001b[38;5;28mlen\u001b[39m(out) \u001b[38;5;241m<\u001b[39m \u001b[38;5;241m1\u001b[39m:\n\u001b[0;32m    839\u001b[0m     \u001b[38;5;28;01mraise\u001b[39;00m \u001b[38;5;167;01mValueError\u001b[39;00m(\n\u001b[0;32m    840\u001b[0m         \u001b[38;5;124m\"\u001b[39m\u001b[38;5;124mNo fits were performed. \u001b[39m\u001b[38;5;124m\"\u001b[39m\n\u001b[0;32m    841\u001b[0m         \u001b[38;5;124m\"\u001b[39m\u001b[38;5;124mWas the CV iterator empty? \u001b[39m\u001b[38;5;124m\"\u001b[39m\n\u001b[0;32m    842\u001b[0m         \u001b[38;5;124m\"\u001b[39m\u001b[38;5;124mWere there no candidates?\u001b[39m\u001b[38;5;124m\"\u001b[39m\n\u001b[0;32m    843\u001b[0m     )\n",
      "File \u001b[1;32m~\\anaconda3\\lib\\site-packages\\sklearn\\utils\\parallel.py:63\u001b[0m, in \u001b[0;36mParallel.__call__\u001b[1;34m(self, iterable)\u001b[0m\n\u001b[0;32m     58\u001b[0m config \u001b[38;5;241m=\u001b[39m get_config()\n\u001b[0;32m     59\u001b[0m iterable_with_config \u001b[38;5;241m=\u001b[39m (\n\u001b[0;32m     60\u001b[0m     (_with_config(delayed_func, config), args, kwargs)\n\u001b[0;32m     61\u001b[0m     \u001b[38;5;28;01mfor\u001b[39;00m delayed_func, args, kwargs \u001b[38;5;129;01min\u001b[39;00m iterable\n\u001b[0;32m     62\u001b[0m )\n\u001b[1;32m---> 63\u001b[0m \u001b[38;5;28;01mreturn\u001b[39;00m \u001b[38;5;28;43msuper\u001b[39;49m\u001b[43m(\u001b[49m\u001b[43m)\u001b[49m\u001b[38;5;241;43m.\u001b[39;49m\u001b[38;5;21;43m__call__\u001b[39;49m\u001b[43m(\u001b[49m\u001b[43miterable_with_config\u001b[49m\u001b[43m)\u001b[49m\n",
      "File \u001b[1;32m~\\anaconda3\\lib\\site-packages\\joblib\\parallel.py:1061\u001b[0m, in \u001b[0;36mParallel.__call__\u001b[1;34m(self, iterable)\u001b[0m\n\u001b[0;32m   1058\u001b[0m     \u001b[38;5;28mself\u001b[39m\u001b[38;5;241m.\u001b[39m_iterating \u001b[38;5;241m=\u001b[39m \u001b[38;5;28;01mFalse\u001b[39;00m\n\u001b[0;32m   1060\u001b[0m \u001b[38;5;28;01mwith\u001b[39;00m \u001b[38;5;28mself\u001b[39m\u001b[38;5;241m.\u001b[39m_backend\u001b[38;5;241m.\u001b[39mretrieval_context():\n\u001b[1;32m-> 1061\u001b[0m     \u001b[38;5;28;43mself\u001b[39;49m\u001b[38;5;241;43m.\u001b[39;49m\u001b[43mretrieve\u001b[49m\u001b[43m(\u001b[49m\u001b[43m)\u001b[49m\n\u001b[0;32m   1062\u001b[0m \u001b[38;5;66;03m# Make sure that we get a last message telling us we are done\u001b[39;00m\n\u001b[0;32m   1063\u001b[0m elapsed_time \u001b[38;5;241m=\u001b[39m time\u001b[38;5;241m.\u001b[39mtime() \u001b[38;5;241m-\u001b[39m \u001b[38;5;28mself\u001b[39m\u001b[38;5;241m.\u001b[39m_start_time\n",
      "File \u001b[1;32m~\\anaconda3\\lib\\site-packages\\joblib\\parallel.py:938\u001b[0m, in \u001b[0;36mParallel.retrieve\u001b[1;34m(self)\u001b[0m\n\u001b[0;32m    936\u001b[0m \u001b[38;5;28;01mtry\u001b[39;00m:\n\u001b[0;32m    937\u001b[0m     \u001b[38;5;28;01mif\u001b[39;00m \u001b[38;5;28mgetattr\u001b[39m(\u001b[38;5;28mself\u001b[39m\u001b[38;5;241m.\u001b[39m_backend, \u001b[38;5;124m'\u001b[39m\u001b[38;5;124msupports_timeout\u001b[39m\u001b[38;5;124m'\u001b[39m, \u001b[38;5;28;01mFalse\u001b[39;00m):\n\u001b[1;32m--> 938\u001b[0m         \u001b[38;5;28mself\u001b[39m\u001b[38;5;241m.\u001b[39m_output\u001b[38;5;241m.\u001b[39mextend(\u001b[43mjob\u001b[49m\u001b[38;5;241;43m.\u001b[39;49m\u001b[43mget\u001b[49m\u001b[43m(\u001b[49m\u001b[43mtimeout\u001b[49m\u001b[38;5;241;43m=\u001b[39;49m\u001b[38;5;28;43mself\u001b[39;49m\u001b[38;5;241;43m.\u001b[39;49m\u001b[43mtimeout\u001b[49m\u001b[43m)\u001b[49m)\n\u001b[0;32m    939\u001b[0m     \u001b[38;5;28;01melse\u001b[39;00m:\n\u001b[0;32m    940\u001b[0m         \u001b[38;5;28mself\u001b[39m\u001b[38;5;241m.\u001b[39m_output\u001b[38;5;241m.\u001b[39mextend(job\u001b[38;5;241m.\u001b[39mget())\n",
      "File \u001b[1;32m~\\anaconda3\\lib\\site-packages\\joblib\\_parallel_backends.py:542\u001b[0m, in \u001b[0;36mLokyBackend.wrap_future_result\u001b[1;34m(future, timeout)\u001b[0m\n\u001b[0;32m    539\u001b[0m \u001b[38;5;124;03m\"\"\"Wrapper for Future.result to implement the same behaviour as\u001b[39;00m\n\u001b[0;32m    540\u001b[0m \u001b[38;5;124;03mAsyncResults.get from multiprocessing.\"\"\"\u001b[39;00m\n\u001b[0;32m    541\u001b[0m \u001b[38;5;28;01mtry\u001b[39;00m:\n\u001b[1;32m--> 542\u001b[0m     \u001b[38;5;28;01mreturn\u001b[39;00m \u001b[43mfuture\u001b[49m\u001b[38;5;241;43m.\u001b[39;49m\u001b[43mresult\u001b[49m\u001b[43m(\u001b[49m\u001b[43mtimeout\u001b[49m\u001b[38;5;241;43m=\u001b[39;49m\u001b[43mtimeout\u001b[49m\u001b[43m)\u001b[49m\n\u001b[0;32m    543\u001b[0m \u001b[38;5;28;01mexcept\u001b[39;00m CfTimeoutError \u001b[38;5;28;01mas\u001b[39;00m e:\n\u001b[0;32m    544\u001b[0m     \u001b[38;5;28;01mraise\u001b[39;00m \u001b[38;5;167;01mTimeoutError\u001b[39;00m \u001b[38;5;28;01mfrom\u001b[39;00m \u001b[38;5;21;01me\u001b[39;00m\n",
      "File \u001b[1;32m~\\anaconda3\\lib\\concurrent\\futures\\_base.py:453\u001b[0m, in \u001b[0;36mFuture.result\u001b[1;34m(self, timeout)\u001b[0m\n\u001b[0;32m    450\u001b[0m \u001b[38;5;28;01melif\u001b[39;00m \u001b[38;5;28mself\u001b[39m\u001b[38;5;241m.\u001b[39m_state \u001b[38;5;241m==\u001b[39m FINISHED:\n\u001b[0;32m    451\u001b[0m     \u001b[38;5;28;01mreturn\u001b[39;00m \u001b[38;5;28mself\u001b[39m\u001b[38;5;241m.\u001b[39m__get_result()\n\u001b[1;32m--> 453\u001b[0m \u001b[38;5;28;43mself\u001b[39;49m\u001b[38;5;241;43m.\u001b[39;49m\u001b[43m_condition\u001b[49m\u001b[38;5;241;43m.\u001b[39;49m\u001b[43mwait\u001b[49m\u001b[43m(\u001b[49m\u001b[43mtimeout\u001b[49m\u001b[43m)\u001b[49m\n\u001b[0;32m    455\u001b[0m \u001b[38;5;28;01mif\u001b[39;00m \u001b[38;5;28mself\u001b[39m\u001b[38;5;241m.\u001b[39m_state \u001b[38;5;129;01min\u001b[39;00m [CANCELLED, CANCELLED_AND_NOTIFIED]:\n\u001b[0;32m    456\u001b[0m     \u001b[38;5;28;01mraise\u001b[39;00m CancelledError()\n",
      "File \u001b[1;32m~\\anaconda3\\lib\\threading.py:320\u001b[0m, in \u001b[0;36mCondition.wait\u001b[1;34m(self, timeout)\u001b[0m\n\u001b[0;32m    318\u001b[0m \u001b[38;5;28;01mtry\u001b[39;00m:    \u001b[38;5;66;03m# restore state no matter what (e.g., KeyboardInterrupt)\u001b[39;00m\n\u001b[0;32m    319\u001b[0m     \u001b[38;5;28;01mif\u001b[39;00m timeout \u001b[38;5;129;01mis\u001b[39;00m \u001b[38;5;28;01mNone\u001b[39;00m:\n\u001b[1;32m--> 320\u001b[0m         \u001b[43mwaiter\u001b[49m\u001b[38;5;241;43m.\u001b[39;49m\u001b[43macquire\u001b[49m\u001b[43m(\u001b[49m\u001b[43m)\u001b[49m\n\u001b[0;32m    321\u001b[0m         gotit \u001b[38;5;241m=\u001b[39m \u001b[38;5;28;01mTrue\u001b[39;00m\n\u001b[0;32m    322\u001b[0m     \u001b[38;5;28;01melse\u001b[39;00m:\n",
      "\u001b[1;31mKeyboardInterrupt\u001b[0m: "
     ]
    }
   ],
   "source": [
    "# Dirctory of where you want to write/read these models\n",
    "generic_ML_dir = r'C:\\Users\\61407\\mental-health-modelling\\fNIRS Mental Workload\\final_models\\generic'\n",
    "\n",
    "for bucket, (test, train) in enumerate(zip(test_buckets, train_buckets)):\n",
    "    print(f'Bucket {bucket}:\\n{\"*\"*120}')\n",
    "    \n",
    "    # Name of the model to save\n",
    "    fname = f'generic_ML_bucket{bucket}_{structure_suffix}_{generic_suffix}_{label_suffix}.pkl'\n",
    "    \n",
    "    # Check if model already exists\n",
    "    if fname in os.listdir(generic_ML_dir):\n",
    "        print(f'Already exists!\\n{\"*\"*120}\\n')\n",
    "    else:\n",
    "    \n",
    "        # Data partitioning\n",
    "        print('partitioning...')\n",
    "        X_train, X_test = chunked_data[chunked_data.index.get_level_values('subject').isin(train)], chunked_data[chunked_data.index.get_level_values('subject').isin(test)]\n",
    "        y_train, y_test = chunked_labels[chunked_labels.index.get_level_values('subject').isin(train)], chunked_labels[chunked_labels.index.get_level_values('subject').isin(test)]\n",
    "        print('...complete!\\n')\n",
    "\n",
    "        # Iterate through different pipelines\n",
    "        pipeline_results = {}\n",
    "        for name, pipe in pipelines.items():\n",
    "            pipe_clf = pipe[-1] \n",
    "\n",
    "            if isinstance(pipe_clf, KNeighborsClassifier):\n",
    "                param_dist = knn_params\n",
    "            elif isinstance(pipe_clf, RandomForestClassifier):\n",
    "                param_dist = rf_params\n",
    "            elif isinstance(pipe_clf, SVC):\n",
    "                param_dist = svc_params\n",
    "            else:\n",
    "                print('classifier instance unknown')\n",
    "                break\n",
    "\n",
    "            # Set up randomized search CV\n",
    "            random_search = RandomizedSearchCV(\n",
    "            pipe,  # The pipeline containing the classifier and other steps\n",
    "            param_distributions=param_dist,  # The hyperparameter search space\n",
    "            n_iter=15,  # Number of parameter settings to sample\n",
    "            cv=3,  # Number of cross-validation folds\n",
    "            scoring='accuracy',  # Scoring metric\n",
    "            random_state=42,  # Random state for reproducibility\n",
    "            verbose=2,\n",
    "            n_jobs=-1  # Number of CPU cores to use (set to -2 to use all available but one)\n",
    "            )\n",
    "\n",
    "            # Fit the RandomizedSearchCV object to the data\n",
    "            print(f'{name}...\\n{pipe.steps}\\n')\n",
    "            random_search.fit(X_train.to_numpy(), y_train.to_numpy())\n",
    "\n",
    "            # Get the best hyperparameters and the corresponding estimator\n",
    "            best_params = random_search.best_params_\n",
    "            best_estimator = random_search.best_estimator_\n",
    "\n",
    "            # Print the best hyperparameters for the current pipeline\n",
    "            print(\"Best hyperparameters:\", best_params)\n",
    "\n",
    "            # Print the average validation accuracy for best hyperparameters\n",
    "            avg_val = round(random_search.best_score_,3)\n",
    "            print(f'Average validation accuracy: {avg_val}')\n",
    "\n",
    "            # Get predictions on test data\n",
    "            predictions = {}\n",
    "            for sub in y_test.index.get_level_values('subject').unique():\n",
    "                X_sub = X_test[X_test.index.get_level_values('subject') == sub].to_numpy()\n",
    "                y_sub = y_test[y_test.index.get_level_values('subject') ==  sub].to_numpy()\n",
    "                sub_predictions = best_estimator.predict(X_sub)\n",
    "                predictions[sub] = {'ytrue':y_sub, 'ypred':sub_predictions}\n",
    "            \n",
    "            # Score test predictions\n",
    "            test_score = round(best_estimator.score(X_test.to_numpy(), y_test.to_numpy()),3)\n",
    "            print(f'Test accuracy: {test_score}')\n",
    "\n",
    "            # Add random search object for current pipeline to dictionary\n",
    "            pipeline_results[name] = {}\n",
    "            pipeline_results[name]['predictions'] = predictions\n",
    "            pipeline_results[name]['test_score'] = test_score\n",
    "            pipeline_results[name]['rcv'] = random_search\n",
    "        \n",
    "        # Save bucket pipelines\n",
    "        with open(os.path.join(generic_ML_dir, fname), 'wb') as file:\n",
    "            pickle.dump(pipeline_results, file)\n",
    "        print(f'{\"*\"*120}\\n')"
   ]
  },
  {
   "cell_type": "markdown",
   "id": "f666a3f0",
   "metadata": {},
   "source": [
    "## 5. Same as 4. but for subject-by-subject paradigm ##"
   ]
  },
  {
   "cell_type": "code",
   "execution_count": 109,
   "id": "33ab6fea",
   "metadata": {},
   "outputs": [
    {
     "name": "stdout",
     "output_type": "stream",
     "text": [
      "sub_1:\n",
      "************************************************************************************************************************\n",
      "partitioning...\n",
      "...complete!\n",
      "\n",
      "Pipeline_1...\n",
      "[('normalization', StandardScaler()), ('dim_reduce', PCA(n_components=0.9)), ('clf', SVC())]\n",
      "\n",
      "Fitting 3 folds for each of 15 candidates, totalling 45 fits\n",
      "Best hyperparameters: {'clf__kernel': 'poly', 'clf__gamma': 'auto', 'clf__degree': 3, 'clf__coef0': 2.0, 'clf__C': 0.1}\n",
      "Average validation accuracy: 0.75\n",
      "Test accuracy: 1.0\n",
      "Pipeline_2...\n",
      "[('normalization', StandardScaler()), ('dim_reduce', PCA(n_components=0.9)), ('clf', RandomForestClassifier())]\n",
      "\n",
      "Fitting 3 folds for each of 15 candidates, totalling 45 fits\n",
      "Best hyperparameters: {'clf__n_estimators': 100, 'clf__min_samples_split': 10, 'clf__min_samples_leaf': 1, 'clf__max_features': 'sqrt', 'clf__max_depth': 20, 'clf__bootstrap': False}\n",
      "Average validation accuracy: 0.75\n",
      "Test accuracy: 0.875\n",
      "Pipeline_3...\n",
      "[('normalization', StandardScaler()), ('dim_reduce', PCA(n_components=0.9)), ('clf', KNeighborsClassifier())]\n",
      "\n",
      "Fitting 3 folds for each of 15 candidates, totalling 45 fits\n",
      "Best hyperparameters: {'clf__weights': 'uniform', 'clf__p': 2, 'clf__n_neighbors': 10, 'clf__algorithm': 'brute'}\n",
      "Average validation accuracy: 0.75\n",
      "Test accuracy: 1.0\n",
      "Pipeline_4...\n",
      "[('normalization', StandardScaler()), ('dim_reduce', FeatureAgglomeration(n_clusters=4)), ('clf', SVC())]\n",
      "\n",
      "Fitting 3 folds for each of 15 candidates, totalling 45 fits\n"
     ]
    },
    {
     "name": "stderr",
     "output_type": "stream",
     "text": [
      "C:\\Users\\61407\\anaconda3\\lib\\site-packages\\sklearn\\model_selection\\_search.py:952: UserWarning: One or more of the test scores are non-finite: [0.70833333 0.75       0.66666667        nan 0.70833333 0.70833333\n",
      " 0.66666667        nan 0.75              nan 0.75       0.75\n",
      " 0.75              nan 0.625     ]\n",
      "  warnings.warn(\n"
     ]
    },
    {
     "name": "stdout",
     "output_type": "stream",
     "text": [
      "Best hyperparameters: {'clf__kernel': 'poly', 'clf__gamma': 'scale', 'clf__degree': 3, 'clf__coef0': 2.0, 'clf__C': 10}\n",
      "Average validation accuracy: 0.917\n",
      "Test accuracy: 1.0\n",
      "Pipeline_5...\n",
      "[('normalization', StandardScaler()), ('dim_reduce', FeatureAgglomeration(n_clusters=4)), ('clf', RandomForestClassifier())]\n",
      "\n",
      "Fitting 3 folds for each of 15 candidates, totalling 45 fits\n",
      "Best hyperparameters: {'clf__n_estimators': 50, 'clf__min_samples_split': 10, 'clf__min_samples_leaf': 2, 'clf__max_features': 'log2', 'clf__max_depth': 30, 'clf__bootstrap': True}\n",
      "Average validation accuracy: 0.792\n",
      "Test accuracy: 1.0\n",
      "Pipeline_6...\n",
      "[('normalization', StandardScaler()), ('dim_reduce', FeatureAgglomeration(n_clusters=4)), ('clf', KNeighborsClassifier())]\n",
      "\n",
      "Fitting 3 folds for each of 15 candidates, totalling 45 fits\n",
      "Best hyperparameters: {'clf__weights': 'uniform', 'clf__p': 1, 'clf__n_neighbors': 3, 'clf__algorithm': 'auto'}\n",
      "Average validation accuracy: 0.875\n",
      "Test accuracy: 1.0\n",
      "************************************************************************************************************************\n",
      "\n",
      "sub_13:\n",
      "************************************************************************************************************************\n",
      "partitioning...\n",
      "...complete!\n",
      "\n",
      "Pipeline_1...\n",
      "[('normalization', StandardScaler()), ('dim_reduce', PCA(n_components=0.9)), ('clf', SVC())]\n",
      "\n",
      "Fitting 3 folds for each of 15 candidates, totalling 45 fits\n"
     ]
    },
    {
     "name": "stderr",
     "output_type": "stream",
     "text": [
      "C:\\Users\\61407\\anaconda3\\lib\\site-packages\\sklearn\\model_selection\\_search.py:952: UserWarning: One or more of the test scores are non-finite: [0.79166667 0.75       0.875             nan 0.79166667 0.79166667\n",
      " 0.875             nan 0.75              nan 0.75       0.75\n",
      " 0.75              nan 0.79166667]\n",
      "  warnings.warn(\n"
     ]
    },
    {
     "name": "stdout",
     "output_type": "stream",
     "text": [
      "Best hyperparameters: {'clf__kernel': 'poly', 'clf__gamma': 'auto', 'clf__degree': 3, 'clf__coef0': 2.0, 'clf__C': 0.1}\n",
      "Average validation accuracy: 0.667\n",
      "Test accuracy: 0.5\n",
      "Pipeline_2...\n",
      "[('normalization', StandardScaler()), ('dim_reduce', PCA(n_components=0.9)), ('clf', RandomForestClassifier())]\n",
      "\n",
      "Fitting 3 folds for each of 15 candidates, totalling 45 fits\n",
      "Best hyperparameters: {'clf__n_estimators': 200, 'clf__min_samples_split': 5, 'clf__min_samples_leaf': 2, 'clf__max_features': None, 'clf__max_depth': 10, 'clf__bootstrap': False}\n",
      "Average validation accuracy: 0.583\n",
      "Test accuracy: 0.375\n",
      "Pipeline_3...\n",
      "[('normalization', StandardScaler()), ('dim_reduce', PCA(n_components=0.9)), ('clf', KNeighborsClassifier())]\n",
      "\n",
      "Fitting 3 folds for each of 15 candidates, totalling 45 fits\n",
      "Best hyperparameters: {'clf__weights': 'uniform', 'clf__p': 1, 'clf__n_neighbors': 5, 'clf__algorithm': 'brute'}\n",
      "Average validation accuracy: 0.625\n",
      "Test accuracy: 0.5\n",
      "Pipeline_4...\n",
      "[('normalization', StandardScaler()), ('dim_reduce', FeatureAgglomeration(n_clusters=4)), ('clf', SVC())]\n",
      "\n",
      "Fitting 3 folds for each of 15 candidates, totalling 45 fits\n"
     ]
    },
    {
     "name": "stderr",
     "output_type": "stream",
     "text": [
      "C:\\Users\\61407\\anaconda3\\lib\\site-packages\\sklearn\\model_selection\\_search.py:952: UserWarning: One or more of the test scores are non-finite: [0.625      0.58333333 0.54166667        nan 0.625      0.625\n",
      " 0.54166667        nan 0.54166667        nan 0.58333333 0.54166667\n",
      " 0.58333333        nan 0.58333333]\n",
      "  warnings.warn(\n"
     ]
    },
    {
     "name": "stdout",
     "output_type": "stream",
     "text": [
      "Best hyperparameters: {'clf__kernel': 'poly', 'clf__gamma': 0.1, 'clf__degree': 2, 'clf__coef0': 1.0, 'clf__C': 10}\n",
      "Average validation accuracy: 0.625\n",
      "Test accuracy: 0.5\n",
      "Pipeline_5...\n",
      "[('normalization', StandardScaler()), ('dim_reduce', FeatureAgglomeration(n_clusters=4)), ('clf', RandomForestClassifier())]\n",
      "\n",
      "Fitting 3 folds for each of 15 candidates, totalling 45 fits\n",
      "Best hyperparameters: {'clf__n_estimators': 50, 'clf__min_samples_split': 2, 'clf__min_samples_leaf': 4, 'clf__max_features': 'log2', 'clf__max_depth': 20, 'clf__bootstrap': False}\n",
      "Average validation accuracy: 0.625\n",
      "Test accuracy: 0.25\n",
      "Pipeline_6...\n",
      "[('normalization', StandardScaler()), ('dim_reduce', FeatureAgglomeration(n_clusters=4)), ('clf', KNeighborsClassifier())]\n",
      "\n",
      "Fitting 3 folds for each of 15 candidates, totalling 45 fits\n",
      "Best hyperparameters: {'clf__weights': 'uniform', 'clf__p': 1, 'clf__n_neighbors': 5, 'clf__algorithm': 'brute'}\n",
      "Average validation accuracy: 0.625\n",
      "Test accuracy: 0.375\n",
      "************************************************************************************************************************\n",
      "\n",
      "sub_14:\n",
      "************************************************************************************************************************\n",
      "partitioning...\n",
      "...complete!\n",
      "\n",
      "Pipeline_1...\n",
      "[('normalization', StandardScaler()), ('dim_reduce', PCA(n_components=0.9)), ('clf', SVC())]\n",
      "\n",
      "Fitting 3 folds for each of 15 candidates, totalling 45 fits\n"
     ]
    },
    {
     "name": "stderr",
     "output_type": "stream",
     "text": [
      "C:\\Users\\61407\\anaconda3\\lib\\site-packages\\sklearn\\model_selection\\_search.py:952: UserWarning: One or more of the test scores are non-finite: [0.625      0.58333333 0.625             nan 0.625      0.625\n",
      " 0.625             nan 0.54166667        nan 0.54166667 0.54166667\n",
      " 0.54166667        nan 0.58333333]\n",
      "  warnings.warn(\n"
     ]
    },
    {
     "name": "stdout",
     "output_type": "stream",
     "text": [
      "Best hyperparameters: {'clf__kernel': 'linear', 'clf__gamma': 'scale', 'clf__degree': 3, 'clf__coef0': 2.0, 'clf__C': 10}\n",
      "Average validation accuracy: 0.708\n",
      "Test accuracy: 0.625\n",
      "Pipeline_2...\n",
      "[('normalization', StandardScaler()), ('dim_reduce', PCA(n_components=0.9)), ('clf', RandomForestClassifier())]\n",
      "\n",
      "Fitting 3 folds for each of 15 candidates, totalling 45 fits\n",
      "Best hyperparameters: {'clf__n_estimators': 200, 'clf__min_samples_split': 2, 'clf__min_samples_leaf': 1, 'clf__max_features': None, 'clf__max_depth': 20, 'clf__bootstrap': True}\n",
      "Average validation accuracy: 0.708\n",
      "Test accuracy: 0.75\n",
      "Pipeline_3...\n",
      "[('normalization', StandardScaler()), ('dim_reduce', PCA(n_components=0.9)), ('clf', KNeighborsClassifier())]\n",
      "\n",
      "Fitting 3 folds for each of 15 candidates, totalling 45 fits\n",
      "Best hyperparameters: {'clf__weights': 'uniform', 'clf__p': 2, 'clf__n_neighbors': 10, 'clf__algorithm': 'brute'}\n",
      "Average validation accuracy: 0.667\n",
      "Test accuracy: 0.5\n",
      "Pipeline_4...\n",
      "[('normalization', StandardScaler()), ('dim_reduce', FeatureAgglomeration(n_clusters=4)), ('clf', SVC())]\n",
      "\n",
      "Fitting 3 folds for each of 15 candidates, totalling 45 fits\n"
     ]
    },
    {
     "name": "stderr",
     "output_type": "stream",
     "text": [
      "C:\\Users\\61407\\anaconda3\\lib\\site-packages\\sklearn\\model_selection\\_search.py:952: UserWarning: One or more of the test scores are non-finite: [0.58333333 0.66666667 0.58333333        nan 0.625      0.58333333\n",
      " 0.58333333        nan 0.625             nan 0.58333333 0.625\n",
      " 0.58333333        nan 0.625     ]\n",
      "  warnings.warn(\n"
     ]
    },
    {
     "name": "stdout",
     "output_type": "stream",
     "text": [
      "Best hyperparameters: {'clf__kernel': 'poly', 'clf__gamma': 'scale', 'clf__degree': 3, 'clf__coef0': 1.0, 'clf__C': 100}\n",
      "Average validation accuracy: 0.75\n",
      "Test accuracy: 0.875\n",
      "Pipeline_5...\n",
      "[('normalization', StandardScaler()), ('dim_reduce', FeatureAgglomeration(n_clusters=4)), ('clf', RandomForestClassifier())]\n",
      "\n",
      "Fitting 3 folds for each of 15 candidates, totalling 45 fits\n",
      "Best hyperparameters: {'clf__n_estimators': 100, 'clf__min_samples_split': 10, 'clf__min_samples_leaf': 1, 'clf__max_features': 'sqrt', 'clf__max_depth': 20, 'clf__bootstrap': False}\n",
      "Average validation accuracy: 0.583\n",
      "Test accuracy: 0.75\n",
      "Pipeline_6...\n",
      "[('normalization', StandardScaler()), ('dim_reduce', FeatureAgglomeration(n_clusters=4)), ('clf', KNeighborsClassifier())]\n",
      "\n",
      "Fitting 3 folds for each of 15 candidates, totalling 45 fits\n",
      "Best hyperparameters: {'clf__weights': 'uniform', 'clf__p': 1, 'clf__n_neighbors': 3, 'clf__algorithm': 'auto'}\n",
      "Average validation accuracy: 0.708\n",
      "Test accuracy: 0.75\n",
      "************************************************************************************************************************\n",
      "\n",
      "sub_15:\n",
      "************************************************************************************************************************\n",
      "partitioning...\n",
      "...complete!\n",
      "\n",
      "Pipeline_1...\n",
      "[('normalization', StandardScaler()), ('dim_reduce', PCA(n_components=0.9)), ('clf', SVC())]\n",
      "\n",
      "Fitting 3 folds for each of 15 candidates, totalling 45 fits\n"
     ]
    },
    {
     "name": "stderr",
     "output_type": "stream",
     "text": [
      "C:\\Users\\61407\\anaconda3\\lib\\site-packages\\sklearn\\model_selection\\_search.py:952: UserWarning: One or more of the test scores are non-finite: [0.58333333 0.54166667 0.70833333        nan 0.5        0.58333333\n",
      " 0.70833333        nan 0.5               nan 0.45833333 0.5\n",
      " 0.45833333        nan 0.625     ]\n",
      "  warnings.warn(\n"
     ]
    },
    {
     "name": "stdout",
     "output_type": "stream",
     "text": [
      "Best hyperparameters: {'clf__kernel': 'sigmoid', 'clf__gamma': 1, 'clf__degree': 2, 'clf__coef0': 0.0, 'clf__C': 100}\n",
      "Average validation accuracy: 0.542\n",
      "Test accuracy: 0.625\n",
      "Pipeline_2...\n",
      "[('normalization', StandardScaler()), ('dim_reduce', PCA(n_components=0.9)), ('clf', RandomForestClassifier())]\n",
      "\n",
      "Fitting 3 folds for each of 15 candidates, totalling 45 fits\n",
      "Best hyperparameters: {'clf__n_estimators': 200, 'clf__min_samples_split': 2, 'clf__min_samples_leaf': 1, 'clf__max_features': None, 'clf__max_depth': 20, 'clf__bootstrap': True}\n",
      "Average validation accuracy: 0.333\n",
      "Test accuracy: 0.5\n",
      "Pipeline_3...\n",
      "[('normalization', StandardScaler()), ('dim_reduce', PCA(n_components=0.9)), ('clf', KNeighborsClassifier())]\n",
      "\n",
      "Fitting 3 folds for each of 15 candidates, totalling 45 fits\n",
      "Best hyperparameters: {'clf__weights': 'uniform', 'clf__p': 1, 'clf__n_neighbors': 10, 'clf__algorithm': 'brute'}\n",
      "Average validation accuracy: 0.458\n",
      "Test accuracy: 0.625\n",
      "Pipeline_4...\n",
      "[('normalization', StandardScaler()), ('dim_reduce', FeatureAgglomeration(n_clusters=4)), ('clf', SVC())]\n",
      "\n",
      "Fitting 3 folds for each of 15 candidates, totalling 45 fits\n"
     ]
    },
    {
     "name": "stderr",
     "output_type": "stream",
     "text": [
      "C:\\Users\\61407\\anaconda3\\lib\\site-packages\\sklearn\\model_selection\\_search.py:952: UserWarning: One or more of the test scores are non-finite: [0.33333333 0.41666667 0.29166667        nan 0.29166667 0.33333333\n",
      " 0.29166667        nan 0.41666667        nan 0.45833333 0.41666667\n",
      " 0.45833333        nan 0.41666667]\n",
      "  warnings.warn(\n"
     ]
    },
    {
     "name": "stdout",
     "output_type": "stream",
     "text": [
      "Best hyperparameters: {'clf__kernel': 'sigmoid', 'clf__gamma': 'scale', 'clf__degree': 3, 'clf__coef0': 2.0, 'clf__C': 1}\n",
      "Average validation accuracy: 0.75\n",
      "Test accuracy: 0.75\n",
      "Pipeline_5...\n",
      "[('normalization', StandardScaler()), ('dim_reduce', FeatureAgglomeration(n_clusters=4)), ('clf', RandomForestClassifier())]\n",
      "\n",
      "Fitting 3 folds for each of 15 candidates, totalling 45 fits\n",
      "Best hyperparameters: {'clf__n_estimators': 50, 'clf__min_samples_split': 2, 'clf__min_samples_leaf': 2, 'clf__max_features': None, 'clf__max_depth': 10, 'clf__bootstrap': True}\n",
      "Average validation accuracy: 0.542\n",
      "Test accuracy: 0.75\n",
      "Pipeline_6...\n",
      "[('normalization', StandardScaler()), ('dim_reduce', FeatureAgglomeration(n_clusters=4)), ('clf', KNeighborsClassifier())]\n",
      "\n",
      "Fitting 3 folds for each of 15 candidates, totalling 45 fits\n",
      "Best hyperparameters: {'clf__weights': 'uniform', 'clf__p': 2, 'clf__n_neighbors': 10, 'clf__algorithm': 'brute'}\n",
      "Average validation accuracy: 0.458\n",
      "Test accuracy: 0.75\n",
      "************************************************************************************************************************\n",
      "\n",
      "sub_20:\n",
      "************************************************************************************************************************\n",
      "partitioning...\n",
      "...complete!\n",
      "\n",
      "Pipeline_1...\n",
      "[('normalization', StandardScaler()), ('dim_reduce', PCA(n_components=0.9)), ('clf', SVC())]\n",
      "\n",
      "Fitting 3 folds for each of 15 candidates, totalling 45 fits\n"
     ]
    },
    {
     "name": "stderr",
     "output_type": "stream",
     "text": [
      "C:\\Users\\61407\\anaconda3\\lib\\site-packages\\sklearn\\model_selection\\_search.py:952: UserWarning: One or more of the test scores are non-finite: [0.41666667 0.45833333 0.375             nan 0.41666667 0.41666667\n",
      " 0.375             nan 0.33333333        nan 0.45833333 0.33333333\n",
      " 0.45833333        nan 0.375     ]\n",
      "  warnings.warn(\n"
     ]
    },
    {
     "name": "stdout",
     "output_type": "stream",
     "text": [
      "Best hyperparameters: {'clf__kernel': 'poly', 'clf__gamma': 'scale', 'clf__degree': 3, 'clf__coef0': 1.0, 'clf__C': 100}\n",
      "Average validation accuracy: 0.75\n",
      "Test accuracy: 0.375\n",
      "Pipeline_2...\n",
      "[('normalization', StandardScaler()), ('dim_reduce', PCA(n_components=0.9)), ('clf', RandomForestClassifier())]\n",
      "\n",
      "Fitting 3 folds for each of 15 candidates, totalling 45 fits\n",
      "Best hyperparameters: {'clf__n_estimators': 200, 'clf__min_samples_split': 2, 'clf__min_samples_leaf': 1, 'clf__max_features': None, 'clf__max_depth': 20, 'clf__bootstrap': True}\n",
      "Average validation accuracy: 0.625\n",
      "Test accuracy: 0.75\n",
      "Pipeline_3...\n",
      "[('normalization', StandardScaler()), ('dim_reduce', PCA(n_components=0.9)), ('clf', KNeighborsClassifier())]\n",
      "\n",
      "Fitting 3 folds for each of 15 candidates, totalling 45 fits\n",
      "Best hyperparameters: {'clf__weights': 'uniform', 'clf__p': 1, 'clf__n_neighbors': 5, 'clf__algorithm': 'brute'}\n",
      "Average validation accuracy: 0.708\n",
      "Test accuracy: 0.375\n",
      "Pipeline_4...\n",
      "[('normalization', StandardScaler()), ('dim_reduce', FeatureAgglomeration(n_clusters=4)), ('clf', SVC())]\n",
      "\n",
      "Fitting 3 folds for each of 15 candidates, totalling 45 fits\n"
     ]
    },
    {
     "name": "stderr",
     "output_type": "stream",
     "text": [
      "C:\\Users\\61407\\anaconda3\\lib\\site-packages\\sklearn\\model_selection\\_search.py:952: UserWarning: One or more of the test scores are non-finite: [0.70833333 0.66666667 0.70833333        nan 0.70833333 0.70833333\n",
      " 0.70833333        nan 0.58333333        nan 0.625      0.58333333\n",
      " 0.625             nan 0.66666667]\n",
      "  warnings.warn(\n"
     ]
    },
    {
     "name": "stdout",
     "output_type": "stream",
     "text": [
      "Best hyperparameters: {'clf__kernel': 'poly', 'clf__gamma': 'scale', 'clf__degree': 3, 'clf__coef0': 1.0, 'clf__C': 100}\n",
      "Average validation accuracy: 0.667\n",
      "Test accuracy: 0.5\n",
      "Pipeline_5...\n",
      "[('normalization', StandardScaler()), ('dim_reduce', FeatureAgglomeration(n_clusters=4)), ('clf', RandomForestClassifier())]\n",
      "\n",
      "Fitting 3 folds for each of 15 candidates, totalling 45 fits\n"
     ]
    },
    {
     "name": "stderr",
     "output_type": "stream",
     "text": [
      "C:\\Users\\61407\\anaconda3\\lib\\site-packages\\sklearn\\ensemble\\_forest.py:424: FutureWarning: `max_features='auto'` has been deprecated in 1.1 and will be removed in 1.3. To keep the past behaviour, explicitly set `max_features='sqrt'` or remove this parameter as it is also the default value for RandomForestClassifiers and ExtraTreesClassifiers.\n",
      "  warn(\n"
     ]
    },
    {
     "name": "stdout",
     "output_type": "stream",
     "text": [
      "Best hyperparameters: {'clf__n_estimators': 200, 'clf__min_samples_split': 5, 'clf__min_samples_leaf': 4, 'clf__max_features': 'auto', 'clf__max_depth': None, 'clf__bootstrap': True}\n",
      "Average validation accuracy: 0.667\n",
      "Test accuracy: 0.625\n",
      "Pipeline_6...\n",
      "[('normalization', StandardScaler()), ('dim_reduce', FeatureAgglomeration(n_clusters=4)), ('clf', KNeighborsClassifier())]\n",
      "\n",
      "Fitting 3 folds for each of 15 candidates, totalling 45 fits\n",
      "Best hyperparameters: {'clf__weights': 'uniform', 'clf__p': 1, 'clf__n_neighbors': 5, 'clf__algorithm': 'brute'}\n",
      "Average validation accuracy: 0.667\n",
      "Test accuracy: 0.625\n",
      "************************************************************************************************************************\n",
      "\n",
      "sub_21:\n",
      "************************************************************************************************************************\n",
      "partitioning...\n",
      "...complete!\n",
      "\n",
      "Pipeline_1...\n",
      "[('normalization', StandardScaler()), ('dim_reduce', PCA(n_components=0.9)), ('clf', SVC())]\n",
      "\n",
      "Fitting 3 folds for each of 15 candidates, totalling 45 fits\n"
     ]
    },
    {
     "name": "stderr",
     "output_type": "stream",
     "text": [
      "C:\\Users\\61407\\anaconda3\\lib\\site-packages\\sklearn\\model_selection\\_search.py:952: UserWarning: One or more of the test scores are non-finite: [0.66666667 0.625      0.54166667        nan 0.625      0.66666667\n",
      " 0.54166667        nan 0.54166667        nan 0.58333333 0.54166667\n",
      " 0.58333333        nan 0.58333333]\n",
      "  warnings.warn(\n"
     ]
    },
    {
     "name": "stdout",
     "output_type": "stream",
     "text": [
      "Best hyperparameters: {'clf__kernel': 'sigmoid', 'clf__gamma': 1, 'clf__degree': 2, 'clf__coef0': 0.0, 'clf__C': 100}\n",
      "Average validation accuracy: 0.542\n",
      "Test accuracy: 0.875\n",
      "Pipeline_2...\n",
      "[('normalization', StandardScaler()), ('dim_reduce', PCA(n_components=0.9)), ('clf', RandomForestClassifier())]\n",
      "\n",
      "Fitting 3 folds for each of 15 candidates, totalling 45 fits\n",
      "Best hyperparameters: {'clf__n_estimators': 200, 'clf__min_samples_split': 5, 'clf__min_samples_leaf': 2, 'clf__max_features': None, 'clf__max_depth': 10, 'clf__bootstrap': False}\n",
      "Average validation accuracy: 0.542\n",
      "Test accuracy: 0.625\n",
      "Pipeline_3...\n",
      "[('normalization', StandardScaler()), ('dim_reduce', PCA(n_components=0.9)), ('clf', KNeighborsClassifier())]\n",
      "\n",
      "Fitting 3 folds for each of 15 candidates, totalling 45 fits\n",
      "Best hyperparameters: {'clf__weights': 'distance', 'clf__p': 1, 'clf__n_neighbors': 5, 'clf__algorithm': 'auto'}\n",
      "Average validation accuracy: 0.458\n",
      "Test accuracy: 0.625\n",
      "Pipeline_4...\n",
      "[('normalization', StandardScaler()), ('dim_reduce', FeatureAgglomeration(n_clusters=4)), ('clf', SVC())]\n",
      "\n",
      "Fitting 3 folds for each of 15 candidates, totalling 45 fits\n"
     ]
    },
    {
     "name": "stderr",
     "output_type": "stream",
     "text": [
      "C:\\Users\\61407\\anaconda3\\lib\\site-packages\\sklearn\\model_selection\\_search.py:952: UserWarning: One or more of the test scores are non-finite: [0.41666667 0.375      0.41666667        nan 0.45833333 0.41666667\n",
      " 0.41666667        nan 0.45833333        nan 0.33333333 0.45833333\n",
      " 0.33333333        nan 0.45833333]\n",
      "  warnings.warn(\n"
     ]
    },
    {
     "name": "stdout",
     "output_type": "stream",
     "text": [
      "Best hyperparameters: {'clf__kernel': 'linear', 'clf__gamma': 'scale', 'clf__degree': 3, 'clf__coef0': 2.0, 'clf__C': 10}\n",
      "Average validation accuracy: 0.542\n",
      "Test accuracy: 0.625\n",
      "Pipeline_5...\n",
      "[('normalization', StandardScaler()), ('dim_reduce', FeatureAgglomeration(n_clusters=4)), ('clf', RandomForestClassifier())]\n",
      "\n",
      "Fitting 3 folds for each of 15 candidates, totalling 45 fits\n",
      "Best hyperparameters: {'clf__n_estimators': 200, 'clf__min_samples_split': 5, 'clf__min_samples_leaf': 2, 'clf__max_features': None, 'clf__max_depth': 10, 'clf__bootstrap': False}\n",
      "Average validation accuracy: 0.458\n",
      "Test accuracy: 1.0\n",
      "Pipeline_6...\n",
      "[('normalization', StandardScaler()), ('dim_reduce', FeatureAgglomeration(n_clusters=4)), ('clf', KNeighborsClassifier())]\n",
      "\n",
      "Fitting 3 folds for each of 15 candidates, totalling 45 fits\n",
      "Best hyperparameters: {'clf__weights': 'uniform', 'clf__p': 2, 'clf__n_neighbors': 10, 'clf__algorithm': 'brute'}\n",
      "Average validation accuracy: 0.583\n",
      "Test accuracy: 0.625\n",
      "************************************************************************************************************************\n",
      "\n",
      "sub_22:\n",
      "************************************************************************************************************************\n",
      "partitioning...\n",
      "...complete!\n",
      "\n",
      "Pipeline_1...\n",
      "[('normalization', StandardScaler()), ('dim_reduce', PCA(n_components=0.9)), ('clf', SVC())]\n",
      "\n"
     ]
    },
    {
     "name": "stderr",
     "output_type": "stream",
     "text": [
      "C:\\Users\\61407\\anaconda3\\lib\\site-packages\\sklearn\\model_selection\\_search.py:952: UserWarning: One or more of the test scores are non-finite: [0.41666667 0.58333333 0.54166667        nan 0.33333333 0.41666667\n",
      " 0.54166667        nan 0.33333333        nan 0.45833333 0.33333333\n",
      " 0.45833333        nan 0.45833333]\n",
      "  warnings.warn(\n"
     ]
    },
    {
     "name": "stdout",
     "output_type": "stream",
     "text": [
      "Fitting 3 folds for each of 15 candidates, totalling 45 fits\n",
      "Best hyperparameters: {'clf__kernel': 'poly', 'clf__gamma': 'scale', 'clf__degree': 3, 'clf__coef0': 2.0, 'clf__C': 10}\n",
      "Average validation accuracy: 0.667\n",
      "Test accuracy: 0.5\n",
      "Pipeline_2...\n",
      "[('normalization', StandardScaler()), ('dim_reduce', PCA(n_components=0.9)), ('clf', RandomForestClassifier())]\n",
      "\n",
      "Fitting 3 folds for each of 15 candidates, totalling 45 fits\n",
      "Best hyperparameters: {'clf__n_estimators': 200, 'clf__min_samples_split': 2, 'clf__min_samples_leaf': 1, 'clf__max_features': None, 'clf__max_depth': 20, 'clf__bootstrap': True}\n",
      "Average validation accuracy: 0.667\n",
      "Test accuracy: 0.125\n",
      "Pipeline_3...\n",
      "[('normalization', StandardScaler()), ('dim_reduce', PCA(n_components=0.9)), ('clf', KNeighborsClassifier())]\n",
      "\n",
      "Fitting 3 folds for each of 15 candidates, totalling 45 fits\n",
      "Best hyperparameters: {'clf__weights': 'uniform', 'clf__p': 1, 'clf__n_neighbors': 5, 'clf__algorithm': 'brute'}\n",
      "Average validation accuracy: 0.583\n",
      "Test accuracy: 0.5\n",
      "Pipeline_4...\n",
      "[('normalization', StandardScaler()), ('dim_reduce', FeatureAgglomeration(n_clusters=4)), ('clf', SVC())]\n",
      "\n",
      "Fitting 3 folds for each of 15 candidates, totalling 45 fits\n"
     ]
    },
    {
     "name": "stderr",
     "output_type": "stream",
     "text": [
      "C:\\Users\\61407\\anaconda3\\lib\\site-packages\\sklearn\\model_selection\\_search.py:952: UserWarning: One or more of the test scores are non-finite: [0.58333333 0.33333333 0.58333333        nan 0.58333333 0.58333333\n",
      " 0.58333333        nan 0.41666667        nan 0.45833333 0.41666667\n",
      " 0.45833333        nan 0.5       ]\n",
      "  warnings.warn(\n"
     ]
    },
    {
     "name": "stdout",
     "output_type": "stream",
     "text": [
      "Best hyperparameters: {'clf__kernel': 'sigmoid', 'clf__gamma': 'scale', 'clf__degree': 3, 'clf__coef0': 2.0, 'clf__C': 1}\n",
      "Average validation accuracy: 0.667\n",
      "Test accuracy: 0.625\n",
      "Pipeline_5...\n",
      "[('normalization', StandardScaler()), ('dim_reduce', FeatureAgglomeration(n_clusters=4)), ('clf', RandomForestClassifier())]\n",
      "\n",
      "Fitting 3 folds for each of 15 candidates, totalling 45 fits\n",
      "Best hyperparameters: {'clf__n_estimators': 100, 'clf__min_samples_split': 5, 'clf__min_samples_leaf': 1, 'clf__max_features': None, 'clf__max_depth': 10, 'clf__bootstrap': False}\n",
      "Average validation accuracy: 0.625\n",
      "Test accuracy: 1.0\n",
      "Pipeline_6...\n",
      "[('normalization', StandardScaler()), ('dim_reduce', FeatureAgglomeration(n_clusters=4)), ('clf', KNeighborsClassifier())]\n",
      "\n",
      "Fitting 3 folds for each of 15 candidates, totalling 45 fits\n",
      "Best hyperparameters: {'clf__weights': 'uniform', 'clf__p': 1, 'clf__n_neighbors': 5, 'clf__algorithm': 'brute'}\n",
      "Average validation accuracy: 0.542\n",
      "Test accuracy: 0.875\n",
      "************************************************************************************************************************\n",
      "\n",
      "sub_23:\n",
      "************************************************************************************************************************\n",
      "partitioning...\n",
      "...complete!\n",
      "\n",
      "Pipeline_1...\n",
      "[('normalization', StandardScaler()), ('dim_reduce', PCA(n_components=0.9)), ('clf', SVC())]\n",
      "\n",
      "Fitting 3 folds for each of 15 candidates, totalling 45 fits\n"
     ]
    },
    {
     "name": "stderr",
     "output_type": "stream",
     "text": [
      "C:\\Users\\61407\\anaconda3\\lib\\site-packages\\sklearn\\model_selection\\_search.py:952: UserWarning: One or more of the test scores are non-finite: [0.54166667 0.54166667 0.45833333        nan 0.54166667 0.54166667\n",
      " 0.45833333        nan 0.5               nan 0.54166667 0.5\n",
      " 0.54166667        nan 0.41666667]\n",
      "  warnings.warn(\n"
     ]
    },
    {
     "name": "stdout",
     "output_type": "stream",
     "text": [
      "Best hyperparameters: {'clf__kernel': 'poly', 'clf__gamma': 'auto', 'clf__degree': 3, 'clf__coef0': 2.0, 'clf__C': 0.1}\n",
      "Average validation accuracy: 0.583\n",
      "Test accuracy: 0.75\n",
      "Pipeline_2...\n",
      "[('normalization', StandardScaler()), ('dim_reduce', PCA(n_components=0.9)), ('clf', RandomForestClassifier())]\n",
      "\n",
      "Fitting 3 folds for each of 15 candidates, totalling 45 fits\n",
      "Best hyperparameters: {'clf__n_estimators': 200, 'clf__min_samples_split': 5, 'clf__min_samples_leaf': 2, 'clf__max_features': None, 'clf__max_depth': 10, 'clf__bootstrap': False}\n",
      "Average validation accuracy: 0.375\n",
      "Test accuracy: 0.5\n",
      "Pipeline_3...\n",
      "[('normalization', StandardScaler()), ('dim_reduce', PCA(n_components=0.9)), ('clf', KNeighborsClassifier())]\n",
      "\n",
      "Fitting 3 folds for each of 15 candidates, totalling 45 fits\n",
      "Best hyperparameters: {'clf__weights': 'uniform', 'clf__p': 2, 'clf__n_neighbors': 10, 'clf__algorithm': 'brute'}\n",
      "Average validation accuracy: 0.5\n",
      "Test accuracy: 0.875\n",
      "Pipeline_4...\n",
      "[('normalization', StandardScaler()), ('dim_reduce', FeatureAgglomeration(n_clusters=4)), ('clf', SVC())]\n",
      "\n",
      "Fitting 3 folds for each of 15 candidates, totalling 45 fits\n"
     ]
    },
    {
     "name": "stderr",
     "output_type": "stream",
     "text": [
      "C:\\Users\\61407\\anaconda3\\lib\\site-packages\\sklearn\\model_selection\\_search.py:952: UserWarning: One or more of the test scores are non-finite: [0.33333333 0.5        0.41666667        nan 0.33333333 0.33333333\n",
      " 0.41666667        nan 0.45833333        nan 0.5        0.45833333\n",
      " 0.5               nan 0.41666667]\n",
      "  warnings.warn(\n"
     ]
    },
    {
     "name": "stdout",
     "output_type": "stream",
     "text": [
      "Best hyperparameters: {'clf__kernel': 'sigmoid', 'clf__gamma': 1, 'clf__degree': 2, 'clf__coef0': 0.0, 'clf__C': 100}\n",
      "Average validation accuracy: 0.458\n",
      "Test accuracy: 0.5\n",
      "Pipeline_5...\n",
      "[('normalization', StandardScaler()), ('dim_reduce', FeatureAgglomeration(n_clusters=4)), ('clf', RandomForestClassifier())]\n",
      "\n",
      "Fitting 3 folds for each of 15 candidates, totalling 45 fits\n",
      "Best hyperparameters: {'clf__n_estimators': 200, 'clf__min_samples_split': 5, 'clf__min_samples_leaf': 2, 'clf__max_features': None, 'clf__max_depth': 10, 'clf__bootstrap': False}\n",
      "Average validation accuracy: 0.458\n",
      "Test accuracy: 0.875\n",
      "Pipeline_6...\n",
      "[('normalization', StandardScaler()), ('dim_reduce', FeatureAgglomeration(n_clusters=4)), ('clf', KNeighborsClassifier())]\n",
      "\n",
      "Fitting 3 folds for each of 15 candidates, totalling 45 fits\n",
      "Best hyperparameters: {'clf__weights': 'uniform', 'clf__p': 1, 'clf__n_neighbors': 5, 'clf__algorithm': 'brute'}\n",
      "Average validation accuracy: 0.458\n",
      "Test accuracy: 0.5\n",
      "************************************************************************************************************************\n",
      "\n",
      "sub_24:\n",
      "************************************************************************************************************************\n",
      "partitioning...\n",
      "...complete!\n",
      "\n",
      "Pipeline_1...\n",
      "[('normalization', StandardScaler()), ('dim_reduce', PCA(n_components=0.9)), ('clf', SVC())]\n",
      "\n",
      "Fitting 3 folds for each of 15 candidates, totalling 45 fits\n"
     ]
    },
    {
     "name": "stderr",
     "output_type": "stream",
     "text": [
      "C:\\Users\\61407\\anaconda3\\lib\\site-packages\\sklearn\\model_selection\\_search.py:952: UserWarning: One or more of the test scores are non-finite: [0.45833333 0.45833333 0.29166667        nan 0.375      0.45833333\n",
      " 0.29166667        nan 0.41666667        nan 0.41666667 0.41666667\n",
      " 0.41666667        nan 0.375     ]\n",
      "  warnings.warn(\n"
     ]
    },
    {
     "name": "stdout",
     "output_type": "stream",
     "text": [
      "Best hyperparameters: {'clf__kernel': 'poly', 'clf__gamma': 'scale', 'clf__degree': 4, 'clf__coef0': 1.0, 'clf__C': 0.1}\n",
      "Average validation accuracy: 0.75\n",
      "Test accuracy: 0.25\n",
      "Pipeline_2...\n",
      "[('normalization', StandardScaler()), ('dim_reduce', PCA(n_components=0.9)), ('clf', RandomForestClassifier())]\n",
      "\n",
      "Fitting 3 folds for each of 15 candidates, totalling 45 fits\n",
      "Best hyperparameters: {'clf__n_estimators': 50, 'clf__min_samples_split': 5, 'clf__min_samples_leaf': 2, 'clf__max_features': None, 'clf__max_depth': 20, 'clf__bootstrap': True}\n",
      "Average validation accuracy: 0.75\n",
      "Test accuracy: 0.25\n",
      "Pipeline_3...\n",
      "[('normalization', StandardScaler()), ('dim_reduce', PCA(n_components=0.9)), ('clf', KNeighborsClassifier())]\n",
      "\n",
      "Fitting 3 folds for each of 15 candidates, totalling 45 fits\n",
      "Best hyperparameters: {'clf__weights': 'uniform', 'clf__p': 1, 'clf__n_neighbors': 10, 'clf__algorithm': 'brute'}\n",
      "Average validation accuracy: 0.833\n",
      "Test accuracy: 0.375\n",
      "Pipeline_4...\n",
      "[('normalization', StandardScaler()), ('dim_reduce', FeatureAgglomeration(n_clusters=4)), ('clf', SVC())]\n",
      "\n",
      "Fitting 3 folds for each of 15 candidates, totalling 45 fits\n"
     ]
    },
    {
     "name": "stderr",
     "output_type": "stream",
     "text": [
      "C:\\Users\\61407\\anaconda3\\lib\\site-packages\\sklearn\\model_selection\\_search.py:952: UserWarning: One or more of the test scores are non-finite: [0.70833333 0.75       0.75              nan 0.70833333 0.70833333\n",
      " 0.75              nan 0.79166667        nan 0.83333333 0.79166667\n",
      " 0.83333333        nan 0.70833333]\n",
      "  warnings.warn(\n"
     ]
    },
    {
     "name": "stdout",
     "output_type": "stream",
     "text": [
      "Best hyperparameters: {'clf__kernel': 'sigmoid', 'clf__gamma': 'scale', 'clf__degree': 3, 'clf__coef0': 2.0, 'clf__C': 1}\n",
      "Average validation accuracy: 0.708\n",
      "Test accuracy: 0.125\n",
      "Pipeline_5...\n",
      "[('normalization', StandardScaler()), ('dim_reduce', FeatureAgglomeration(n_clusters=4)), ('clf', RandomForestClassifier())]\n",
      "\n",
      "Fitting 3 folds for each of 15 candidates, totalling 45 fits\n",
      "Best hyperparameters: {'clf__n_estimators': 50, 'clf__min_samples_split': 2, 'clf__min_samples_leaf': 2, 'clf__max_features': None, 'clf__max_depth': 10, 'clf__bootstrap': True}\n",
      "Average validation accuracy: 0.667\n",
      "Test accuracy: 0.25\n",
      "Pipeline_6...\n",
      "[('normalization', StandardScaler()), ('dim_reduce', FeatureAgglomeration(n_clusters=4)), ('clf', KNeighborsClassifier())]\n",
      "\n",
      "Fitting 3 folds for each of 15 candidates, totalling 45 fits\n",
      "Best hyperparameters: {'clf__weights': 'distance', 'clf__p': 1, 'clf__n_neighbors': 10, 'clf__algorithm': 'ball_tree'}\n",
      "Average validation accuracy: 0.708\n",
      "Test accuracy: 0.25\n",
      "************************************************************************************************************************\n",
      "\n",
      "sub_25:\n",
      "************************************************************************************************************************\n",
      "partitioning...\n",
      "...complete!\n",
      "\n",
      "Pipeline_1...\n",
      "[('normalization', StandardScaler()), ('dim_reduce', PCA(n_components=0.9)), ('clf', SVC())]\n",
      "\n",
      "Fitting 3 folds for each of 15 candidates, totalling 45 fits\n"
     ]
    },
    {
     "name": "stderr",
     "output_type": "stream",
     "text": [
      "C:\\Users\\61407\\anaconda3\\lib\\site-packages\\sklearn\\model_selection\\_search.py:952: UserWarning: One or more of the test scores are non-finite: [0.625      0.66666667 0.66666667        nan 0.625      0.625\n",
      " 0.66666667        nan 0.70833333        nan 0.66666667 0.70833333\n",
      " 0.66666667        nan 0.58333333]\n",
      "  warnings.warn(\n"
     ]
    },
    {
     "name": "stdout",
     "output_type": "stream",
     "text": [
      "Best hyperparameters: {'clf__kernel': 'sigmoid', 'clf__gamma': 'scale', 'clf__degree': 3, 'clf__coef0': 2.0, 'clf__C': 1}\n",
      "Average validation accuracy: 0.542\n",
      "Test accuracy: 0.25\n",
      "Pipeline_2...\n",
      "[('normalization', StandardScaler()), ('dim_reduce', PCA(n_components=0.9)), ('clf', RandomForestClassifier())]\n",
      "\n",
      "Fitting 3 folds for each of 15 candidates, totalling 45 fits\n"
     ]
    },
    {
     "name": "stderr",
     "output_type": "stream",
     "text": [
      "C:\\Users\\61407\\anaconda3\\lib\\site-packages\\sklearn\\ensemble\\_forest.py:424: FutureWarning: `max_features='auto'` has been deprecated in 1.1 and will be removed in 1.3. To keep the past behaviour, explicitly set `max_features='sqrt'` or remove this parameter as it is also the default value for RandomForestClassifiers and ExtraTreesClassifiers.\n",
      "  warn(\n"
     ]
    },
    {
     "name": "stdout",
     "output_type": "stream",
     "text": [
      "Best hyperparameters: {'clf__n_estimators': 200, 'clf__min_samples_split': 5, 'clf__min_samples_leaf': 4, 'clf__max_features': 'auto', 'clf__max_depth': None, 'clf__bootstrap': True}\n",
      "Average validation accuracy: 0.583\n",
      "Test accuracy: 0.25\n",
      "Pipeline_3...\n",
      "[('normalization', StandardScaler()), ('dim_reduce', PCA(n_components=0.9)), ('clf', KNeighborsClassifier())]\n",
      "\n",
      "Fitting 3 folds for each of 15 candidates, totalling 45 fits\n"
     ]
    },
    {
     "name": "stderr",
     "output_type": "stream",
     "text": [
      "C:\\Users\\61407\\anaconda3\\lib\\site-packages\\sklearn\\model_selection\\_search.py:952: UserWarning: One or more of the test scores are non-finite: [0.45833333 0.33333333 0.41666667        nan 0.45833333 0.45833333\n",
      " 0.41666667        nan 0.45833333        nan 0.33333333 0.45833333\n",
      " 0.33333333        nan 0.5       ]\n",
      "  warnings.warn(\n"
     ]
    },
    {
     "name": "stdout",
     "output_type": "stream",
     "text": [
      "Best hyperparameters: {'clf__weights': 'uniform', 'clf__p': 2, 'clf__n_neighbors': 3, 'clf__algorithm': 'kd_tree'}\n",
      "Average validation accuracy: 0.5\n",
      "Test accuracy: 0.375\n",
      "Pipeline_4...\n",
      "[('normalization', StandardScaler()), ('dim_reduce', FeatureAgglomeration(n_clusters=4)), ('clf', SVC())]\n",
      "\n",
      "Fitting 3 folds for each of 15 candidates, totalling 45 fits\n",
      "Best hyperparameters: {'clf__kernel': 'poly', 'clf__gamma': 0.1, 'clf__degree': 4, 'clf__coef0': 1.0, 'clf__C': 1}\n",
      "Average validation accuracy: 0.5\n",
      "Test accuracy: 0.25\n",
      "Pipeline_5...\n",
      "[('normalization', StandardScaler()), ('dim_reduce', FeatureAgglomeration(n_clusters=4)), ('clf', RandomForestClassifier())]\n",
      "\n",
      "Fitting 3 folds for each of 15 candidates, totalling 45 fits\n"
     ]
    },
    {
     "name": "stderr",
     "output_type": "stream",
     "text": [
      "C:\\Users\\61407\\anaconda3\\lib\\site-packages\\sklearn\\ensemble\\_forest.py:424: FutureWarning: `max_features='auto'` has been deprecated in 1.1 and will be removed in 1.3. To keep the past behaviour, explicitly set `max_features='sqrt'` or remove this parameter as it is also the default value for RandomForestClassifiers and ExtraTreesClassifiers.\n",
      "  warn(\n"
     ]
    },
    {
     "name": "stdout",
     "output_type": "stream",
     "text": [
      "Best hyperparameters: {'clf__n_estimators': 200, 'clf__min_samples_split': 5, 'clf__min_samples_leaf': 4, 'clf__max_features': 'auto', 'clf__max_depth': None, 'clf__bootstrap': True}\n",
      "Average validation accuracy: 0.5\n",
      "Test accuracy: 0.25\n",
      "Pipeline_6...\n",
      "[('normalization', StandardScaler()), ('dim_reduce', FeatureAgglomeration(n_clusters=4)), ('clf', KNeighborsClassifier())]\n",
      "\n",
      "Fitting 3 folds for each of 15 candidates, totalling 45 fits\n",
      "Best hyperparameters: {'clf__weights': 'uniform', 'clf__p': 2, 'clf__n_neighbors': 10, 'clf__algorithm': 'brute'}\n",
      "Average validation accuracy: 0.583\n",
      "Test accuracy: 0.375\n"
     ]
    },
    {
     "name": "stderr",
     "output_type": "stream",
     "text": [
      "C:\\Users\\61407\\anaconda3\\lib\\site-packages\\sklearn\\model_selection\\_search.py:952: UserWarning: One or more of the test scores are non-finite: [0.41666667 0.58333333 0.41666667        nan 0.41666667 0.41666667\n",
      " 0.41666667        nan 0.5               nan 0.5        0.5\n",
      " 0.5               nan 0.41666667]\n",
      "  warnings.warn(\n"
     ]
    },
    {
     "name": "stdout",
     "output_type": "stream",
     "text": [
      "************************************************************************************************************************\n",
      "\n",
      "sub_27:\n",
      "************************************************************************************************************************\n",
      "partitioning...\n",
      "...complete!\n",
      "\n",
      "Pipeline_1...\n",
      "[('normalization', StandardScaler()), ('dim_reduce', PCA(n_components=0.9)), ('clf', SVC())]\n",
      "\n",
      "Fitting 3 folds for each of 15 candidates, totalling 45 fits\n",
      "Best hyperparameters: {'clf__kernel': 'rbf', 'clf__gamma': 0.1, 'clf__degree': 4, 'clf__coef0': 2.0, 'clf__C': 1}\n",
      "Average validation accuracy: 0.75\n",
      "Test accuracy: 0.375\n",
      "Pipeline_2...\n",
      "[('normalization', StandardScaler()), ('dim_reduce', PCA(n_components=0.9)), ('clf', RandomForestClassifier())]\n",
      "\n",
      "Fitting 3 folds for each of 15 candidates, totalling 45 fits\n",
      "Best hyperparameters: {'clf__n_estimators': 200, 'clf__min_samples_split': 5, 'clf__min_samples_leaf': 1, 'clf__max_features': 'sqrt', 'clf__max_depth': None, 'clf__bootstrap': False}\n",
      "Average validation accuracy: 0.917\n",
      "Test accuracy: 0.375\n",
      "Pipeline_3...\n",
      "[('normalization', StandardScaler()), ('dim_reduce', PCA(n_components=0.9)), ('clf', KNeighborsClassifier())]\n",
      "\n",
      "Fitting 3 folds for each of 15 candidates, totalling 45 fits\n",
      "Best hyperparameters: {'clf__weights': 'uniform', 'clf__p': 2, 'clf__n_neighbors': 10, 'clf__algorithm': 'brute'}\n",
      "Average validation accuracy: 0.75\n",
      "Test accuracy: 0.5\n",
      "Pipeline_4...\n",
      "[('normalization', StandardScaler()), ('dim_reduce', FeatureAgglomeration(n_clusters=4)), ('clf', SVC())]\n",
      "\n",
      "Fitting 3 folds for each of 15 candidates, totalling 45 fits\n"
     ]
    },
    {
     "name": "stderr",
     "output_type": "stream",
     "text": [
      "C:\\Users\\61407\\anaconda3\\lib\\site-packages\\sklearn\\model_selection\\_search.py:952: UserWarning: One or more of the test scores are non-finite: [0.66666667 0.75       0.75              nan 0.75       0.66666667\n",
      " 0.75              nan 0.625             nan 0.70833333 0.625\n",
      " 0.70833333        nan 0.70833333]\n",
      "  warnings.warn(\n"
     ]
    },
    {
     "name": "stdout",
     "output_type": "stream",
     "text": [
      "Best hyperparameters: {'clf__kernel': 'poly', 'clf__gamma': 0.1, 'clf__degree': 4, 'clf__coef0': 1.0, 'clf__C': 1}\n",
      "Average validation accuracy: 0.708\n",
      "Test accuracy: 0.375\n",
      "Pipeline_5...\n",
      "[('normalization', StandardScaler()), ('dim_reduce', FeatureAgglomeration(n_clusters=4)), ('clf', RandomForestClassifier())]\n",
      "\n",
      "Fitting 3 folds for each of 15 candidates, totalling 45 fits\n",
      "Best hyperparameters: {'clf__n_estimators': 50, 'clf__min_samples_split': 2, 'clf__min_samples_leaf': 4, 'clf__max_features': 'log2', 'clf__max_depth': 20, 'clf__bootstrap': False}\n",
      "Average validation accuracy: 0.792\n",
      "Test accuracy: 0.375\n",
      "Pipeline_6...\n",
      "[('normalization', StandardScaler()), ('dim_reduce', FeatureAgglomeration(n_clusters=4)), ('clf', KNeighborsClassifier())]\n",
      "\n",
      "Fitting 3 folds for each of 15 candidates, totalling 45 fits\n",
      "Best hyperparameters: {'clf__weights': 'uniform', 'clf__p': 1, 'clf__n_neighbors': 5, 'clf__algorithm': 'brute'}\n",
      "Average validation accuracy: 0.708\n",
      "Test accuracy: 0.375\n",
      "************************************************************************************************************************\n",
      "\n",
      "sub_28:\n",
      "************************************************************************************************************************\n",
      "partitioning...\n",
      "...complete!\n",
      "\n",
      "Pipeline_1...\n",
      "[('normalization', StandardScaler()), ('dim_reduce', PCA(n_components=0.9)), ('clf', SVC())]\n",
      "\n",
      "Fitting 3 folds for each of 15 candidates, totalling 45 fits\n"
     ]
    },
    {
     "name": "stderr",
     "output_type": "stream",
     "text": [
      "C:\\Users\\61407\\anaconda3\\lib\\site-packages\\sklearn\\model_selection\\_search.py:952: UserWarning: One or more of the test scores are non-finite: [0.70833333 0.58333333 0.66666667        nan 0.70833333 0.70833333\n",
      " 0.66666667        nan 0.58333333        nan 0.625      0.58333333\n",
      " 0.625             nan 0.70833333]\n",
      "  warnings.warn(\n"
     ]
    },
    {
     "name": "stdout",
     "output_type": "stream",
     "text": [
      "Best hyperparameters: {'clf__kernel': 'poly', 'clf__gamma': 'auto', 'clf__degree': 4, 'clf__coef0': 0.0, 'clf__C': 100}\n",
      "Average validation accuracy: 0.542\n",
      "Test accuracy: 0.75\n",
      "Pipeline_2...\n",
      "[('normalization', StandardScaler()), ('dim_reduce', PCA(n_components=0.9)), ('clf', RandomForestClassifier())]\n",
      "\n",
      "Fitting 3 folds for each of 15 candidates, totalling 45 fits\n",
      "Best hyperparameters: {'clf__n_estimators': 100, 'clf__min_samples_split': 2, 'clf__min_samples_leaf': 1, 'clf__max_features': None, 'clf__max_depth': 20, 'clf__bootstrap': True}\n",
      "Average validation accuracy: 0.458\n",
      "Test accuracy: 0.625\n",
      "Pipeline_3...\n",
      "[('normalization', StandardScaler()), ('dim_reduce', PCA(n_components=0.9)), ('clf', KNeighborsClassifier())]\n",
      "\n",
      "Fitting 3 folds for each of 15 candidates, totalling 45 fits\n",
      "Best hyperparameters: {'clf__weights': 'uniform', 'clf__p': 1, 'clf__n_neighbors': 10, 'clf__algorithm': 'brute'}\n",
      "Average validation accuracy: 0.458\n",
      "Test accuracy: 0.5\n",
      "Pipeline_4...\n",
      "[('normalization', StandardScaler()), ('dim_reduce', FeatureAgglomeration(n_clusters=4)), ('clf', SVC())]\n",
      "\n",
      "Fitting 3 folds for each of 15 candidates, totalling 45 fits\n"
     ]
    },
    {
     "name": "stderr",
     "output_type": "stream",
     "text": [
      "C:\\Users\\61407\\anaconda3\\lib\\site-packages\\sklearn\\model_selection\\_search.py:952: UserWarning: One or more of the test scores are non-finite: [0.29166667 0.16666667 0.33333333        nan 0.29166667 0.29166667\n",
      " 0.33333333        nan 0.375             nan 0.45833333 0.375\n",
      " 0.45833333        nan 0.25      ]\n",
      "  warnings.warn(\n"
     ]
    },
    {
     "name": "stdout",
     "output_type": "stream",
     "text": [
      "Best hyperparameters: {'clf__kernel': 'poly', 'clf__gamma': 'auto', 'clf__degree': 4, 'clf__coef0': 0.0, 'clf__C': 100}\n",
      "Average validation accuracy: 0.542\n",
      "Test accuracy: 0.875\n",
      "Pipeline_5...\n",
      "[('normalization', StandardScaler()), ('dim_reduce', FeatureAgglomeration(n_clusters=4)), ('clf', RandomForestClassifier())]\n",
      "\n",
      "Fitting 3 folds for each of 15 candidates, totalling 45 fits\n",
      "Best hyperparameters: {'clf__n_estimators': 200, 'clf__min_samples_split': 10, 'clf__min_samples_leaf': 4, 'clf__max_features': 'sqrt', 'clf__max_depth': None, 'clf__bootstrap': False}\n",
      "Average validation accuracy: 0.375\n",
      "Test accuracy: 0.5\n",
      "Pipeline_6...\n",
      "[('normalization', StandardScaler()), ('dim_reduce', FeatureAgglomeration(n_clusters=4)), ('clf', KNeighborsClassifier())]\n",
      "\n",
      "Fitting 3 folds for each of 15 candidates, totalling 45 fits\n",
      "Best hyperparameters: {'clf__weights': 'uniform', 'clf__p': 2, 'clf__n_neighbors': 10, 'clf__algorithm': 'brute'}\n",
      "Average validation accuracy: 0.292\n",
      "Test accuracy: 0.5\n",
      "************************************************************************************************************************\n",
      "\n",
      "sub_29:\n",
      "************************************************************************************************************************\n",
      "partitioning...\n",
      "...complete!\n",
      "\n",
      "Pipeline_1...\n",
      "[('normalization', StandardScaler()), ('dim_reduce', PCA(n_components=0.9)), ('clf', SVC())]\n",
      "\n",
      "Fitting 3 folds for each of 15 candidates, totalling 45 fits\n"
     ]
    },
    {
     "name": "stderr",
     "output_type": "stream",
     "text": [
      "C:\\Users\\61407\\anaconda3\\lib\\site-packages\\sklearn\\model_selection\\_search.py:952: UserWarning: One or more of the test scores are non-finite: [0.20833333 0.29166667 0.20833333        nan 0.20833333 0.20833333\n",
      " 0.20833333        nan 0.16666667        nan 0.29166667 0.16666667\n",
      " 0.29166667        nan 0.29166667]\n",
      "  warnings.warn(\n"
     ]
    },
    {
     "name": "stdout",
     "output_type": "stream",
     "text": [
      "Best hyperparameters: {'clf__kernel': 'sigmoid', 'clf__gamma': 'scale', 'clf__degree': 3, 'clf__coef0': 2.0, 'clf__C': 1}\n",
      "Average validation accuracy: 0.75\n",
      "Test accuracy: 0.5\n",
      "Pipeline_2...\n",
      "[('normalization', StandardScaler()), ('dim_reduce', PCA(n_components=0.9)), ('clf', RandomForestClassifier())]\n",
      "\n",
      "Fitting 3 folds for each of 15 candidates, totalling 45 fits\n",
      "Best hyperparameters: {'clf__n_estimators': 200, 'clf__min_samples_split': 5, 'clf__min_samples_leaf': 2, 'clf__max_features': None, 'clf__max_depth': 10, 'clf__bootstrap': False}\n",
      "Average validation accuracy: 0.75\n",
      "Test accuracy: 0.5\n",
      "Pipeline_3...\n",
      "[('normalization', StandardScaler()), ('dim_reduce', PCA(n_components=0.9)), ('clf', KNeighborsClassifier())]\n",
      "\n",
      "Fitting 3 folds for each of 15 candidates, totalling 45 fits\n",
      "Best hyperparameters: {'clf__weights': 'distance', 'clf__p': 1, 'clf__n_neighbors': 10, 'clf__algorithm': 'ball_tree'}\n",
      "Average validation accuracy: 0.75\n",
      "Test accuracy: 0.5\n",
      "Pipeline_4...\n",
      "[('normalization', StandardScaler()), ('dim_reduce', FeatureAgglomeration(n_clusters=4)), ('clf', SVC())]\n",
      "\n",
      "Fitting 3 folds for each of 15 candidates, totalling 45 fits\n"
     ]
    },
    {
     "name": "stderr",
     "output_type": "stream",
     "text": [
      "C:\\Users\\61407\\anaconda3\\lib\\site-packages\\sklearn\\model_selection\\_search.py:952: UserWarning: One or more of the test scores are non-finite: [0.625      0.58333333 0.66666667        nan 0.625      0.625\n",
      " 0.66666667        nan 0.75              nan 0.54166667 0.75\n",
      " 0.54166667        nan 0.66666667]\n",
      "  warnings.warn(\n"
     ]
    },
    {
     "name": "stdout",
     "output_type": "stream",
     "text": [
      "Best hyperparameters: {'clf__kernel': 'linear', 'clf__gamma': 'scale', 'clf__degree': 3, 'clf__coef0': 2.0, 'clf__C': 10}\n",
      "Average validation accuracy: 0.833\n",
      "Test accuracy: 1.0\n",
      "Pipeline_5...\n",
      "[('normalization', StandardScaler()), ('dim_reduce', FeatureAgglomeration(n_clusters=4)), ('clf', RandomForestClassifier())]\n",
      "\n",
      "Fitting 3 folds for each of 15 candidates, totalling 45 fits\n",
      "Best hyperparameters: {'clf__n_estimators': 100, 'clf__min_samples_split': 2, 'clf__min_samples_leaf': 1, 'clf__max_features': None, 'clf__max_depth': 20, 'clf__bootstrap': True}\n",
      "Average validation accuracy: 0.833\n",
      "Test accuracy: 1.0\n",
      "Pipeline_6...\n",
      "[('normalization', StandardScaler()), ('dim_reduce', FeatureAgglomeration(n_clusters=4)), ('clf', KNeighborsClassifier())]\n",
      "\n",
      "Fitting 3 folds for each of 15 candidates, totalling 45 fits\n",
      "Best hyperparameters: {'clf__weights': 'uniform', 'clf__p': 1, 'clf__n_neighbors': 5, 'clf__algorithm': 'brute'}\n",
      "Average validation accuracy: 0.708\n",
      "Test accuracy: 0.625\n",
      "************************************************************************************************************************\n",
      "\n",
      "sub_31:\n",
      "************************************************************************************************************************\n",
      "partitioning...\n",
      "...complete!\n",
      "\n",
      "Pipeline_1...\n",
      "[('normalization', StandardScaler()), ('dim_reduce', PCA(n_components=0.9)), ('clf', SVC())]\n",
      "\n",
      "Fitting 3 folds for each of 15 candidates, totalling 45 fits\n"
     ]
    },
    {
     "name": "stderr",
     "output_type": "stream",
     "text": [
      "C:\\Users\\61407\\anaconda3\\lib\\site-packages\\sklearn\\model_selection\\_search.py:952: UserWarning: One or more of the test scores are non-finite: [0.70833333 0.54166667 0.66666667        nan 0.70833333 0.70833333\n",
      " 0.66666667        nan 0.66666667        nan 0.54166667 0.66666667\n",
      " 0.54166667        nan 0.70833333]\n",
      "  warnings.warn(\n"
     ]
    },
    {
     "name": "stdout",
     "output_type": "stream",
     "text": [
      "Best hyperparameters: {'clf__kernel': 'poly', 'clf__gamma': 'auto', 'clf__degree': 3, 'clf__coef0': 2.0, 'clf__C': 0.1}\n",
      "Average validation accuracy: 0.583\n",
      "Test accuracy: 0.875\n",
      "Pipeline_2...\n",
      "[('normalization', StandardScaler()), ('dim_reduce', PCA(n_components=0.9)), ('clf', RandomForestClassifier())]\n",
      "\n",
      "Fitting 3 folds for each of 15 candidates, totalling 45 fits\n",
      "Best hyperparameters: {'clf__n_estimators': 50, 'clf__min_samples_split': 2, 'clf__min_samples_leaf': 2, 'clf__max_features': None, 'clf__max_depth': 10, 'clf__bootstrap': True}\n",
      "Average validation accuracy: 0.583\n",
      "Test accuracy: 0.5\n",
      "Pipeline_3...\n",
      "[('normalization', StandardScaler()), ('dim_reduce', PCA(n_components=0.9)), ('clf', KNeighborsClassifier())]\n",
      "\n",
      "Fitting 3 folds for each of 15 candidates, totalling 45 fits\n"
     ]
    },
    {
     "name": "stderr",
     "output_type": "stream",
     "text": [
      "C:\\Users\\61407\\anaconda3\\lib\\site-packages\\sklearn\\model_selection\\_search.py:952: UserWarning: One or more of the test scores are non-finite: [0.5        0.375      0.58333333        nan 0.5        0.5\n",
      " 0.58333333        nan 0.54166667        nan 0.58333333 0.54166667\n",
      " 0.58333333        nan 0.58333333]\n",
      "  warnings.warn(\n"
     ]
    },
    {
     "name": "stdout",
     "output_type": "stream",
     "text": [
      "Best hyperparameters: {'clf__weights': 'uniform', 'clf__p': 1, 'clf__n_neighbors': 3, 'clf__algorithm': 'auto'}\n",
      "Average validation accuracy: 0.583\n",
      "Test accuracy: 0.875\n",
      "Pipeline_4...\n",
      "[('normalization', StandardScaler()), ('dim_reduce', FeatureAgglomeration(n_clusters=4)), ('clf', SVC())]\n",
      "\n",
      "Fitting 3 folds for each of 15 candidates, totalling 45 fits\n",
      "Best hyperparameters: {'clf__kernel': 'poly', 'clf__gamma': 'auto', 'clf__degree': 4, 'clf__coef0': 0.0, 'clf__C': 100}\n",
      "Average validation accuracy: 0.75\n",
      "Test accuracy: 0.625\n",
      "Pipeline_5...\n",
      "[('normalization', StandardScaler()), ('dim_reduce', FeatureAgglomeration(n_clusters=4)), ('clf', RandomForestClassifier())]\n",
      "\n",
      "Fitting 3 folds for each of 15 candidates, totalling 45 fits\n",
      "Best hyperparameters: {'clf__n_estimators': 200, 'clf__min_samples_split': 5, 'clf__min_samples_leaf': 1, 'clf__max_features': 'sqrt', 'clf__max_depth': None, 'clf__bootstrap': False}\n",
      "Average validation accuracy: 0.5\n",
      "Test accuracy: 0.875\n",
      "Pipeline_6...\n",
      "[('normalization', StandardScaler()), ('dim_reduce', FeatureAgglomeration(n_clusters=4)), ('clf', KNeighborsClassifier())]\n",
      "\n",
      "Fitting 3 folds for each of 15 candidates, totalling 45 fits\n",
      "Best hyperparameters: {'clf__weights': 'distance', 'clf__p': 1, 'clf__n_neighbors': 5, 'clf__algorithm': 'auto'}\n",
      "Average validation accuracy: 0.625\n",
      "Test accuracy: 0.625\n",
      "************************************************************************************************************************\n",
      "\n",
      "sub_32:\n",
      "************************************************************************************************************************\n",
      "partitioning...\n",
      "...complete!\n",
      "\n",
      "Pipeline_1...\n",
      "[('normalization', StandardScaler()), ('dim_reduce', PCA(n_components=0.9)), ('clf', SVC())]\n",
      "\n",
      "Fitting 3 folds for each of 15 candidates, totalling 45 fits\n"
     ]
    },
    {
     "name": "stderr",
     "output_type": "stream",
     "text": [
      "C:\\Users\\61407\\anaconda3\\lib\\site-packages\\sklearn\\model_selection\\_search.py:952: UserWarning: One or more of the test scores are non-finite: [0.54166667 0.375      0.5               nan 0.625      0.54166667\n",
      " 0.5               nan 0.5               nan 0.33333333 0.5\n",
      " 0.33333333        nan 0.41666667]\n",
      "  warnings.warn(\n"
     ]
    },
    {
     "name": "stdout",
     "output_type": "stream",
     "text": [
      "Best hyperparameters: {'clf__kernel': 'poly', 'clf__gamma': 'scale', 'clf__degree': 3, 'clf__coef0': 1.0, 'clf__C': 100}\n",
      "Average validation accuracy: 0.667\n",
      "Test accuracy: 0.375\n",
      "Pipeline_2...\n",
      "[('normalization', StandardScaler()), ('dim_reduce', PCA(n_components=0.9)), ('clf', RandomForestClassifier())]\n",
      "\n",
      "Fitting 3 folds for each of 15 candidates, totalling 45 fits\n",
      "Best hyperparameters: {'clf__n_estimators': 100, 'clf__min_samples_split': 2, 'clf__min_samples_leaf': 2, 'clf__max_features': None, 'clf__max_depth': 10, 'clf__bootstrap': False}\n",
      "Average validation accuracy: 0.625\n",
      "Test accuracy: 0.375\n",
      "Pipeline_3...\n",
      "[('normalization', StandardScaler()), ('dim_reduce', PCA(n_components=0.9)), ('clf', KNeighborsClassifier())]\n",
      "\n",
      "Fitting 3 folds for each of 15 candidates, totalling 45 fits\n",
      "Best hyperparameters: {'clf__weights': 'uniform', 'clf__p': 2, 'clf__n_neighbors': 10, 'clf__algorithm': 'brute'}\n",
      "Average validation accuracy: 0.625\n",
      "Test accuracy: 0.5\n",
      "Pipeline_4...\n",
      "[('normalization', StandardScaler()), ('dim_reduce', FeatureAgglomeration(n_clusters=4)), ('clf', SVC())]\n",
      "\n",
      "Fitting 3 folds for each of 15 candidates, totalling 45 fits\n"
     ]
    },
    {
     "name": "stderr",
     "output_type": "stream",
     "text": [
      "C:\\Users\\61407\\anaconda3\\lib\\site-packages\\sklearn\\model_selection\\_search.py:952: UserWarning: One or more of the test scores are non-finite: [0.54166667 0.625      0.625             nan 0.58333333 0.54166667\n",
      " 0.625             nan 0.54166667        nan 0.625      0.54166667\n",
      " 0.625             nan 0.625     ]\n",
      "  warnings.warn(\n"
     ]
    },
    {
     "name": "stdout",
     "output_type": "stream",
     "text": [
      "Best hyperparameters: {'clf__kernel': 'poly', 'clf__gamma': 'scale', 'clf__degree': 4, 'clf__coef0': 1.0, 'clf__C': 0.1}\n",
      "Average validation accuracy: 0.667\n",
      "Test accuracy: 0.625\n",
      "Pipeline_5...\n",
      "[('normalization', StandardScaler()), ('dim_reduce', FeatureAgglomeration(n_clusters=4)), ('clf', RandomForestClassifier())]\n",
      "\n",
      "Fitting 3 folds for each of 15 candidates, totalling 45 fits\n",
      "Best hyperparameters: {'clf__n_estimators': 200, 'clf__min_samples_split': 2, 'clf__min_samples_leaf': 1, 'clf__max_features': None, 'clf__max_depth': 20, 'clf__bootstrap': True}\n",
      "Average validation accuracy: 0.708\n",
      "Test accuracy: 0.625\n",
      "Pipeline_6...\n",
      "[('normalization', StandardScaler()), ('dim_reduce', FeatureAgglomeration(n_clusters=4)), ('clf', KNeighborsClassifier())]\n",
      "\n",
      "Fitting 3 folds for each of 15 candidates, totalling 45 fits\n",
      "Best hyperparameters: {'clf__weights': 'uniform', 'clf__p': 1, 'clf__n_neighbors': 5, 'clf__algorithm': 'brute'}\n",
      "Average validation accuracy: 0.625\n",
      "Test accuracy: 0.625\n",
      "************************************************************************************************************************\n",
      "\n",
      "sub_34:\n",
      "************************************************************************************************************************\n",
      "partitioning...\n",
      "...complete!\n",
      "\n",
      "Pipeline_1...\n",
      "[('normalization', StandardScaler()), ('dim_reduce', PCA(n_components=0.9)), ('clf', SVC())]\n",
      "\n",
      "Fitting 3 folds for each of 15 candidates, totalling 45 fits\n"
     ]
    },
    {
     "name": "stderr",
     "output_type": "stream",
     "text": [
      "C:\\Users\\61407\\anaconda3\\lib\\site-packages\\sklearn\\model_selection\\_search.py:952: UserWarning: One or more of the test scores are non-finite: [0.625      0.58333333 0.58333333        nan 0.625      0.625\n",
      " 0.58333333        nan 0.625             nan 0.58333333 0.625\n",
      " 0.58333333        nan 0.625     ]\n",
      "  warnings.warn(\n"
     ]
    },
    {
     "name": "stdout",
     "output_type": "stream",
     "text": [
      "Best hyperparameters: {'clf__kernel': 'poly', 'clf__gamma': 0.1, 'clf__degree': 4, 'clf__coef0': 1.0, 'clf__C': 1}\n",
      "Average validation accuracy: 0.542\n",
      "Test accuracy: 0.5\n",
      "Pipeline_2...\n",
      "[('normalization', StandardScaler()), ('dim_reduce', PCA(n_components=0.9)), ('clf', RandomForestClassifier())]\n",
      "\n",
      "Fitting 3 folds for each of 15 candidates, totalling 45 fits\n"
     ]
    },
    {
     "name": "stderr",
     "output_type": "stream",
     "text": [
      "C:\\Users\\61407\\anaconda3\\lib\\site-packages\\sklearn\\ensemble\\_forest.py:424: FutureWarning: `max_features='auto'` has been deprecated in 1.1 and will be removed in 1.3. To keep the past behaviour, explicitly set `max_features='sqrt'` or remove this parameter as it is also the default value for RandomForestClassifiers and ExtraTreesClassifiers.\n",
      "  warn(\n"
     ]
    },
    {
     "name": "stdout",
     "output_type": "stream",
     "text": [
      "Best hyperparameters: {'clf__n_estimators': 100, 'clf__min_samples_split': 5, 'clf__min_samples_leaf': 4, 'clf__max_features': 'auto', 'clf__max_depth': 30, 'clf__bootstrap': False}\n",
      "Average validation accuracy: 0.375\n",
      "Test accuracy: 0.5\n",
      "Pipeline_3...\n",
      "[('normalization', StandardScaler()), ('dim_reduce', PCA(n_components=0.9)), ('clf', KNeighborsClassifier())]\n",
      "\n",
      "Fitting 3 folds for each of 15 candidates, totalling 45 fits\n",
      "Best hyperparameters: {'clf__weights': 'distance', 'clf__p': 1, 'clf__n_neighbors': 5, 'clf__algorithm': 'auto'}\n",
      "Average validation accuracy: 0.5\n",
      "Test accuracy: 0.5\n",
      "Pipeline_4...\n",
      "[('normalization', StandardScaler()), ('dim_reduce', FeatureAgglomeration(n_clusters=4)), ('clf', SVC())]\n",
      "\n",
      "Fitting 3 folds for each of 15 candidates, totalling 45 fits\n"
     ]
    },
    {
     "name": "stderr",
     "output_type": "stream",
     "text": [
      "C:\\Users\\61407\\anaconda3\\lib\\site-packages\\sklearn\\model_selection\\_search.py:952: UserWarning: One or more of the test scores are non-finite: [0.45833333 0.33333333 0.41666667        nan 0.5        0.45833333\n",
      " 0.41666667        nan 0.33333333        nan 0.41666667 0.33333333\n",
      " 0.41666667        nan 0.375     ]\n",
      "  warnings.warn(\n"
     ]
    },
    {
     "name": "stdout",
     "output_type": "stream",
     "text": [
      "Best hyperparameters: {'clf__kernel': 'poly', 'clf__gamma': 'auto', 'clf__degree': 4, 'clf__coef0': 0.0, 'clf__C': 100}\n",
      "Average validation accuracy: 0.625\n",
      "Test accuracy: 0.125\n",
      "Pipeline_5...\n",
      "[('normalization', StandardScaler()), ('dim_reduce', FeatureAgglomeration(n_clusters=4)), ('clf', RandomForestClassifier())]\n",
      "\n",
      "Fitting 3 folds for each of 15 candidates, totalling 45 fits\n"
     ]
    },
    {
     "name": "stderr",
     "output_type": "stream",
     "text": [
      "C:\\Users\\61407\\anaconda3\\lib\\site-packages\\sklearn\\ensemble\\_forest.py:424: FutureWarning: `max_features='auto'` has been deprecated in 1.1 and will be removed in 1.3. To keep the past behaviour, explicitly set `max_features='sqrt'` or remove this parameter as it is also the default value for RandomForestClassifiers and ExtraTreesClassifiers.\n",
      "  warn(\n"
     ]
    },
    {
     "name": "stdout",
     "output_type": "stream",
     "text": [
      "Best hyperparameters: {'clf__n_estimators': 200, 'clf__min_samples_split': 5, 'clf__min_samples_leaf': 4, 'clf__max_features': 'auto', 'clf__max_depth': None, 'clf__bootstrap': True}\n",
      "Average validation accuracy: 0.5\n",
      "Test accuracy: 0.75\n",
      "Pipeline_6...\n",
      "[('normalization', StandardScaler()), ('dim_reduce', FeatureAgglomeration(n_clusters=4)), ('clf', KNeighborsClassifier())]\n",
      "\n",
      "Fitting 3 folds for each of 15 candidates, totalling 45 fits\n",
      "Best hyperparameters: {'clf__weights': 'uniform', 'clf__p': 1, 'clf__n_neighbors': 10, 'clf__algorithm': 'brute'}\n",
      "Average validation accuracy: 0.583\n",
      "Test accuracy: 0.375\n",
      "************************************************************************************************************************\n",
      "\n",
      "sub_35:\n",
      "************************************************************************************************************************\n",
      "partitioning...\n",
      "...complete!\n",
      "\n",
      "Pipeline_1...\n",
      "[('normalization', StandardScaler()), ('dim_reduce', PCA(n_components=0.9)), ('clf', SVC())]\n",
      "\n",
      "Fitting 3 folds for each of 15 candidates, totalling 45 fits\n"
     ]
    },
    {
     "name": "stderr",
     "output_type": "stream",
     "text": [
      "C:\\Users\\61407\\anaconda3\\lib\\site-packages\\sklearn\\model_selection\\_search.py:952: UserWarning: One or more of the test scores are non-finite: [0.25       0.54166667 0.33333333        nan 0.29166667 0.25\n",
      " 0.33333333        nan 0.375             nan 0.58333333 0.375\n",
      " 0.58333333        nan 0.33333333]\n",
      "  warnings.warn(\n"
     ]
    },
    {
     "name": "stdout",
     "output_type": "stream",
     "text": [
      "Best hyperparameters: {'clf__kernel': 'linear', 'clf__gamma': 'scale', 'clf__degree': 3, 'clf__coef0': 2.0, 'clf__C': 10}\n",
      "Average validation accuracy: 0.75\n",
      "Test accuracy: 0.375\n",
      "Pipeline_2...\n",
      "[('normalization', StandardScaler()), ('dim_reduce', PCA(n_components=0.9)), ('clf', RandomForestClassifier())]\n",
      "\n",
      "Fitting 3 folds for each of 15 candidates, totalling 45 fits\n",
      "Best hyperparameters: {'clf__n_estimators': 200, 'clf__min_samples_split': 2, 'clf__min_samples_leaf': 1, 'clf__max_features': None, 'clf__max_depth': 20, 'clf__bootstrap': True}\n",
      "Average validation accuracy: 0.625\n",
      "Test accuracy: 0.5\n",
      "Pipeline_3...\n",
      "[('normalization', StandardScaler()), ('dim_reduce', PCA(n_components=0.9)), ('clf', KNeighborsClassifier())]\n",
      "\n",
      "Fitting 3 folds for each of 15 candidates, totalling 45 fits\n",
      "Best hyperparameters: {'clf__weights': 'distance', 'clf__p': 1, 'clf__n_neighbors': 5, 'clf__algorithm': 'auto'}\n",
      "Average validation accuracy: 0.708\n",
      "Test accuracy: 0.375\n",
      "Pipeline_4...\n",
      "[('normalization', StandardScaler()), ('dim_reduce', FeatureAgglomeration(n_clusters=4)), ('clf', SVC())]\n",
      "\n",
      "Fitting 3 folds for each of 15 candidates, totalling 45 fits\n"
     ]
    },
    {
     "name": "stderr",
     "output_type": "stream",
     "text": [
      "C:\\Users\\61407\\anaconda3\\lib\\site-packages\\sklearn\\model_selection\\_search.py:952: UserWarning: One or more of the test scores are non-finite: [0.625      0.41666667 0.58333333        nan 0.70833333 0.625\n",
      " 0.58333333        nan 0.58333333        nan 0.58333333 0.58333333\n",
      " 0.58333333        nan 0.66666667]\n",
      "  warnings.warn(\n"
     ]
    },
    {
     "name": "stdout",
     "output_type": "stream",
     "text": [
      "Best hyperparameters: {'clf__kernel': 'sigmoid', 'clf__gamma': 1, 'clf__degree': 2, 'clf__coef0': 0.0, 'clf__C': 100}\n",
      "Average validation accuracy: 0.583\n",
      "Test accuracy: 0.625\n",
      "Pipeline_5...\n",
      "[('normalization', StandardScaler()), ('dim_reduce', FeatureAgglomeration(n_clusters=4)), ('clf', RandomForestClassifier())]\n",
      "\n",
      "Fitting 3 folds for each of 15 candidates, totalling 45 fits\n",
      "Best hyperparameters: {'clf__n_estimators': 50, 'clf__min_samples_split': 10, 'clf__min_samples_leaf': 2, 'clf__max_features': 'log2', 'clf__max_depth': 30, 'clf__bootstrap': True}\n",
      "Average validation accuracy: 0.625\n",
      "Test accuracy: 0.375\n",
      "Pipeline_6...\n",
      "[('normalization', StandardScaler()), ('dim_reduce', FeatureAgglomeration(n_clusters=4)), ('clf', KNeighborsClassifier())]\n",
      "\n",
      "Fitting 3 folds for each of 15 candidates, totalling 45 fits\n",
      "Best hyperparameters: {'clf__weights': 'uniform', 'clf__p': 1, 'clf__n_neighbors': 5, 'clf__algorithm': 'brute'}\n",
      "Average validation accuracy: 0.5\n",
      "Test accuracy: 0.5\n",
      "************************************************************************************************************************\n",
      "\n",
      "sub_36:\n",
      "************************************************************************************************************************\n",
      "partitioning...\n",
      "...complete!\n",
      "\n",
      "Pipeline_1...\n",
      "[('normalization', StandardScaler()), ('dim_reduce', PCA(n_components=0.9)), ('clf', SVC())]\n",
      "\n",
      "Fitting 3 folds for each of 15 candidates, totalling 45 fits\n"
     ]
    },
    {
     "name": "stderr",
     "output_type": "stream",
     "text": [
      "C:\\Users\\61407\\anaconda3\\lib\\site-packages\\sklearn\\model_selection\\_search.py:952: UserWarning: One or more of the test scores are non-finite: [0.5        0.41666667 0.45833333        nan 0.5        0.5\n",
      " 0.45833333        nan 0.5               nan 0.45833333 0.5\n",
      " 0.45833333        nan 0.41666667]\n",
      "  warnings.warn(\n"
     ]
    },
    {
     "name": "stdout",
     "output_type": "stream",
     "text": [
      "Best hyperparameters: {'clf__kernel': 'poly', 'clf__gamma': 'scale', 'clf__degree': 3, 'clf__coef0': 2.0, 'clf__C': 10}\n",
      "Average validation accuracy: 1.0\n",
      "Test accuracy: 0.5\n",
      "Pipeline_2...\n",
      "[('normalization', StandardScaler()), ('dim_reduce', PCA(n_components=0.9)), ('clf', RandomForestClassifier())]\n",
      "\n",
      "Fitting 3 folds for each of 15 candidates, totalling 45 fits\n",
      "Best hyperparameters: {'clf__n_estimators': 50, 'clf__min_samples_split': 2, 'clf__min_samples_leaf': 2, 'clf__max_features': None, 'clf__max_depth': 10, 'clf__bootstrap': True}\n",
      "Average validation accuracy: 1.0\n",
      "Test accuracy: 0.5\n",
      "Pipeline_3...\n",
      "[('normalization', StandardScaler()), ('dim_reduce', PCA(n_components=0.9)), ('clf', KNeighborsClassifier())]\n",
      "\n",
      "Fitting 3 folds for each of 15 candidates, totalling 45 fits\n",
      "Best hyperparameters: {'clf__weights': 'uniform', 'clf__p': 2, 'clf__n_neighbors': 3, 'clf__algorithm': 'kd_tree'}\n",
      "Average validation accuracy: 1.0\n",
      "Test accuracy: 0.5\n",
      "Pipeline_4...\n",
      "[('normalization', StandardScaler()), ('dim_reduce', FeatureAgglomeration(n_clusters=4)), ('clf', SVC())]\n",
      "\n",
      "Fitting 3 folds for each of 15 candidates, totalling 45 fits\n"
     ]
    },
    {
     "name": "stderr",
     "output_type": "stream",
     "text": [
      "C:\\Users\\61407\\anaconda3\\lib\\site-packages\\sklearn\\model_selection\\_search.py:952: UserWarning: One or more of the test scores are non-finite: [0.91666667 0.91666667 0.95833333        nan 0.91666667 0.91666667\n",
      " 0.95833333        nan 0.95833333        nan 0.875      0.95833333\n",
      " 0.875             nan 1.        ]\n",
      "  warnings.warn(\n"
     ]
    },
    {
     "name": "stdout",
     "output_type": "stream",
     "text": [
      "Best hyperparameters: {'clf__kernel': 'poly', 'clf__gamma': 'scale', 'clf__degree': 3, 'clf__coef0': 1.0, 'clf__C': 100}\n",
      "Average validation accuracy: 0.958\n",
      "Test accuracy: 0.5\n",
      "Pipeline_5...\n",
      "[('normalization', StandardScaler()), ('dim_reduce', FeatureAgglomeration(n_clusters=4)), ('clf', RandomForestClassifier())]\n",
      "\n",
      "Fitting 3 folds for each of 15 candidates, totalling 45 fits\n",
      "Best hyperparameters: {'clf__n_estimators': 50, 'clf__min_samples_split': 2, 'clf__min_samples_leaf': 2, 'clf__max_features': None, 'clf__max_depth': 10, 'clf__bootstrap': True}\n",
      "Average validation accuracy: 1.0\n",
      "Test accuracy: 0.5\n",
      "Pipeline_6...\n",
      "[('normalization', StandardScaler()), ('dim_reduce', FeatureAgglomeration(n_clusters=4)), ('clf', KNeighborsClassifier())]\n",
      "\n",
      "Fitting 3 folds for each of 15 candidates, totalling 45 fits\n",
      "Best hyperparameters: {'clf__weights': 'distance', 'clf__p': 1, 'clf__n_neighbors': 10, 'clf__algorithm': 'ball_tree'}\n",
      "Average validation accuracy: 0.958\n",
      "Test accuracy: 0.5\n",
      "************************************************************************************************************************\n",
      "\n",
      "sub_37:\n",
      "************************************************************************************************************************\n",
      "partitioning...\n",
      "...complete!\n",
      "\n",
      "Pipeline_1...\n",
      "[('normalization', StandardScaler()), ('dim_reduce', PCA(n_components=0.9)), ('clf', SVC())]\n",
      "\n",
      "Fitting 3 folds for each of 15 candidates, totalling 45 fits\n"
     ]
    },
    {
     "name": "stderr",
     "output_type": "stream",
     "text": [
      "C:\\Users\\61407\\anaconda3\\lib\\site-packages\\sklearn\\model_selection\\_search.py:952: UserWarning: One or more of the test scores are non-finite: [0.91666667 0.91666667 0.91666667        nan 0.91666667 0.91666667\n",
      " 0.91666667        nan 0.95833333        nan 0.91666667 0.95833333\n",
      " 0.91666667        nan 0.875     ]\n",
      "  warnings.warn(\n"
     ]
    },
    {
     "name": "stdout",
     "output_type": "stream",
     "text": [
      "Best hyperparameters: {'clf__kernel': 'sigmoid', 'clf__gamma': 'scale', 'clf__degree': 3, 'clf__coef0': 2.0, 'clf__C': 1}\n",
      "Average validation accuracy: 0.708\n",
      "Test accuracy: 0.875\n",
      "Pipeline_2...\n",
      "[('normalization', StandardScaler()), ('dim_reduce', PCA(n_components=0.9)), ('clf', RandomForestClassifier())]\n",
      "\n",
      "Fitting 3 folds for each of 15 candidates, totalling 45 fits\n",
      "Best hyperparameters: {'clf__n_estimators': 200, 'clf__min_samples_split': 10, 'clf__min_samples_leaf': 4, 'clf__max_features': 'sqrt', 'clf__max_depth': 10, 'clf__bootstrap': False}\n",
      "Average validation accuracy: 0.458\n",
      "Test accuracy: 0.75\n",
      "Pipeline_3...\n",
      "[('normalization', StandardScaler()), ('dim_reduce', PCA(n_components=0.9)), ('clf', KNeighborsClassifier())]\n",
      "\n",
      "Fitting 3 folds for each of 15 candidates, totalling 45 fits\n",
      "Best hyperparameters: {'clf__weights': 'uniform', 'clf__p': 2, 'clf__n_neighbors': 10, 'clf__algorithm': 'brute'}\n",
      "Average validation accuracy: 0.625\n",
      "Test accuracy: 0.75\n",
      "Pipeline_4...\n",
      "[('normalization', StandardScaler()), ('dim_reduce', FeatureAgglomeration(n_clusters=4)), ('clf', SVC())]\n",
      "\n",
      "Fitting 3 folds for each of 15 candidates, totalling 45 fits\n"
     ]
    },
    {
     "name": "stderr",
     "output_type": "stream",
     "text": [
      "C:\\Users\\61407\\anaconda3\\lib\\site-packages\\sklearn\\model_selection\\_search.py:952: UserWarning: One or more of the test scores are non-finite: [0.54166667 0.625      0.54166667        nan 0.54166667 0.54166667\n",
      " 0.54166667        nan 0.375             nan 0.45833333 0.375\n",
      " 0.45833333        nan 0.54166667]\n",
      "  warnings.warn(\n"
     ]
    },
    {
     "name": "stdout",
     "output_type": "stream",
     "text": [
      "Best hyperparameters: {'clf__kernel': 'sigmoid', 'clf__gamma': 'scale', 'clf__degree': 3, 'clf__coef0': 2.0, 'clf__C': 1}\n",
      "Average validation accuracy: 0.625\n",
      "Test accuracy: 1.0\n",
      "Pipeline_5...\n",
      "[('normalization', StandardScaler()), ('dim_reduce', FeatureAgglomeration(n_clusters=4)), ('clf', RandomForestClassifier())]\n",
      "\n",
      "Fitting 3 folds for each of 15 candidates, totalling 45 fits\n"
     ]
    },
    {
     "name": "stderr",
     "output_type": "stream",
     "text": [
      "C:\\Users\\61407\\anaconda3\\lib\\site-packages\\sklearn\\ensemble\\_forest.py:424: FutureWarning: `max_features='auto'` has been deprecated in 1.1 and will be removed in 1.3. To keep the past behaviour, explicitly set `max_features='sqrt'` or remove this parameter as it is also the default value for RandomForestClassifiers and ExtraTreesClassifiers.\n",
      "  warn(\n"
     ]
    },
    {
     "name": "stdout",
     "output_type": "stream",
     "text": [
      "Best hyperparameters: {'clf__n_estimators': 100, 'clf__min_samples_split': 5, 'clf__min_samples_leaf': 4, 'clf__max_features': 'auto', 'clf__max_depth': 30, 'clf__bootstrap': False}\n",
      "Average validation accuracy: 0.708\n",
      "Test accuracy: 0.875\n",
      "Pipeline_6...\n",
      "[('normalization', StandardScaler()), ('dim_reduce', FeatureAgglomeration(n_clusters=4)), ('clf', KNeighborsClassifier())]\n",
      "\n",
      "Fitting 3 folds for each of 15 candidates, totalling 45 fits\n",
      "Best hyperparameters: {'clf__weights': 'distance', 'clf__p': 1, 'clf__n_neighbors': 10, 'clf__algorithm': 'ball_tree'}\n",
      "Average validation accuracy: 0.625\n",
      "Test accuracy: 0.75\n",
      "************************************************************************************************************************\n",
      "\n",
      "sub_38:\n",
      "************************************************************************************************************************\n",
      "partitioning...\n",
      "...complete!\n",
      "\n",
      "Pipeline_1...\n",
      "[('normalization', StandardScaler()), ('dim_reduce', PCA(n_components=0.9)), ('clf', SVC())]\n",
      "\n",
      "Fitting 3 folds for each of 15 candidates, totalling 45 fits\n"
     ]
    },
    {
     "name": "stderr",
     "output_type": "stream",
     "text": [
      "C:\\Users\\61407\\anaconda3\\lib\\site-packages\\sklearn\\model_selection\\_search.py:952: UserWarning: One or more of the test scores are non-finite: [0.5        0.5        0.5               nan 0.5        0.5\n",
      " 0.5               nan 0.625             nan 0.625      0.625\n",
      " 0.625             nan 0.54166667]\n",
      "  warnings.warn(\n"
     ]
    },
    {
     "name": "stdout",
     "output_type": "stream",
     "text": [
      "Best hyperparameters: {'clf__kernel': 'poly', 'clf__gamma': 'scale', 'clf__degree': 4, 'clf__coef0': 1.0, 'clf__C': 0.1}\n",
      "Average validation accuracy: 0.75\n",
      "Test accuracy: 0.875\n",
      "Pipeline_2...\n",
      "[('normalization', StandardScaler()), ('dim_reduce', PCA(n_components=0.9)), ('clf', RandomForestClassifier())]\n",
      "\n",
      "Fitting 3 folds for each of 15 candidates, totalling 45 fits\n",
      "Best hyperparameters: {'clf__n_estimators': 50, 'clf__min_samples_split': 5, 'clf__min_samples_leaf': 2, 'clf__max_features': None, 'clf__max_depth': 20, 'clf__bootstrap': True}\n",
      "Average validation accuracy: 0.792\n",
      "Test accuracy: 0.75\n",
      "Pipeline_3...\n",
      "[('normalization', StandardScaler()), ('dim_reduce', PCA(n_components=0.9)), ('clf', KNeighborsClassifier())]\n",
      "\n",
      "Fitting 3 folds for each of 15 candidates, totalling 45 fits\n",
      "Best hyperparameters: {'clf__weights': 'uniform', 'clf__p': 1, 'clf__n_neighbors': 10, 'clf__algorithm': 'brute'}\n",
      "Average validation accuracy: 0.875\n",
      "Test accuracy: 1.0\n",
      "Pipeline_4...\n",
      "[('normalization', StandardScaler()), ('dim_reduce', FeatureAgglomeration(n_clusters=4)), ('clf', SVC())]\n",
      "\n",
      "Fitting 3 folds for each of 15 candidates, totalling 45 fits\n"
     ]
    },
    {
     "name": "stderr",
     "output_type": "stream",
     "text": [
      "C:\\Users\\61407\\anaconda3\\lib\\site-packages\\sklearn\\model_selection\\_search.py:952: UserWarning: One or more of the test scores are non-finite: [0.66666667 0.83333333 0.625             nan 0.66666667 0.66666667\n",
      " 0.625             nan 0.79166667        nan 0.875      0.79166667\n",
      " 0.875             nan 0.66666667]\n",
      "  warnings.warn(\n"
     ]
    },
    {
     "name": "stdout",
     "output_type": "stream",
     "text": [
      "Best hyperparameters: {'clf__kernel': 'rbf', 'clf__gamma': 1, 'clf__degree': 3, 'clf__coef0': 0.0, 'clf__C': 0.1}\n",
      "Average validation accuracy: 0.792\n",
      "Test accuracy: 1.0\n",
      "Pipeline_5...\n",
      "[('normalization', StandardScaler()), ('dim_reduce', FeatureAgglomeration(n_clusters=4)), ('clf', RandomForestClassifier())]\n",
      "\n",
      "Fitting 3 folds for each of 15 candidates, totalling 45 fits\n",
      "Best hyperparameters: {'clf__n_estimators': 50, 'clf__min_samples_split': 2, 'clf__min_samples_leaf': 2, 'clf__max_features': None, 'clf__max_depth': 10, 'clf__bootstrap': True}\n",
      "Average validation accuracy: 0.833\n",
      "Test accuracy: 1.0\n",
      "Pipeline_6...\n",
      "[('normalization', StandardScaler()), ('dim_reduce', FeatureAgglomeration(n_clusters=4)), ('clf', KNeighborsClassifier())]\n",
      "\n",
      "Fitting 3 folds for each of 15 candidates, totalling 45 fits\n"
     ]
    },
    {
     "name": "stderr",
     "output_type": "stream",
     "text": [
      "C:\\Users\\61407\\anaconda3\\lib\\site-packages\\sklearn\\model_selection\\_search.py:952: UserWarning: One or more of the test scores are non-finite: [0.75       0.70833333 0.75              nan 0.70833333 0.75\n",
      " 0.75              nan 0.70833333        nan 0.83333333 0.70833333\n",
      " 0.83333333        nan 0.75      ]\n",
      "  warnings.warn(\n"
     ]
    },
    {
     "name": "stdout",
     "output_type": "stream",
     "text": [
      "Best hyperparameters: {'clf__weights': 'uniform', 'clf__p': 1, 'clf__n_neighbors': 10, 'clf__algorithm': 'brute'}\n",
      "Average validation accuracy: 0.833\n",
      "Test accuracy: 1.0\n",
      "************************************************************************************************************************\n",
      "\n",
      "sub_40:\n",
      "************************************************************************************************************************\n",
      "partitioning...\n",
      "...complete!\n",
      "\n",
      "Pipeline_1...\n",
      "[('normalization', StandardScaler()), ('dim_reduce', PCA(n_components=0.9)), ('clf', SVC())]\n",
      "\n",
      "Fitting 3 folds for each of 15 candidates, totalling 45 fits\n",
      "Best hyperparameters: {'clf__kernel': 'poly', 'clf__gamma': 'auto', 'clf__degree': 4, 'clf__coef0': 0.0, 'clf__C': 100}\n",
      "Average validation accuracy: 0.542\n",
      "Test accuracy: 0.625\n",
      "Pipeline_2...\n",
      "[('normalization', StandardScaler()), ('dim_reduce', PCA(n_components=0.9)), ('clf', RandomForestClassifier())]\n",
      "\n",
      "Fitting 3 folds for each of 15 candidates, totalling 45 fits\n",
      "Best hyperparameters: {'clf__n_estimators': 50, 'clf__min_samples_split': 10, 'clf__min_samples_leaf': 2, 'clf__max_features': 'log2', 'clf__max_depth': 30, 'clf__bootstrap': True}\n",
      "Average validation accuracy: 0.625\n",
      "Test accuracy: 0.5\n",
      "Pipeline_3...\n",
      "[('normalization', StandardScaler()), ('dim_reduce', PCA(n_components=0.9)), ('clf', KNeighborsClassifier())]\n",
      "\n",
      "Fitting 3 folds for each of 15 candidates, totalling 45 fits\n",
      "Best hyperparameters: {'clf__weights': 'uniform', 'clf__p': 2, 'clf__n_neighbors': 3, 'clf__algorithm': 'kd_tree'}\n",
      "Average validation accuracy: 0.542\n",
      "Test accuracy: 0.5\n",
      "Pipeline_4...\n",
      "[('normalization', StandardScaler()), ('dim_reduce', FeatureAgglomeration(n_clusters=4)), ('clf', SVC())]\n",
      "\n",
      "Fitting 3 folds for each of 15 candidates, totalling 45 fits\n"
     ]
    },
    {
     "name": "stderr",
     "output_type": "stream",
     "text": [
      "C:\\Users\\61407\\anaconda3\\lib\\site-packages\\sklearn\\model_selection\\_search.py:952: UserWarning: One or more of the test scores are non-finite: [0.45833333 0.5        0.41666667        nan 0.45833333 0.45833333\n",
      " 0.41666667        nan 0.375             nan 0.5        0.375\n",
      " 0.5               nan 0.54166667]\n",
      "  warnings.warn(\n"
     ]
    },
    {
     "name": "stdout",
     "output_type": "stream",
     "text": [
      "Best hyperparameters: {'clf__kernel': 'sigmoid', 'clf__gamma': 1, 'clf__degree': 2, 'clf__coef0': 0.0, 'clf__C': 100}\n",
      "Average validation accuracy: 0.792\n",
      "Test accuracy: 0.5\n",
      "Pipeline_5...\n",
      "[('normalization', StandardScaler()), ('dim_reduce', FeatureAgglomeration(n_clusters=4)), ('clf', RandomForestClassifier())]\n",
      "\n",
      "Fitting 3 folds for each of 15 candidates, totalling 45 fits\n",
      "Best hyperparameters: {'clf__n_estimators': 50, 'clf__min_samples_split': 5, 'clf__min_samples_leaf': 2, 'clf__max_features': None, 'clf__max_depth': 20, 'clf__bootstrap': True}\n",
      "Average validation accuracy: 0.667\n",
      "Test accuracy: 0.5\n",
      "Pipeline_6...\n",
      "[('normalization', StandardScaler()), ('dim_reduce', FeatureAgglomeration(n_clusters=4)), ('clf', KNeighborsClassifier())]\n",
      "\n",
      "Fitting 3 folds for each of 15 candidates, totalling 45 fits\n"
     ]
    },
    {
     "name": "stderr",
     "output_type": "stream",
     "text": [
      "C:\\Users\\61407\\anaconda3\\lib\\site-packages\\sklearn\\model_selection\\_search.py:952: UserWarning: One or more of the test scores are non-finite: [0.66666667 0.45833333 0.41666667        nan 0.45833333 0.66666667\n",
      " 0.41666667        nan 0.45833333        nan 0.58333333 0.45833333\n",
      " 0.58333333        nan 0.45833333]\n",
      "  warnings.warn(\n"
     ]
    },
    {
     "name": "stdout",
     "output_type": "stream",
     "text": [
      "Best hyperparameters: {'clf__weights': 'uniform', 'clf__p': 1, 'clf__n_neighbors': 5, 'clf__algorithm': 'brute'}\n",
      "Average validation accuracy: 0.667\n",
      "Test accuracy: 0.625\n",
      "************************************************************************************************************************\n",
      "\n",
      "sub_42:\n",
      "************************************************************************************************************************\n",
      "partitioning...\n",
      "...complete!\n",
      "\n",
      "Pipeline_1...\n",
      "[('normalization', StandardScaler()), ('dim_reduce', PCA(n_components=0.9)), ('clf', SVC())]\n",
      "\n",
      "Fitting 3 folds for each of 15 candidates, totalling 45 fits\n",
      "Best hyperparameters: {'clf__kernel': 'poly', 'clf__gamma': 0.1, 'clf__degree': 4, 'clf__coef0': 1.0, 'clf__C': 1}\n",
      "Average validation accuracy: 0.667\n",
      "Test accuracy: 0.5\n",
      "Pipeline_2...\n",
      "[('normalization', StandardScaler()), ('dim_reduce', PCA(n_components=0.9)), ('clf', RandomForestClassifier())]\n",
      "\n",
      "Fitting 3 folds for each of 15 candidates, totalling 45 fits\n",
      "Best hyperparameters: {'clf__n_estimators': 200, 'clf__min_samples_split': 5, 'clf__min_samples_leaf': 2, 'clf__max_features': None, 'clf__max_depth': 10, 'clf__bootstrap': False}\n",
      "Average validation accuracy: 0.667\n",
      "Test accuracy: 0.375\n",
      "Pipeline_3...\n",
      "[('normalization', StandardScaler()), ('dim_reduce', PCA(n_components=0.9)), ('clf', KNeighborsClassifier())]\n",
      "\n",
      "Fitting 3 folds for each of 15 candidates, totalling 45 fits\n",
      "Best hyperparameters: {'clf__weights': 'uniform', 'clf__p': 2, 'clf__n_neighbors': 3, 'clf__algorithm': 'kd_tree'}\n",
      "Average validation accuracy: 0.667\n",
      "Test accuracy: 0.25\n",
      "Pipeline_4...\n",
      "[('normalization', StandardScaler()), ('dim_reduce', FeatureAgglomeration(n_clusters=4)), ('clf', SVC())]\n",
      "\n",
      "Fitting 3 folds for each of 15 candidates, totalling 45 fits\n"
     ]
    },
    {
     "name": "stderr",
     "output_type": "stream",
     "text": [
      "C:\\Users\\61407\\anaconda3\\lib\\site-packages\\sklearn\\model_selection\\_search.py:952: UserWarning: One or more of the test scores are non-finite: [0.58333333 0.45833333 0.58333333        nan 0.58333333 0.58333333\n",
      " 0.58333333        nan 0.45833333        nan 0.54166667 0.45833333\n",
      " 0.54166667        nan 0.66666667]\n",
      "  warnings.warn(\n"
     ]
    },
    {
     "name": "stdout",
     "output_type": "stream",
     "text": [
      "Best hyperparameters: {'clf__kernel': 'poly', 'clf__gamma': 'auto', 'clf__degree': 4, 'clf__coef0': 0.0, 'clf__C': 100}\n",
      "Average validation accuracy: 0.625\n",
      "Test accuracy: 0.75\n",
      "Pipeline_5...\n",
      "[('normalization', StandardScaler()), ('dim_reduce', FeatureAgglomeration(n_clusters=4)), ('clf', RandomForestClassifier())]\n",
      "\n",
      "Fitting 3 folds for each of 15 candidates, totalling 45 fits\n",
      "Best hyperparameters: {'clf__n_estimators': 100, 'clf__min_samples_split': 10, 'clf__min_samples_leaf': 1, 'clf__max_features': 'sqrt', 'clf__max_depth': 20, 'clf__bootstrap': False}\n",
      "Average validation accuracy: 0.625\n",
      "Test accuracy: 0.625\n",
      "Pipeline_6...\n",
      "[('normalization', StandardScaler()), ('dim_reduce', FeatureAgglomeration(n_clusters=4)), ('clf', KNeighborsClassifier())]\n",
      "\n",
      "Fitting 3 folds for each of 15 candidates, totalling 45 fits\n",
      "Best hyperparameters: {'clf__weights': 'distance', 'clf__p': 1, 'clf__n_neighbors': 10, 'clf__algorithm': 'ball_tree'}\n",
      "Average validation accuracy: 0.708\n",
      "Test accuracy: 0.625\n",
      "************************************************************************************************************************\n",
      "\n",
      "sub_43:\n",
      "************************************************************************************************************************\n",
      "partitioning...\n",
      "...complete!\n",
      "\n",
      "Pipeline_1...\n",
      "[('normalization', StandardScaler()), ('dim_reduce', PCA(n_components=0.9)), ('clf', SVC())]\n",
      "\n",
      "Fitting 3 folds for each of 15 candidates, totalling 45 fits\n"
     ]
    },
    {
     "name": "stderr",
     "output_type": "stream",
     "text": [
      "C:\\Users\\61407\\anaconda3\\lib\\site-packages\\sklearn\\model_selection\\_search.py:952: UserWarning: One or more of the test scores are non-finite: [0.41666667 0.58333333 0.5               nan 0.41666667 0.41666667\n",
      " 0.5               nan 0.70833333        nan 0.5        0.70833333\n",
      " 0.5               nan 0.625     ]\n",
      "  warnings.warn(\n"
     ]
    },
    {
     "name": "stdout",
     "output_type": "stream",
     "text": [
      "Best hyperparameters: {'clf__kernel': 'poly', 'clf__gamma': 'auto', 'clf__degree': 3, 'clf__coef0': 2.0, 'clf__C': 0.1}\n",
      "Average validation accuracy: 0.667\n",
      "Test accuracy: 0.5\n",
      "Pipeline_2...\n",
      "[('normalization', StandardScaler()), ('dim_reduce', PCA(n_components=0.9)), ('clf', RandomForestClassifier())]\n",
      "\n",
      "Fitting 3 folds for each of 15 candidates, totalling 45 fits\n",
      "Best hyperparameters: {'clf__n_estimators': 50, 'clf__min_samples_split': 10, 'clf__min_samples_leaf': 2, 'clf__max_features': 'log2', 'clf__max_depth': 30, 'clf__bootstrap': True}\n",
      "Average validation accuracy: 0.708\n",
      "Test accuracy: 0.5\n",
      "Pipeline_3...\n",
      "[('normalization', StandardScaler()), ('dim_reduce', PCA(n_components=0.9)), ('clf', KNeighborsClassifier())]\n",
      "\n",
      "Fitting 3 folds for each of 15 candidates, totalling 45 fits\n",
      "Best hyperparameters: {'clf__weights': 'uniform', 'clf__p': 2, 'clf__n_neighbors': 10, 'clf__algorithm': 'brute'}\n",
      "Average validation accuracy: 0.667\n",
      "Test accuracy: 0.375\n",
      "Pipeline_4...\n",
      "[('normalization', StandardScaler()), ('dim_reduce', FeatureAgglomeration(n_clusters=4)), ('clf', SVC())]\n",
      "\n",
      "Fitting 3 folds for each of 15 candidates, totalling 45 fits\n"
     ]
    },
    {
     "name": "stderr",
     "output_type": "stream",
     "text": [
      "C:\\Users\\61407\\anaconda3\\lib\\site-packages\\sklearn\\model_selection\\_search.py:952: UserWarning: One or more of the test scores are non-finite: [0.625      0.66666667 0.5               nan 0.625      0.625\n",
      " 0.5               nan 0.58333333        nan 0.625      0.58333333\n",
      " 0.625             nan 0.58333333]\n",
      "  warnings.warn(\n"
     ]
    },
    {
     "name": "stdout",
     "output_type": "stream",
     "text": [
      "Best hyperparameters: {'clf__kernel': 'poly', 'clf__gamma': 'scale', 'clf__degree': 4, 'clf__coef0': 1.0, 'clf__C': 0.1}\n",
      "Average validation accuracy: 0.625\n",
      "Test accuracy: 0.25\n",
      "Pipeline_5...\n",
      "[('normalization', StandardScaler()), ('dim_reduce', FeatureAgglomeration(n_clusters=4)), ('clf', RandomForestClassifier())]\n",
      "\n",
      "Fitting 3 folds for each of 15 candidates, totalling 45 fits\n",
      "Best hyperparameters: {'clf__n_estimators': 50, 'clf__min_samples_split': 2, 'clf__min_samples_leaf': 4, 'clf__max_features': 'log2', 'clf__max_depth': 20, 'clf__bootstrap': False}\n",
      "Average validation accuracy: 0.583\n",
      "Test accuracy: 0.375\n",
      "Pipeline_6...\n",
      "[('normalization', StandardScaler()), ('dim_reduce', FeatureAgglomeration(n_clusters=4)), ('clf', KNeighborsClassifier())]\n",
      "\n",
      "Fitting 3 folds for each of 15 candidates, totalling 45 fits\n",
      "Best hyperparameters: {'clf__weights': 'uniform', 'clf__p': 2, 'clf__n_neighbors': 10, 'clf__algorithm': 'brute'}\n",
      "Average validation accuracy: 0.625\n",
      "Test accuracy: 0.375\n",
      "************************************************************************************************************************\n",
      "\n",
      "sub_44:\n",
      "************************************************************************************************************************\n",
      "partitioning...\n",
      "...complete!\n",
      "\n",
      "Pipeline_1...\n",
      "[('normalization', StandardScaler()), ('dim_reduce', PCA(n_components=0.9)), ('clf', SVC())]\n",
      "\n",
      "Fitting 3 folds for each of 15 candidates, totalling 45 fits\n"
     ]
    },
    {
     "name": "stderr",
     "output_type": "stream",
     "text": [
      "C:\\Users\\61407\\anaconda3\\lib\\site-packages\\sklearn\\model_selection\\_search.py:952: UserWarning: One or more of the test scores are non-finite: [0.58333333 0.625      0.375             nan 0.54166667 0.58333333\n",
      " 0.375             nan 0.58333333        nan 0.58333333 0.58333333\n",
      " 0.58333333        nan 0.5       ]\n",
      "  warnings.warn(\n"
     ]
    },
    {
     "name": "stdout",
     "output_type": "stream",
     "text": [
      "Best hyperparameters: {'clf__kernel': 'poly', 'clf__gamma': 'auto', 'clf__degree': 3, 'clf__coef0': 2.0, 'clf__C': 0.1}\n",
      "Average validation accuracy: 0.833\n",
      "Test accuracy: 0.875\n",
      "Pipeline_2...\n",
      "[('normalization', StandardScaler()), ('dim_reduce', PCA(n_components=0.9)), ('clf', RandomForestClassifier())]\n",
      "\n",
      "Fitting 3 folds for each of 15 candidates, totalling 45 fits\n",
      "Best hyperparameters: {'clf__n_estimators': 50, 'clf__min_samples_split': 2, 'clf__min_samples_leaf': 2, 'clf__max_features': None, 'clf__max_depth': 10, 'clf__bootstrap': True}\n",
      "Average validation accuracy: 0.792\n",
      "Test accuracy: 0.5\n",
      "Pipeline_3...\n",
      "[('normalization', StandardScaler()), ('dim_reduce', PCA(n_components=0.9)), ('clf', KNeighborsClassifier())]\n",
      "\n",
      "Fitting 3 folds for each of 15 candidates, totalling 45 fits\n"
     ]
    },
    {
     "name": "stderr",
     "output_type": "stream",
     "text": [
      "C:\\Users\\61407\\anaconda3\\lib\\site-packages\\sklearn\\model_selection\\_search.py:952: UserWarning: One or more of the test scores are non-finite: [0.70833333 0.66666667 0.75              nan 0.70833333 0.70833333\n",
      " 0.75              nan 0.70833333        nan 0.75       0.70833333\n",
      " 0.75              nan 0.75      ]\n",
      "  warnings.warn(\n"
     ]
    },
    {
     "name": "stdout",
     "output_type": "stream",
     "text": [
      "Best hyperparameters: {'clf__weights': 'uniform', 'clf__p': 1, 'clf__n_neighbors': 3, 'clf__algorithm': 'auto'}\n",
      "Average validation accuracy: 0.75\n",
      "Test accuracy: 0.875\n",
      "Pipeline_4...\n",
      "[('normalization', StandardScaler()), ('dim_reduce', FeatureAgglomeration(n_clusters=4)), ('clf', SVC())]\n",
      "\n",
      "Fitting 3 folds for each of 15 candidates, totalling 45 fits\n",
      "Best hyperparameters: {'clf__kernel': 'sigmoid', 'clf__gamma': 'scale', 'clf__degree': 3, 'clf__coef0': 2.0, 'clf__C': 1}\n",
      "Average validation accuracy: 0.792\n",
      "Test accuracy: 0.375\n",
      "Pipeline_5...\n",
      "[('normalization', StandardScaler()), ('dim_reduce', FeatureAgglomeration(n_clusters=4)), ('clf', RandomForestClassifier())]\n",
      "\n",
      "Fitting 3 folds for each of 15 candidates, totalling 45 fits\n",
      "Best hyperparameters: {'clf__n_estimators': 100, 'clf__min_samples_split': 5, 'clf__min_samples_leaf': 1, 'clf__max_features': None, 'clf__max_depth': 10, 'clf__bootstrap': False}\n",
      "Average validation accuracy: 0.625\n",
      "Test accuracy: 0.25\n",
      "Pipeline_6...\n",
      "[('normalization', StandardScaler()), ('dim_reduce', FeatureAgglomeration(n_clusters=4)), ('clf', KNeighborsClassifier())]\n",
      "\n",
      "Fitting 3 folds for each of 15 candidates, totalling 45 fits\n",
      "Best hyperparameters: {'clf__weights': 'uniform', 'clf__p': 2, 'clf__n_neighbors': 10, 'clf__algorithm': 'brute'}\n",
      "Average validation accuracy: 0.708\n",
      "Test accuracy: 0.5\n",
      "************************************************************************************************************************\n",
      "\n",
      "sub_45:\n",
      "************************************************************************************************************************\n",
      "partitioning...\n",
      "...complete!\n",
      "\n",
      "Pipeline_1...\n",
      "[('normalization', StandardScaler()), ('dim_reduce', PCA(n_components=0.9)), ('clf', SVC())]\n",
      "\n",
      "Fitting 3 folds for each of 15 candidates, totalling 45 fits\n"
     ]
    },
    {
     "name": "stderr",
     "output_type": "stream",
     "text": [
      "C:\\Users\\61407\\anaconda3\\lib\\site-packages\\sklearn\\model_selection\\_search.py:952: UserWarning: One or more of the test scores are non-finite: [0.58333333 0.70833333 0.54166667        nan 0.58333333 0.58333333\n",
      " 0.54166667        nan 0.625             nan 0.58333333 0.625\n",
      " 0.58333333        nan 0.58333333]\n",
      "  warnings.warn(\n"
     ]
    },
    {
     "name": "stdout",
     "output_type": "stream",
     "text": [
      "Best hyperparameters: {'clf__kernel': 'poly', 'clf__gamma': 'scale', 'clf__degree': 3, 'clf__coef0': 1.0, 'clf__C': 100}\n",
      "Average validation accuracy: 0.833\n",
      "Test accuracy: 0.625\n",
      "Pipeline_2...\n",
      "[('normalization', StandardScaler()), ('dim_reduce', PCA(n_components=0.9)), ('clf', RandomForestClassifier())]\n",
      "\n",
      "Fitting 3 folds for each of 15 candidates, totalling 45 fits\n",
      "Best hyperparameters: {'clf__n_estimators': 50, 'clf__min_samples_split': 2, 'clf__min_samples_leaf': 4, 'clf__max_features': 'log2', 'clf__max_depth': 20, 'clf__bootstrap': False}\n",
      "Average validation accuracy: 0.833\n",
      "Test accuracy: 0.75\n",
      "Pipeline_3...\n",
      "[('normalization', StandardScaler()), ('dim_reduce', PCA(n_components=0.9)), ('clf', KNeighborsClassifier())]\n",
      "\n",
      "Fitting 3 folds for each of 15 candidates, totalling 45 fits\n",
      "Best hyperparameters: {'clf__weights': 'uniform', 'clf__p': 1, 'clf__n_neighbors': 5, 'clf__algorithm': 'brute'}\n",
      "Average validation accuracy: 0.75\n",
      "Test accuracy: 0.5\n",
      "Pipeline_4...\n",
      "[('normalization', StandardScaler()), ('dim_reduce', FeatureAgglomeration(n_clusters=4)), ('clf', SVC())]\n",
      "\n",
      "Fitting 3 folds for each of 15 candidates, totalling 45 fits\n"
     ]
    },
    {
     "name": "stderr",
     "output_type": "stream",
     "text": [
      "C:\\Users\\61407\\anaconda3\\lib\\site-packages\\sklearn\\model_selection\\_search.py:952: UserWarning: One or more of the test scores are non-finite: [0.75       0.70833333 0.75              nan 0.75       0.75\n",
      " 0.75              nan 0.75              nan 0.75       0.75\n",
      " 0.75              nan 0.75      ]\n",
      "  warnings.warn(\n"
     ]
    },
    {
     "name": "stdout",
     "output_type": "stream",
     "text": [
      "Best hyperparameters: {'clf__kernel': 'poly', 'clf__gamma': 'scale', 'clf__degree': 3, 'clf__coef0': 1.0, 'clf__C': 100}\n",
      "Average validation accuracy: 0.792\n",
      "Test accuracy: 0.5\n",
      "Pipeline_5...\n",
      "[('normalization', StandardScaler()), ('dim_reduce', FeatureAgglomeration(n_clusters=4)), ('clf', RandomForestClassifier())]\n",
      "\n",
      "Fitting 3 folds for each of 15 candidates, totalling 45 fits\n"
     ]
    },
    {
     "name": "stderr",
     "output_type": "stream",
     "text": [
      "C:\\Users\\61407\\anaconda3\\lib\\site-packages\\sklearn\\ensemble\\_forest.py:424: FutureWarning: `max_features='auto'` has been deprecated in 1.1 and will be removed in 1.3. To keep the past behaviour, explicitly set `max_features='sqrt'` or remove this parameter as it is also the default value for RandomForestClassifiers and ExtraTreesClassifiers.\n",
      "  warn(\n"
     ]
    },
    {
     "name": "stdout",
     "output_type": "stream",
     "text": [
      "Best hyperparameters: {'clf__n_estimators': 200, 'clf__min_samples_split': 5, 'clf__min_samples_leaf': 4, 'clf__max_features': 'auto', 'clf__max_depth': None, 'clf__bootstrap': True}\n",
      "Average validation accuracy: 0.625\n",
      "Test accuracy: 0.75\n",
      "Pipeline_6...\n",
      "[('normalization', StandardScaler()), ('dim_reduce', FeatureAgglomeration(n_clusters=4)), ('clf', KNeighborsClassifier())]\n",
      "\n",
      "Fitting 3 folds for each of 15 candidates, totalling 45 fits\n",
      "Best hyperparameters: {'clf__weights': 'uniform', 'clf__p': 1, 'clf__n_neighbors': 5, 'clf__algorithm': 'brute'}\n",
      "Average validation accuracy: 0.792\n",
      "Test accuracy: 0.625\n",
      "************************************************************************************************************************\n",
      "\n",
      "sub_46:\n",
      "************************************************************************************************************************\n",
      "partitioning...\n",
      "...complete!\n",
      "\n",
      "Pipeline_1...\n",
      "[('normalization', StandardScaler()), ('dim_reduce', PCA(n_components=0.9)), ('clf', SVC())]\n",
      "\n",
      "Fitting 3 folds for each of 15 candidates, totalling 45 fits\n"
     ]
    },
    {
     "name": "stderr",
     "output_type": "stream",
     "text": [
      "C:\\Users\\61407\\anaconda3\\lib\\site-packages\\sklearn\\model_selection\\_search.py:952: UserWarning: One or more of the test scores are non-finite: [0.79166667 0.625      0.70833333        nan 0.75       0.79166667\n",
      " 0.70833333        nan 0.58333333        nan 0.625      0.58333333\n",
      " 0.625             nan 0.66666667]\n",
      "  warnings.warn(\n"
     ]
    },
    {
     "name": "stdout",
     "output_type": "stream",
     "text": [
      "Best hyperparameters: {'clf__kernel': 'linear', 'clf__gamma': 'scale', 'clf__degree': 3, 'clf__coef0': 2.0, 'clf__C': 10}\n",
      "Average validation accuracy: 0.792\n",
      "Test accuracy: 0.625\n",
      "Pipeline_2...\n",
      "[('normalization', StandardScaler()), ('dim_reduce', PCA(n_components=0.9)), ('clf', RandomForestClassifier())]\n",
      "\n",
      "Fitting 3 folds for each of 15 candidates, totalling 45 fits\n",
      "Best hyperparameters: {'clf__n_estimators': 200, 'clf__min_samples_split': 5, 'clf__min_samples_leaf': 2, 'clf__max_features': None, 'clf__max_depth': 10, 'clf__bootstrap': False}\n",
      "Average validation accuracy: 0.708\n",
      "Test accuracy: 0.875\n",
      "Pipeline_3...\n",
      "[('normalization', StandardScaler()), ('dim_reduce', PCA(n_components=0.9)), ('clf', KNeighborsClassifier())]\n",
      "\n",
      "Fitting 3 folds for each of 15 candidates, totalling 45 fits\n",
      "Best hyperparameters: {'clf__weights': 'distance', 'clf__p': 1, 'clf__n_neighbors': 10, 'clf__algorithm': 'ball_tree'}\n",
      "Average validation accuracy: 0.75\n",
      "Test accuracy: 0.875\n",
      "Pipeline_4...\n",
      "[('normalization', StandardScaler()), ('dim_reduce', FeatureAgglomeration(n_clusters=4)), ('clf', SVC())]\n",
      "\n",
      "Fitting 3 folds for each of 15 candidates, totalling 45 fits\n"
     ]
    },
    {
     "name": "stderr",
     "output_type": "stream",
     "text": [
      "C:\\Users\\61407\\anaconda3\\lib\\site-packages\\sklearn\\model_selection\\_search.py:952: UserWarning: One or more of the test scores are non-finite: [0.625      0.70833333 0.58333333        nan 0.625      0.625\n",
      " 0.58333333        nan 0.75              nan 0.66666667 0.75\n",
      " 0.66666667        nan 0.66666667]\n",
      "  warnings.warn(\n"
     ]
    },
    {
     "name": "stdout",
     "output_type": "stream",
     "text": [
      "Best hyperparameters: {'clf__kernel': 'sigmoid', 'clf__gamma': 'scale', 'clf__degree': 3, 'clf__coef0': 2.0, 'clf__C': 1}\n",
      "Average validation accuracy: 0.833\n",
      "Test accuracy: 0.875\n",
      "Pipeline_5...\n",
      "[('normalization', StandardScaler()), ('dim_reduce', FeatureAgglomeration(n_clusters=4)), ('clf', RandomForestClassifier())]\n",
      "\n",
      "Fitting 3 folds for each of 15 candidates, totalling 45 fits\n",
      "Best hyperparameters: {'clf__n_estimators': 50, 'clf__min_samples_split': 2, 'clf__min_samples_leaf': 4, 'clf__max_features': 'log2', 'clf__max_depth': 20, 'clf__bootstrap': False}\n",
      "Average validation accuracy: 0.833\n",
      "Test accuracy: 0.875\n",
      "Pipeline_6...\n",
      "[('normalization', StandardScaler()), ('dim_reduce', FeatureAgglomeration(n_clusters=4)), ('clf', KNeighborsClassifier())]\n",
      "\n",
      "Fitting 3 folds for each of 15 candidates, totalling 45 fits\n",
      "Best hyperparameters: {'clf__weights': 'uniform', 'clf__p': 2, 'clf__n_neighbors': 10, 'clf__algorithm': 'brute'}\n",
      "Average validation accuracy: 0.667\n",
      "Test accuracy: 0.875\n",
      "************************************************************************************************************************\n",
      "\n",
      "sub_47:\n",
      "************************************************************************************************************************\n",
      "partitioning...\n",
      "...complete!\n",
      "\n",
      "Pipeline_1...\n",
      "[('normalization', StandardScaler()), ('dim_reduce', PCA(n_components=0.9)), ('clf', SVC())]\n",
      "\n",
      "Fitting 3 folds for each of 15 candidates, totalling 45 fits\n"
     ]
    },
    {
     "name": "stderr",
     "output_type": "stream",
     "text": [
      "C:\\Users\\61407\\anaconda3\\lib\\site-packages\\sklearn\\model_selection\\_search.py:952: UserWarning: One or more of the test scores are non-finite: [0.54166667 0.66666667 0.66666667        nan 0.54166667 0.54166667\n",
      " 0.66666667        nan 0.66666667        nan 0.625      0.66666667\n",
      " 0.625             nan 0.625     ]\n",
      "  warnings.warn(\n"
     ]
    },
    {
     "name": "stdout",
     "output_type": "stream",
     "text": [
      "Best hyperparameters: {'clf__kernel': 'rbf', 'clf__gamma': 0.1, 'clf__degree': 4, 'clf__coef0': 2.0, 'clf__C': 1}\n",
      "Average validation accuracy: 0.833\n",
      "Test accuracy: 0.5\n",
      "Pipeline_2...\n",
      "[('normalization', StandardScaler()), ('dim_reduce', PCA(n_components=0.9)), ('clf', RandomForestClassifier())]\n",
      "\n",
      "Fitting 3 folds for each of 15 candidates, totalling 45 fits\n",
      "Best hyperparameters: {'clf__n_estimators': 100, 'clf__min_samples_split': 5, 'clf__min_samples_leaf': 1, 'clf__max_features': None, 'clf__max_depth': 10, 'clf__bootstrap': False}\n",
      "Average validation accuracy: 0.792\n",
      "Test accuracy: 0.625\n",
      "Pipeline_3...\n",
      "[('normalization', StandardScaler()), ('dim_reduce', PCA(n_components=0.9)), ('clf', KNeighborsClassifier())]\n",
      "\n",
      "Fitting 3 folds for each of 15 candidates, totalling 45 fits\n",
      "Best hyperparameters: {'clf__weights': 'uniform', 'clf__p': 1, 'clf__n_neighbors': 10, 'clf__algorithm': 'brute'}\n",
      "Average validation accuracy: 0.75\n",
      "Test accuracy: 0.625\n",
      "Pipeline_4...\n",
      "[('normalization', StandardScaler()), ('dim_reduce', FeatureAgglomeration(n_clusters=4)), ('clf', SVC())]\n",
      "\n",
      "Fitting 3 folds for each of 15 candidates, totalling 45 fits\n"
     ]
    },
    {
     "name": "stderr",
     "output_type": "stream",
     "text": [
      "C:\\Users\\61407\\anaconda3\\lib\\site-packages\\sklearn\\model_selection\\_search.py:952: UserWarning: One or more of the test scores are non-finite: [0.625      0.66666667 0.58333333        nan 0.625      0.625\n",
      " 0.58333333        nan 0.625             nan 0.75       0.625\n",
      " 0.75              nan 0.625     ]\n",
      "  warnings.warn(\n"
     ]
    },
    {
     "name": "stdout",
     "output_type": "stream",
     "text": [
      "Best hyperparameters: {'clf__kernel': 'poly', 'clf__gamma': 0.1, 'clf__degree': 4, 'clf__coef0': 1.0, 'clf__C': 1}\n",
      "Average validation accuracy: 0.708\n",
      "Test accuracy: 0.625\n",
      "Pipeline_5...\n",
      "[('normalization', StandardScaler()), ('dim_reduce', FeatureAgglomeration(n_clusters=4)), ('clf', RandomForestClassifier())]\n",
      "\n",
      "Fitting 3 folds for each of 15 candidates, totalling 45 fits\n"
     ]
    },
    {
     "name": "stderr",
     "output_type": "stream",
     "text": [
      "C:\\Users\\61407\\anaconda3\\lib\\site-packages\\sklearn\\ensemble\\_forest.py:424: FutureWarning: `max_features='auto'` has been deprecated in 1.1 and will be removed in 1.3. To keep the past behaviour, explicitly set `max_features='sqrt'` or remove this parameter as it is also the default value for RandomForestClassifiers and ExtraTreesClassifiers.\n",
      "  warn(\n"
     ]
    },
    {
     "name": "stdout",
     "output_type": "stream",
     "text": [
      "Best hyperparameters: {'clf__n_estimators': 200, 'clf__min_samples_split': 5, 'clf__min_samples_leaf': 4, 'clf__max_features': 'auto', 'clf__max_depth': None, 'clf__bootstrap': True}\n",
      "Average validation accuracy: 0.708\n",
      "Test accuracy: 0.75\n",
      "Pipeline_6...\n",
      "[('normalization', StandardScaler()), ('dim_reduce', FeatureAgglomeration(n_clusters=4)), ('clf', KNeighborsClassifier())]\n",
      "\n",
      "Fitting 3 folds for each of 15 candidates, totalling 45 fits\n",
      "Best hyperparameters: {'clf__weights': 'uniform', 'clf__p': 2, 'clf__n_neighbors': 10, 'clf__algorithm': 'brute'}\n",
      "Average validation accuracy: 0.708\n",
      "Test accuracy: 0.5\n",
      "************************************************************************************************************************\n",
      "\n",
      "sub_48:\n",
      "************************************************************************************************************************\n",
      "partitioning...\n",
      "...complete!\n",
      "\n",
      "Pipeline_1...\n",
      "[('normalization', StandardScaler()), ('dim_reduce', PCA(n_components=0.9)), ('clf', SVC())]\n",
      "\n",
      "Fitting 3 folds for each of 15 candidates, totalling 45 fits\n"
     ]
    },
    {
     "name": "stderr",
     "output_type": "stream",
     "text": [
      "C:\\Users\\61407\\anaconda3\\lib\\site-packages\\sklearn\\model_selection\\_search.py:952: UserWarning: One or more of the test scores are non-finite: [0.66666667 0.70833333 0.54166667        nan 0.70833333 0.66666667\n",
      " 0.54166667        nan 0.625             nan 0.58333333 0.625\n",
      " 0.58333333        nan 0.625     ]\n",
      "  warnings.warn(\n"
     ]
    },
    {
     "name": "stdout",
     "output_type": "stream",
     "text": [
      "Best hyperparameters: {'clf__kernel': 'rbf', 'clf__gamma': 0.1, 'clf__degree': 4, 'clf__coef0': 2.0, 'clf__C': 1}\n",
      "Average validation accuracy: 0.667\n",
      "Test accuracy: 0.25\n",
      "Pipeline_2...\n",
      "[('normalization', StandardScaler()), ('dim_reduce', PCA(n_components=0.9)), ('clf', RandomForestClassifier())]\n",
      "\n",
      "Fitting 3 folds for each of 15 candidates, totalling 45 fits\n"
     ]
    },
    {
     "name": "stderr",
     "output_type": "stream",
     "text": [
      "C:\\Users\\61407\\anaconda3\\lib\\site-packages\\sklearn\\ensemble\\_forest.py:424: FutureWarning: `max_features='auto'` has been deprecated in 1.1 and will be removed in 1.3. To keep the past behaviour, explicitly set `max_features='sqrt'` or remove this parameter as it is also the default value for RandomForestClassifiers and ExtraTreesClassifiers.\n",
      "  warn(\n"
     ]
    },
    {
     "name": "stdout",
     "output_type": "stream",
     "text": [
      "Best hyperparameters: {'clf__n_estimators': 200, 'clf__min_samples_split': 5, 'clf__min_samples_leaf': 4, 'clf__max_features': 'auto', 'clf__max_depth': None, 'clf__bootstrap': True}\n",
      "Average validation accuracy: 0.708\n",
      "Test accuracy: 0.25\n",
      "Pipeline_3...\n",
      "[('normalization', StandardScaler()), ('dim_reduce', PCA(n_components=0.9)), ('clf', KNeighborsClassifier())]\n",
      "\n",
      "Fitting 3 folds for each of 15 candidates, totalling 45 fits\n",
      "Best hyperparameters: {'clf__weights': 'uniform', 'clf__p': 1, 'clf__n_neighbors': 5, 'clf__algorithm': 'brute'}\n",
      "Average validation accuracy: 0.667\n",
      "Test accuracy: 0.375\n",
      "Pipeline_4...\n",
      "[('normalization', StandardScaler()), ('dim_reduce', FeatureAgglomeration(n_clusters=4)), ('clf', SVC())]\n",
      "\n",
      "Fitting 3 folds for each of 15 candidates, totalling 45 fits\n"
     ]
    },
    {
     "name": "stderr",
     "output_type": "stream",
     "text": [
      "C:\\Users\\61407\\anaconda3\\lib\\site-packages\\sklearn\\model_selection\\_search.py:952: UserWarning: One or more of the test scores are non-finite: [0.66666667 0.66666667 0.66666667        nan 0.66666667 0.66666667\n",
      " 0.66666667        nan 0.66666667        nan 0.625      0.66666667\n",
      " 0.625             nan 0.66666667]\n",
      "  warnings.warn(\n"
     ]
    },
    {
     "name": "stdout",
     "output_type": "stream",
     "text": [
      "Best hyperparameters: {'clf__kernel': 'poly', 'clf__gamma': 0.1, 'clf__degree': 2, 'clf__coef0': 1.0, 'clf__C': 10}\n",
      "Average validation accuracy: 0.667\n",
      "Test accuracy: 0.375\n",
      "Pipeline_5...\n",
      "[('normalization', StandardScaler()), ('dim_reduce', FeatureAgglomeration(n_clusters=4)), ('clf', RandomForestClassifier())]\n",
      "\n",
      "Fitting 3 folds for each of 15 candidates, totalling 45 fits\n",
      "Best hyperparameters: {'clf__n_estimators': 100, 'clf__min_samples_split': 5, 'clf__min_samples_leaf': 1, 'clf__max_features': None, 'clf__max_depth': 10, 'clf__bootstrap': False}\n",
      "Average validation accuracy: 0.625\n",
      "Test accuracy: 1.0\n",
      "Pipeline_6...\n",
      "[('normalization', StandardScaler()), ('dim_reduce', FeatureAgglomeration(n_clusters=4)), ('clf', KNeighborsClassifier())]\n",
      "\n",
      "Fitting 3 folds for each of 15 candidates, totalling 45 fits\n",
      "Best hyperparameters: {'clf__weights': 'uniform', 'clf__p': 2, 'clf__n_neighbors': 10, 'clf__algorithm': 'brute'}\n",
      "Average validation accuracy: 0.667\n",
      "Test accuracy: 0.375\n",
      "************************************************************************************************************************\n",
      "\n",
      "sub_49:\n",
      "************************************************************************************************************************\n",
      "partitioning...\n",
      "...complete!\n",
      "\n",
      "Pipeline_1...\n",
      "[('normalization', StandardScaler()), ('dim_reduce', PCA(n_components=0.9)), ('clf', SVC())]\n",
      "\n",
      "Fitting 3 folds for each of 15 candidates, totalling 45 fits\n"
     ]
    },
    {
     "name": "stderr",
     "output_type": "stream",
     "text": [
      "C:\\Users\\61407\\anaconda3\\lib\\site-packages\\sklearn\\model_selection\\_search.py:952: UserWarning: One or more of the test scores are non-finite: [0.625      0.66666667 0.58333333        nan 0.58333333 0.625\n",
      " 0.58333333        nan 0.54166667        nan 0.625      0.54166667\n",
      " 0.625             nan 0.66666667]\n",
      "  warnings.warn(\n"
     ]
    },
    {
     "name": "stdout",
     "output_type": "stream",
     "text": [
      "Best hyperparameters: {'clf__kernel': 'poly', 'clf__gamma': 0.1, 'clf__degree': 2, 'clf__coef0': 1.0, 'clf__C': 10}\n",
      "Average validation accuracy: 0.792\n",
      "Test accuracy: 0.375\n",
      "Pipeline_2...\n",
      "[('normalization', StandardScaler()), ('dim_reduce', PCA(n_components=0.9)), ('clf', RandomForestClassifier())]\n",
      "\n",
      "Fitting 3 folds for each of 15 candidates, totalling 45 fits\n",
      "Best hyperparameters: {'clf__n_estimators': 50, 'clf__min_samples_split': 2, 'clf__min_samples_leaf': 4, 'clf__max_features': 'log2', 'clf__max_depth': 20, 'clf__bootstrap': False}\n",
      "Average validation accuracy: 0.583\n",
      "Test accuracy: 0.5\n",
      "Pipeline_3...\n",
      "[('normalization', StandardScaler()), ('dim_reduce', PCA(n_components=0.9)), ('clf', KNeighborsClassifier())]\n",
      "\n",
      "Fitting 3 folds for each of 15 candidates, totalling 45 fits\n",
      "Best hyperparameters: {'clf__weights': 'uniform', 'clf__p': 2, 'clf__n_neighbors': 10, 'clf__algorithm': 'brute'}\n",
      "Average validation accuracy: 0.708\n",
      "Test accuracy: 0.625\n",
      "Pipeline_4...\n",
      "[('normalization', StandardScaler()), ('dim_reduce', FeatureAgglomeration(n_clusters=4)), ('clf', SVC())]\n",
      "\n",
      "Fitting 3 folds for each of 15 candidates, totalling 45 fits\n"
     ]
    },
    {
     "name": "stderr",
     "output_type": "stream",
     "text": [
      "C:\\Users\\61407\\anaconda3\\lib\\site-packages\\sklearn\\model_selection\\_search.py:952: UserWarning: One or more of the test scores are non-finite: [0.58333333 0.70833333 0.625             nan 0.58333333 0.58333333\n",
      " 0.625             nan 0.5               nan 0.58333333 0.5\n",
      " 0.58333333        nan 0.66666667]\n",
      "  warnings.warn(\n"
     ]
    },
    {
     "name": "stdout",
     "output_type": "stream",
     "text": [
      "Best hyperparameters: {'clf__kernel': 'sigmoid', 'clf__gamma': 'scale', 'clf__degree': 3, 'clf__coef0': 2.0, 'clf__C': 1}\n",
      "Average validation accuracy: 0.792\n",
      "Test accuracy: 0.625\n",
      "Pipeline_5...\n",
      "[('normalization', StandardScaler()), ('dim_reduce', FeatureAgglomeration(n_clusters=4)), ('clf', RandomForestClassifier())]\n",
      "\n",
      "Fitting 3 folds for each of 15 candidates, totalling 45 fits\n",
      "Best hyperparameters: {'clf__n_estimators': 50, 'clf__min_samples_split': 2, 'clf__min_samples_leaf': 4, 'clf__max_features': 'log2', 'clf__max_depth': 20, 'clf__bootstrap': False}\n",
      "Average validation accuracy: 0.667\n",
      "Test accuracy: 0.25\n",
      "Pipeline_6...\n",
      "[('normalization', StandardScaler()), ('dim_reduce', FeatureAgglomeration(n_clusters=4)), ('clf', KNeighborsClassifier())]\n",
      "\n",
      "Fitting 3 folds for each of 15 candidates, totalling 45 fits\n",
      "Best hyperparameters: {'clf__weights': 'distance', 'clf__p': 1, 'clf__n_neighbors': 10, 'clf__algorithm': 'ball_tree'}\n",
      "Average validation accuracy: 0.667\n",
      "Test accuracy: 0.625\n",
      "************************************************************************************************************************\n",
      "\n",
      "sub_5:\n",
      "************************************************************************************************************************\n",
      "partitioning...\n",
      "...complete!\n",
      "\n",
      "Pipeline_1...\n",
      "[('normalization', StandardScaler()), ('dim_reduce', PCA(n_components=0.9)), ('clf', SVC())]\n",
      "\n",
      "Fitting 3 folds for each of 15 candidates, totalling 45 fits\n"
     ]
    },
    {
     "name": "stderr",
     "output_type": "stream",
     "text": [
      "C:\\Users\\61407\\anaconda3\\lib\\site-packages\\sklearn\\model_selection\\_search.py:952: UserWarning: One or more of the test scores are non-finite: [0.625      0.5        0.58333333        nan 0.58333333 0.625\n",
      " 0.58333333        nan 0.66666667        nan 0.58333333 0.66666667\n",
      " 0.58333333        nan 0.58333333]\n",
      "  warnings.warn(\n"
     ]
    },
    {
     "name": "stdout",
     "output_type": "stream",
     "text": [
      "Best hyperparameters: {'clf__kernel': 'poly', 'clf__gamma': 'scale', 'clf__degree': 4, 'clf__coef0': 1.0, 'clf__C': 0.1}\n",
      "Average validation accuracy: 0.833\n",
      "Test accuracy: 0.75\n",
      "Pipeline_2...\n",
      "[('normalization', StandardScaler()), ('dim_reduce', PCA(n_components=0.9)), ('clf', RandomForestClassifier())]\n",
      "\n",
      "Fitting 3 folds for each of 15 candidates, totalling 45 fits\n",
      "Best hyperparameters: {'clf__n_estimators': 200, 'clf__min_samples_split': 10, 'clf__min_samples_leaf': 4, 'clf__max_features': 'sqrt', 'clf__max_depth': None, 'clf__bootstrap': False}\n",
      "Average validation accuracy: 0.708\n",
      "Test accuracy: 0.75\n",
      "Pipeline_3...\n",
      "[('normalization', StandardScaler()), ('dim_reduce', PCA(n_components=0.9)), ('clf', KNeighborsClassifier())]\n",
      "\n",
      "Fitting 3 folds for each of 15 candidates, totalling 45 fits\n",
      "Best hyperparameters: {'clf__weights': 'distance', 'clf__p': 1, 'clf__n_neighbors': 10, 'clf__algorithm': 'ball_tree'}\n",
      "Average validation accuracy: 0.75\n",
      "Test accuracy: 0.875\n",
      "Pipeline_4...\n",
      "[('normalization', StandardScaler()), ('dim_reduce', FeatureAgglomeration(n_clusters=4)), ('clf', SVC())]\n",
      "\n",
      "Fitting 3 folds for each of 15 candidates, totalling 45 fits\n"
     ]
    },
    {
     "name": "stderr",
     "output_type": "stream",
     "text": [
      "C:\\Users\\61407\\anaconda3\\lib\\site-packages\\sklearn\\model_selection\\_search.py:952: UserWarning: One or more of the test scores are non-finite: [0.70833333 0.70833333 0.70833333        nan 0.70833333 0.70833333\n",
      " 0.70833333        nan 0.75              nan 0.70833333 0.75\n",
      " 0.70833333        nan 0.75      ]\n",
      "  warnings.warn(\n"
     ]
    },
    {
     "name": "stdout",
     "output_type": "stream",
     "text": [
      "Best hyperparameters: {'clf__kernel': 'poly', 'clf__gamma': 'auto', 'clf__degree': 2, 'clf__coef0': 2.0, 'clf__C': 100}\n",
      "Average validation accuracy: 0.917\n",
      "Test accuracy: 1.0\n",
      "Pipeline_5...\n",
      "[('normalization', StandardScaler()), ('dim_reduce', FeatureAgglomeration(n_clusters=4)), ('clf', RandomForestClassifier())]\n",
      "\n",
      "Fitting 3 folds for each of 15 candidates, totalling 45 fits\n",
      "Best hyperparameters: {'clf__n_estimators': 200, 'clf__min_samples_split': 5, 'clf__min_samples_leaf': 2, 'clf__max_features': None, 'clf__max_depth': 10, 'clf__bootstrap': False}\n",
      "Average validation accuracy: 0.792\n",
      "Test accuracy: 0.875\n",
      "Pipeline_6...\n",
      "[('normalization', StandardScaler()), ('dim_reduce', FeatureAgglomeration(n_clusters=4)), ('clf', KNeighborsClassifier())]\n",
      "\n",
      "Fitting 3 folds for each of 15 candidates, totalling 45 fits\n",
      "Best hyperparameters: {'clf__weights': 'distance', 'clf__p': 1, 'clf__n_neighbors': 5, 'clf__algorithm': 'auto'}\n",
      "Average validation accuracy: 0.792\n",
      "Test accuracy: 1.0\n",
      "************************************************************************************************************************\n",
      "\n",
      "sub_51:\n",
      "************************************************************************************************************************\n",
      "partitioning...\n",
      "...complete!\n",
      "\n",
      "Pipeline_1...\n",
      "[('normalization', StandardScaler()), ('dim_reduce', PCA(n_components=0.9)), ('clf', SVC())]\n",
      "\n",
      "Fitting 3 folds for each of 15 candidates, totalling 45 fits\n"
     ]
    },
    {
     "name": "stderr",
     "output_type": "stream",
     "text": [
      "C:\\Users\\61407\\anaconda3\\lib\\site-packages\\sklearn\\model_selection\\_search.py:952: UserWarning: One or more of the test scores are non-finite: [0.75       0.70833333 0.625             nan 0.79166667 0.75\n",
      " 0.625             nan 0.75              nan 0.66666667 0.75\n",
      " 0.66666667        nan 0.58333333]\n",
      "  warnings.warn(\n"
     ]
    },
    {
     "name": "stdout",
     "output_type": "stream",
     "text": [
      "Best hyperparameters: {'clf__kernel': 'linear', 'clf__gamma': 'scale', 'clf__degree': 3, 'clf__coef0': 2.0, 'clf__C': 10}\n",
      "Average validation accuracy: 0.833\n",
      "Test accuracy: 0.875\n",
      "Pipeline_2...\n",
      "[('normalization', StandardScaler()), ('dim_reduce', PCA(n_components=0.9)), ('clf', RandomForestClassifier())]\n",
      "\n",
      "Fitting 3 folds for each of 15 candidates, totalling 45 fits\n",
      "Best hyperparameters: {'clf__n_estimators': 100, 'clf__min_samples_split': 2, 'clf__min_samples_leaf': 1, 'clf__max_features': None, 'clf__max_depth': 20, 'clf__bootstrap': True}\n",
      "Average validation accuracy: 0.792\n",
      "Test accuracy: 0.625\n",
      "Pipeline_3...\n",
      "[('normalization', StandardScaler()), ('dim_reduce', PCA(n_components=0.9)), ('clf', KNeighborsClassifier())]\n",
      "\n",
      "Fitting 3 folds for each of 15 candidates, totalling 45 fits\n",
      "Best hyperparameters: {'clf__weights': 'distance', 'clf__p': 1, 'clf__n_neighbors': 5, 'clf__algorithm': 'auto'}\n",
      "Average validation accuracy: 0.75\n",
      "Test accuracy: 0.75\n",
      "Pipeline_4...\n",
      "[('normalization', StandardScaler()), ('dim_reduce', FeatureAgglomeration(n_clusters=4)), ('clf', SVC())]\n",
      "\n",
      "Fitting 3 folds for each of 15 candidates, totalling 45 fits\n"
     ]
    },
    {
     "name": "stderr",
     "output_type": "stream",
     "text": [
      "C:\\Users\\61407\\anaconda3\\lib\\site-packages\\sklearn\\model_selection\\_search.py:952: UserWarning: One or more of the test scores are non-finite: [0.70833333 0.58333333 0.70833333        nan 0.75       0.70833333\n",
      " 0.70833333        nan 0.625             nan 0.58333333 0.625\n",
      " 0.58333333        nan 0.70833333]\n",
      "  warnings.warn(\n"
     ]
    },
    {
     "name": "stdout",
     "output_type": "stream",
     "text": [
      "Best hyperparameters: {'clf__kernel': 'linear', 'clf__gamma': 'scale', 'clf__degree': 3, 'clf__coef0': 2.0, 'clf__C': 10}\n",
      "Average validation accuracy: 0.833\n",
      "Test accuracy: 0.5\n",
      "Pipeline_5...\n",
      "[('normalization', StandardScaler()), ('dim_reduce', FeatureAgglomeration(n_clusters=4)), ('clf', RandomForestClassifier())]\n",
      "\n",
      "Fitting 3 folds for each of 15 candidates, totalling 45 fits\n",
      "Best hyperparameters: {'clf__n_estimators': 200, 'clf__min_samples_split': 2, 'clf__min_samples_leaf': 1, 'clf__max_features': None, 'clf__max_depth': 20, 'clf__bootstrap': True}\n",
      "Average validation accuracy: 0.917\n",
      "Test accuracy: 0.625\n",
      "Pipeline_6...\n",
      "[('normalization', StandardScaler()), ('dim_reduce', FeatureAgglomeration(n_clusters=4)), ('clf', KNeighborsClassifier())]\n",
      "\n",
      "Fitting 3 folds for each of 15 candidates, totalling 45 fits\n",
      "Best hyperparameters: {'clf__weights': 'distance', 'clf__p': 1, 'clf__n_neighbors': 10, 'clf__algorithm': 'ball_tree'}\n",
      "Average validation accuracy: 0.833\n",
      "Test accuracy: 0.75\n",
      "************************************************************************************************************************\n",
      "\n",
      "sub_52:\n",
      "************************************************************************************************************************\n",
      "partitioning...\n",
      "...complete!\n",
      "\n",
      "Pipeline_1...\n",
      "[('normalization', StandardScaler()), ('dim_reduce', PCA(n_components=0.9)), ('clf', SVC())]\n",
      "\n",
      "Fitting 3 folds for each of 15 candidates, totalling 45 fits\n"
     ]
    },
    {
     "name": "stderr",
     "output_type": "stream",
     "text": [
      "C:\\Users\\61407\\anaconda3\\lib\\site-packages\\sklearn\\model_selection\\_search.py:952: UserWarning: One or more of the test scores are non-finite: [0.75       0.625      0.79166667        nan 0.79166667 0.75\n",
      " 0.79166667        nan 0.83333333        nan 0.5        0.83333333\n",
      " 0.5               nan 0.79166667]\n",
      "  warnings.warn(\n"
     ]
    },
    {
     "name": "stdout",
     "output_type": "stream",
     "text": [
      "Best hyperparameters: {'clf__kernel': 'poly', 'clf__gamma': 'scale', 'clf__degree': 4, 'clf__coef0': 1.0, 'clf__C': 0.1}\n",
      "Average validation accuracy: 0.75\n",
      "Test accuracy: 0.75\n",
      "Pipeline_2...\n",
      "[('normalization', StandardScaler()), ('dim_reduce', PCA(n_components=0.9)), ('clf', RandomForestClassifier())]\n",
      "\n",
      "Fitting 3 folds for each of 15 candidates, totalling 45 fits\n",
      "Best hyperparameters: {'clf__n_estimators': 50, 'clf__min_samples_split': 5, 'clf__min_samples_leaf': 2, 'clf__max_features': None, 'clf__max_depth': 20, 'clf__bootstrap': True}\n",
      "Average validation accuracy: 0.542\n",
      "Test accuracy: 0.375\n",
      "Pipeline_3...\n",
      "[('normalization', StandardScaler()), ('dim_reduce', PCA(n_components=0.9)), ('clf', KNeighborsClassifier())]\n",
      "\n",
      "Fitting 3 folds for each of 15 candidates, totalling 45 fits\n",
      "Best hyperparameters: {'clf__weights': 'uniform', 'clf__p': 2, 'clf__n_neighbors': 3, 'clf__algorithm': 'kd_tree'}\n",
      "Average validation accuracy: 0.708\n",
      "Test accuracy: 0.875\n",
      "Pipeline_4...\n",
      "[('normalization', StandardScaler()), ('dim_reduce', FeatureAgglomeration(n_clusters=4)), ('clf', SVC())]\n",
      "\n",
      "Fitting 3 folds for each of 15 candidates, totalling 45 fits\n"
     ]
    },
    {
     "name": "stderr",
     "output_type": "stream",
     "text": [
      "C:\\Users\\61407\\anaconda3\\lib\\site-packages\\sklearn\\model_selection\\_search.py:952: UserWarning: One or more of the test scores are non-finite: [0.54166667 0.66666667 0.5               nan 0.54166667 0.54166667\n",
      " 0.5               nan 0.54166667        nan 0.41666667 0.54166667\n",
      " 0.41666667        nan 0.70833333]\n",
      "  warnings.warn(\n"
     ]
    },
    {
     "name": "stdout",
     "output_type": "stream",
     "text": [
      "Best hyperparameters: {'clf__kernel': 'poly', 'clf__gamma': 'scale', 'clf__degree': 3, 'clf__coef0': 2.0, 'clf__C': 10}\n",
      "Average validation accuracy: 0.583\n",
      "Test accuracy: 0.25\n",
      "Pipeline_5...\n",
      "[('normalization', StandardScaler()), ('dim_reduce', FeatureAgglomeration(n_clusters=4)), ('clf', RandomForestClassifier())]\n",
      "\n",
      "Fitting 3 folds for each of 15 candidates, totalling 45 fits\n",
      "Best hyperparameters: {'clf__n_estimators': 100, 'clf__min_samples_split': 10, 'clf__min_samples_leaf': 1, 'clf__max_features': 'sqrt', 'clf__max_depth': 20, 'clf__bootstrap': False}\n",
      "Average validation accuracy: 0.625\n",
      "Test accuracy: 0.375\n",
      "Pipeline_6...\n",
      "[('normalization', StandardScaler()), ('dim_reduce', FeatureAgglomeration(n_clusters=4)), ('clf', KNeighborsClassifier())]\n",
      "\n",
      "Fitting 3 folds for each of 15 candidates, totalling 45 fits\n",
      "Best hyperparameters: {'clf__weights': 'uniform', 'clf__p': 1, 'clf__n_neighbors': 10, 'clf__algorithm': 'brute'}\n",
      "Average validation accuracy: 0.583\n",
      "Test accuracy: 0.25\n",
      "************************************************************************************************************************\n",
      "\n",
      "sub_54:\n",
      "************************************************************************************************************************\n",
      "partitioning...\n",
      "...complete!\n",
      "\n",
      "Pipeline_1...\n",
      "[('normalization', StandardScaler()), ('dim_reduce', PCA(n_components=0.9)), ('clf', SVC())]\n",
      "\n",
      "Fitting 3 folds for each of 15 candidates, totalling 45 fits\n"
     ]
    },
    {
     "name": "stderr",
     "output_type": "stream",
     "text": [
      "C:\\Users\\61407\\anaconda3\\lib\\site-packages\\sklearn\\model_selection\\_search.py:952: UserWarning: One or more of the test scores are non-finite: [0.54166667 0.5        0.41666667        nan 0.54166667 0.54166667\n",
      " 0.41666667        nan 0.375             nan 0.58333333 0.375\n",
      " 0.58333333        nan 0.41666667]\n",
      "  warnings.warn(\n"
     ]
    },
    {
     "name": "stdout",
     "output_type": "stream",
     "text": [
      "Best hyperparameters: {'clf__kernel': 'linear', 'clf__gamma': 'scale', 'clf__degree': 3, 'clf__coef0': 2.0, 'clf__C': 10}\n",
      "Average validation accuracy: 0.708\n",
      "Test accuracy: 0.75\n",
      "Pipeline_2...\n",
      "[('normalization', StandardScaler()), ('dim_reduce', PCA(n_components=0.9)), ('clf', RandomForestClassifier())]\n",
      "\n",
      "Fitting 3 folds for each of 15 candidates, totalling 45 fits\n"
     ]
    },
    {
     "name": "stderr",
     "output_type": "stream",
     "text": [
      "C:\\Users\\61407\\anaconda3\\lib\\site-packages\\sklearn\\ensemble\\_forest.py:424: FutureWarning: `max_features='auto'` has been deprecated in 1.1 and will be removed in 1.3. To keep the past behaviour, explicitly set `max_features='sqrt'` or remove this parameter as it is also the default value for RandomForestClassifiers and ExtraTreesClassifiers.\n",
      "  warn(\n"
     ]
    },
    {
     "name": "stdout",
     "output_type": "stream",
     "text": [
      "Best hyperparameters: {'clf__n_estimators': 200, 'clf__min_samples_split': 5, 'clf__min_samples_leaf': 4, 'clf__max_features': 'auto', 'clf__max_depth': None, 'clf__bootstrap': True}\n",
      "Average validation accuracy: 0.75\n",
      "Test accuracy: 0.625\n",
      "Pipeline_3...\n",
      "[('normalization', StandardScaler()), ('dim_reduce', PCA(n_components=0.9)), ('clf', KNeighborsClassifier())]\n",
      "\n",
      "Fitting 3 folds for each of 15 candidates, totalling 45 fits\n",
      "Best hyperparameters: {'clf__weights': 'uniform', 'clf__p': 1, 'clf__n_neighbors': 3, 'clf__algorithm': 'auto'}\n",
      "Average validation accuracy: 0.667\n",
      "Test accuracy: 0.75\n",
      "Pipeline_4...\n",
      "[('normalization', StandardScaler()), ('dim_reduce', FeatureAgglomeration(n_clusters=4)), ('clf', SVC())]\n",
      "\n",
      "Fitting 3 folds for each of 15 candidates, totalling 45 fits\n"
     ]
    },
    {
     "name": "stderr",
     "output_type": "stream",
     "text": [
      "C:\\Users\\61407\\anaconda3\\lib\\site-packages\\sklearn\\model_selection\\_search.py:952: UserWarning: One or more of the test scores are non-finite: [0.625      0.5        0.66666667        nan 0.625      0.625\n",
      " 0.66666667        nan 0.58333333        nan 0.58333333 0.58333333\n",
      " 0.58333333        nan 0.66666667]\n",
      "  warnings.warn(\n"
     ]
    },
    {
     "name": "stdout",
     "output_type": "stream",
     "text": [
      "Best hyperparameters: {'clf__kernel': 'sigmoid', 'clf__gamma': 1, 'clf__degree': 2, 'clf__coef0': 0.0, 'clf__C': 100}\n",
      "Average validation accuracy: 0.667\n",
      "Test accuracy: 0.5\n",
      "Pipeline_5...\n",
      "[('normalization', StandardScaler()), ('dim_reduce', FeatureAgglomeration(n_clusters=4)), ('clf', RandomForestClassifier())]\n",
      "\n",
      "Fitting 3 folds for each of 15 candidates, totalling 45 fits\n",
      "Best hyperparameters: {'clf__n_estimators': 200, 'clf__min_samples_split': 5, 'clf__min_samples_leaf': 1, 'clf__max_features': 'sqrt', 'clf__max_depth': None, 'clf__bootstrap': False}\n",
      "Average validation accuracy: 0.625\n",
      "Test accuracy: 0.75\n",
      "Pipeline_6...\n",
      "[('normalization', StandardScaler()), ('dim_reduce', FeatureAgglomeration(n_clusters=4)), ('clf', KNeighborsClassifier())]\n",
      "\n",
      "Fitting 3 folds for each of 15 candidates, totalling 45 fits\n",
      "Best hyperparameters: {'clf__weights': 'uniform', 'clf__p': 1, 'clf__n_neighbors': 5, 'clf__algorithm': 'brute'}\n",
      "Average validation accuracy: 0.5\n",
      "Test accuracy: 0.625\n",
      "************************************************************************************************************************\n",
      "\n",
      "sub_55:\n",
      "************************************************************************************************************************\n",
      "partitioning...\n",
      "...complete!\n",
      "\n",
      "Pipeline_1...\n",
      "[('normalization', StandardScaler()), ('dim_reduce', PCA(n_components=0.9)), ('clf', SVC())]\n",
      "\n",
      "Fitting 3 folds for each of 15 candidates, totalling 45 fits\n"
     ]
    },
    {
     "name": "stderr",
     "output_type": "stream",
     "text": [
      "C:\\Users\\61407\\anaconda3\\lib\\site-packages\\sklearn\\model_selection\\_search.py:952: UserWarning: One or more of the test scores are non-finite: [0.5        0.41666667 0.41666667        nan 0.5        0.5\n",
      " 0.41666667        nan 0.41666667        nan 0.41666667 0.41666667\n",
      " 0.41666667        nan 0.5       ]\n",
      "  warnings.warn(\n"
     ]
    },
    {
     "name": "stdout",
     "output_type": "stream",
     "text": [
      "Best hyperparameters: {'clf__kernel': 'linear', 'clf__gamma': 'scale', 'clf__degree': 3, 'clf__coef0': 2.0, 'clf__C': 10}\n",
      "Average validation accuracy: 0.958\n",
      "Test accuracy: 0.75\n",
      "Pipeline_2...\n",
      "[('normalization', StandardScaler()), ('dim_reduce', PCA(n_components=0.9)), ('clf', RandomForestClassifier())]\n",
      "\n",
      "Fitting 3 folds for each of 15 candidates, totalling 45 fits\n",
      "Best hyperparameters: {'clf__n_estimators': 50, 'clf__min_samples_split': 10, 'clf__min_samples_leaf': 2, 'clf__max_features': 'log2', 'clf__max_depth': 30, 'clf__bootstrap': True}\n",
      "Average validation accuracy: 0.917\n",
      "Test accuracy: 0.875\n",
      "Pipeline_3...\n",
      "[('normalization', StandardScaler()), ('dim_reduce', PCA(n_components=0.9)), ('clf', KNeighborsClassifier())]\n",
      "\n",
      "Fitting 3 folds for each of 15 candidates, totalling 45 fits\n",
      "Best hyperparameters: {'clf__weights': 'uniform', 'clf__p': 1, 'clf__n_neighbors': 10, 'clf__algorithm': 'brute'}\n",
      "Average validation accuracy: 0.875\n",
      "Test accuracy: 0.75\n",
      "Pipeline_4...\n",
      "[('normalization', StandardScaler()), ('dim_reduce', FeatureAgglomeration(n_clusters=4)), ('clf', SVC())]\n",
      "\n",
      "Fitting 3 folds for each of 15 candidates, totalling 45 fits\n"
     ]
    },
    {
     "name": "stderr",
     "output_type": "stream",
     "text": [
      "C:\\Users\\61407\\anaconda3\\lib\\site-packages\\sklearn\\model_selection\\_search.py:952: UserWarning: One or more of the test scores are non-finite: [0.70833333 0.79166667 0.75              nan 0.70833333 0.70833333\n",
      " 0.75              nan 0.66666667        nan 0.875      0.66666667\n",
      " 0.875             nan 0.79166667]\n",
      "  warnings.warn(\n"
     ]
    },
    {
     "name": "stdout",
     "output_type": "stream",
     "text": [
      "Best hyperparameters: {'clf__kernel': 'poly', 'clf__gamma': 'auto', 'clf__degree': 2, 'clf__coef0': 2.0, 'clf__C': 100}\n",
      "Average validation accuracy: 0.917\n",
      "Test accuracy: 0.625\n",
      "Pipeline_5...\n",
      "[('normalization', StandardScaler()), ('dim_reduce', FeatureAgglomeration(n_clusters=4)), ('clf', RandomForestClassifier())]\n",
      "\n",
      "Fitting 3 folds for each of 15 candidates, totalling 45 fits\n",
      "Best hyperparameters: {'clf__n_estimators': 50, 'clf__min_samples_split': 2, 'clf__min_samples_leaf': 2, 'clf__max_features': None, 'clf__max_depth': 10, 'clf__bootstrap': True}\n",
      "Average validation accuracy: 0.917\n",
      "Test accuracy: 0.75\n",
      "Pipeline_6...\n",
      "[('normalization', StandardScaler()), ('dim_reduce', FeatureAgglomeration(n_clusters=4)), ('clf', KNeighborsClassifier())]\n",
      "\n",
      "Fitting 3 folds for each of 15 candidates, totalling 45 fits\n",
      "Best hyperparameters: {'clf__weights': 'uniform', 'clf__p': 1, 'clf__n_neighbors': 3, 'clf__algorithm': 'auto'}\n",
      "Average validation accuracy: 0.75\n",
      "Test accuracy: 0.875\n",
      "************************************************************************************************************************\n",
      "\n",
      "sub_56:\n",
      "************************************************************************************************************************\n",
      "partitioning...\n",
      "...complete!\n",
      "\n",
      "Pipeline_1...\n",
      "[('normalization', StandardScaler()), ('dim_reduce', PCA(n_components=0.9)), ('clf', SVC())]\n",
      "\n",
      "Fitting 3 folds for each of 15 candidates, totalling 45 fits\n"
     ]
    },
    {
     "name": "stderr",
     "output_type": "stream",
     "text": [
      "C:\\Users\\61407\\anaconda3\\lib\\site-packages\\sklearn\\model_selection\\_search.py:952: UserWarning: One or more of the test scores are non-finite: [0.70833333 0.70833333 0.75              nan 0.70833333 0.70833333\n",
      " 0.75              nan 0.66666667        nan 0.70833333 0.66666667\n",
      " 0.70833333        nan 0.75      ]\n",
      "  warnings.warn(\n"
     ]
    },
    {
     "name": "stdout",
     "output_type": "stream",
     "text": [
      "Best hyperparameters: {'clf__kernel': 'poly', 'clf__gamma': 'scale', 'clf__degree': 4, 'clf__coef0': 1.0, 'clf__C': 0.1}\n",
      "Average validation accuracy: 0.667\n",
      "Test accuracy: 1.0\n",
      "Pipeline_2...\n",
      "[('normalization', StandardScaler()), ('dim_reduce', PCA(n_components=0.9)), ('clf', RandomForestClassifier())]\n",
      "\n",
      "Fitting 3 folds for each of 15 candidates, totalling 45 fits\n"
     ]
    },
    {
     "name": "stderr",
     "output_type": "stream",
     "text": [
      "C:\\Users\\61407\\anaconda3\\lib\\site-packages\\sklearn\\ensemble\\_forest.py:424: FutureWarning: `max_features='auto'` has been deprecated in 1.1 and will be removed in 1.3. To keep the past behaviour, explicitly set `max_features='sqrt'` or remove this parameter as it is also the default value for RandomForestClassifiers and ExtraTreesClassifiers.\n",
      "  warn(\n"
     ]
    },
    {
     "name": "stdout",
     "output_type": "stream",
     "text": [
      "Best hyperparameters: {'clf__n_estimators': 200, 'clf__min_samples_split': 5, 'clf__min_samples_leaf': 4, 'clf__max_features': 'auto', 'clf__max_depth': None, 'clf__bootstrap': True}\n",
      "Average validation accuracy: 0.667\n",
      "Test accuracy: 1.0\n",
      "Pipeline_3...\n",
      "[('normalization', StandardScaler()), ('dim_reduce', PCA(n_components=0.9)), ('clf', KNeighborsClassifier())]\n",
      "\n",
      "Fitting 3 folds for each of 15 candidates, totalling 45 fits\n",
      "Best hyperparameters: {'clf__weights': 'uniform', 'clf__p': 2, 'clf__n_neighbors': 10, 'clf__algorithm': 'brute'}\n",
      "Average validation accuracy: 0.75\n",
      "Test accuracy: 0.875\n",
      "Pipeline_4...\n",
      "[('normalization', StandardScaler()), ('dim_reduce', FeatureAgglomeration(n_clusters=4)), ('clf', SVC())]\n",
      "\n",
      "Fitting 3 folds for each of 15 candidates, totalling 45 fits\n"
     ]
    },
    {
     "name": "stderr",
     "output_type": "stream",
     "text": [
      "C:\\Users\\61407\\anaconda3\\lib\\site-packages\\sklearn\\model_selection\\_search.py:952: UserWarning: One or more of the test scores are non-finite: [0.70833333 0.75       0.54166667        nan 0.70833333 0.70833333\n",
      " 0.54166667        nan 0.66666667        nan 0.75       0.66666667\n",
      " 0.75              nan 0.54166667]\n",
      "  warnings.warn(\n"
     ]
    },
    {
     "name": "stdout",
     "output_type": "stream",
     "text": [
      "Best hyperparameters: {'clf__kernel': 'rbf', 'clf__gamma': 0.1, 'clf__degree': 4, 'clf__coef0': 2.0, 'clf__C': 1}\n",
      "Average validation accuracy: 0.667\n",
      "Test accuracy: 1.0\n",
      "Pipeline_5...\n",
      "[('normalization', StandardScaler()), ('dim_reduce', FeatureAgglomeration(n_clusters=4)), ('clf', RandomForestClassifier())]\n",
      "\n",
      "Fitting 3 folds for each of 15 candidates, totalling 45 fits\n",
      "Best hyperparameters: {'clf__n_estimators': 50, 'clf__min_samples_split': 2, 'clf__min_samples_leaf': 4, 'clf__max_features': 'log2', 'clf__max_depth': 20, 'clf__bootstrap': False}\n",
      "Average validation accuracy: 0.667\n",
      "Test accuracy: 0.875\n",
      "Pipeline_6...\n",
      "[('normalization', StandardScaler()), ('dim_reduce', FeatureAgglomeration(n_clusters=4)), ('clf', KNeighborsClassifier())]\n",
      "\n",
      "Fitting 3 folds for each of 15 candidates, totalling 45 fits\n",
      "Best hyperparameters: {'clf__weights': 'uniform', 'clf__p': 2, 'clf__n_neighbors': 10, 'clf__algorithm': 'brute'}\n",
      "Average validation accuracy: 0.625\n",
      "Test accuracy: 0.875\n",
      "************************************************************************************************************************\n",
      "\n",
      "sub_57:\n",
      "************************************************************************************************************************\n",
      "partitioning...\n",
      "...complete!\n",
      "\n",
      "Pipeline_1...\n",
      "[('normalization', StandardScaler()), ('dim_reduce', PCA(n_components=0.9)), ('clf', SVC())]\n",
      "\n",
      "Fitting 3 folds for each of 15 candidates, totalling 45 fits\n"
     ]
    },
    {
     "name": "stderr",
     "output_type": "stream",
     "text": [
      "C:\\Users\\61407\\anaconda3\\lib\\site-packages\\sklearn\\model_selection\\_search.py:952: UserWarning: One or more of the test scores are non-finite: [0.45833333 0.625      0.5               nan 0.45833333 0.45833333\n",
      " 0.5               nan 0.58333333        nan 0.625      0.58333333\n",
      " 0.625             nan 0.5       ]\n",
      "  warnings.warn(\n"
     ]
    },
    {
     "name": "stdout",
     "output_type": "stream",
     "text": [
      "Best hyperparameters: {'clf__kernel': 'rbf', 'clf__gamma': 0.1, 'clf__degree': 4, 'clf__coef0': 2.0, 'clf__C': 1}\n",
      "Average validation accuracy: 0.833\n",
      "Test accuracy: 0.5\n",
      "Pipeline_2...\n",
      "[('normalization', StandardScaler()), ('dim_reduce', PCA(n_components=0.9)), ('clf', RandomForestClassifier())]\n",
      "\n",
      "Fitting 3 folds for each of 15 candidates, totalling 45 fits\n",
      "Best hyperparameters: {'clf__n_estimators': 50, 'clf__min_samples_split': 5, 'clf__min_samples_leaf': 2, 'clf__max_features': None, 'clf__max_depth': 20, 'clf__bootstrap': True}\n",
      "Average validation accuracy: 0.792\n",
      "Test accuracy: 0.75\n",
      "Pipeline_3...\n",
      "[('normalization', StandardScaler()), ('dim_reduce', PCA(n_components=0.9)), ('clf', KNeighborsClassifier())]\n",
      "\n",
      "Fitting 3 folds for each of 15 candidates, totalling 45 fits\n",
      "Best hyperparameters: {'clf__weights': 'uniform', 'clf__p': 1, 'clf__n_neighbors': 3, 'clf__algorithm': 'auto'}\n",
      "Average validation accuracy: 0.625\n",
      "Test accuracy: 0.75\n",
      "Pipeline_4...\n",
      "[('normalization', StandardScaler()), ('dim_reduce', FeatureAgglomeration(n_clusters=4)), ('clf', SVC())]\n",
      "\n",
      "Fitting 3 folds for each of 15 candidates, totalling 45 fits\n"
     ]
    },
    {
     "name": "stderr",
     "output_type": "stream",
     "text": [
      "C:\\Users\\61407\\anaconda3\\lib\\site-packages\\sklearn\\model_selection\\_search.py:952: UserWarning: One or more of the test scores are non-finite: [0.54166667 0.5        0.625             nan 0.54166667 0.54166667\n",
      " 0.625             nan 0.5               nan 0.41666667 0.5\n",
      " 0.41666667        nan 0.625     ]\n",
      "  warnings.warn(\n"
     ]
    },
    {
     "name": "stdout",
     "output_type": "stream",
     "text": [
      "Best hyperparameters: {'clf__kernel': 'rbf', 'clf__gamma': 1, 'clf__degree': 3, 'clf__coef0': 0.0, 'clf__C': 0.1}\n",
      "Average validation accuracy: 0.75\n",
      "Test accuracy: 0.875\n",
      "Pipeline_5...\n",
      "[('normalization', StandardScaler()), ('dim_reduce', FeatureAgglomeration(n_clusters=4)), ('clf', RandomForestClassifier())]\n",
      "\n",
      "Fitting 3 folds for each of 15 candidates, totalling 45 fits\n",
      "Best hyperparameters: {'clf__n_estimators': 200, 'clf__min_samples_split': 5, 'clf__min_samples_leaf': 2, 'clf__max_features': None, 'clf__max_depth': 10, 'clf__bootstrap': False}\n",
      "Average validation accuracy: 0.667\n",
      "Test accuracy: 0.375\n",
      "Pipeline_6...\n",
      "[('normalization', StandardScaler()), ('dim_reduce', FeatureAgglomeration(n_clusters=4)), ('clf', KNeighborsClassifier())]\n",
      "\n",
      "Fitting 3 folds for each of 15 candidates, totalling 45 fits\n",
      "Best hyperparameters: {'clf__weights': 'distance', 'clf__p': 1, 'clf__n_neighbors': 5, 'clf__algorithm': 'auto'}\n",
      "Average validation accuracy: 0.583\n",
      "Test accuracy: 0.5\n",
      "************************************************************************************************************************\n",
      "\n",
      "sub_58:\n",
      "************************************************************************************************************************\n",
      "partitioning...\n",
      "...complete!\n",
      "\n",
      "Pipeline_1...\n",
      "[('normalization', StandardScaler()), ('dim_reduce', PCA(n_components=0.9)), ('clf', SVC())]\n",
      "\n",
      "Fitting 3 folds for each of 15 candidates, totalling 45 fits\n"
     ]
    },
    {
     "name": "stderr",
     "output_type": "stream",
     "text": [
      "C:\\Users\\61407\\anaconda3\\lib\\site-packages\\sklearn\\model_selection\\_search.py:952: UserWarning: One or more of the test scores are non-finite: [0.54166667 0.5        0.54166667        nan 0.58333333 0.54166667\n",
      " 0.54166667        nan 0.5               nan 0.5        0.5\n",
      " 0.5               nan 0.54166667]\n",
      "  warnings.warn(\n"
     ]
    },
    {
     "name": "stdout",
     "output_type": "stream",
     "text": [
      "Best hyperparameters: {'clf__kernel': 'poly', 'clf__gamma': 'scale', 'clf__degree': 3, 'clf__coef0': 2.0, 'clf__C': 10}\n",
      "Average validation accuracy: 0.917\n",
      "Test accuracy: 0.25\n",
      "Pipeline_2...\n",
      "[('normalization', StandardScaler()), ('dim_reduce', PCA(n_components=0.9)), ('clf', RandomForestClassifier())]\n",
      "\n",
      "Fitting 3 folds for each of 15 candidates, totalling 45 fits\n",
      "Best hyperparameters: {'clf__n_estimators': 100, 'clf__min_samples_split': 10, 'clf__min_samples_leaf': 1, 'clf__max_features': 'sqrt', 'clf__max_depth': 20, 'clf__bootstrap': False}\n",
      "Average validation accuracy: 0.792\n",
      "Test accuracy: 0.375\n",
      "Pipeline_3...\n",
      "[('normalization', StandardScaler()), ('dim_reduce', PCA(n_components=0.9)), ('clf', KNeighborsClassifier())]\n",
      "\n",
      "Fitting 3 folds for each of 15 candidates, totalling 45 fits\n",
      "Best hyperparameters: {'clf__weights': 'uniform', 'clf__p': 1, 'clf__n_neighbors': 10, 'clf__algorithm': 'brute'}\n",
      "Average validation accuracy: 0.833\n",
      "Test accuracy: 0.375\n",
      "Pipeline_4...\n",
      "[('normalization', StandardScaler()), ('dim_reduce', FeatureAgglomeration(n_clusters=4)), ('clf', SVC())]\n",
      "\n",
      "Fitting 3 folds for each of 15 candidates, totalling 45 fits\n"
     ]
    },
    {
     "name": "stderr",
     "output_type": "stream",
     "text": [
      "C:\\Users\\61407\\anaconda3\\lib\\site-packages\\sklearn\\model_selection\\_search.py:952: UserWarning: One or more of the test scores are non-finite: [0.70833333 0.75       0.75              nan 0.70833333 0.70833333\n",
      " 0.75              nan 0.70833333        nan 0.83333333 0.70833333\n",
      " 0.83333333        nan 0.75      ]\n",
      "  warnings.warn(\n"
     ]
    },
    {
     "name": "stdout",
     "output_type": "stream",
     "text": [
      "Best hyperparameters: {'clf__kernel': 'poly', 'clf__gamma': 0.1, 'clf__degree': 4, 'clf__coef0': 1.0, 'clf__C': 1}\n",
      "Average validation accuracy: 0.792\n",
      "Test accuracy: 0.375\n",
      "Pipeline_5...\n",
      "[('normalization', StandardScaler()), ('dim_reduce', FeatureAgglomeration(n_clusters=4)), ('clf', RandomForestClassifier())]\n",
      "\n",
      "Fitting 3 folds for each of 15 candidates, totalling 45 fits\n",
      "Best hyperparameters: {'clf__n_estimators': 200, 'clf__min_samples_split': 5, 'clf__min_samples_leaf': 1, 'clf__max_features': 'sqrt', 'clf__max_depth': None, 'clf__bootstrap': False}\n",
      "Average validation accuracy: 0.833\n",
      "Test accuracy: 0.625\n",
      "Pipeline_6...\n",
      "[('normalization', StandardScaler()), ('dim_reduce', FeatureAgglomeration(n_clusters=4)), ('clf', KNeighborsClassifier())]\n",
      "\n",
      "Fitting 3 folds for each of 15 candidates, totalling 45 fits\n",
      "Best hyperparameters: {'clf__weights': 'uniform', 'clf__p': 2, 'clf__n_neighbors': 10, 'clf__algorithm': 'brute'}\n",
      "Average validation accuracy: 0.75\n",
      "Test accuracy: 0.375\n",
      "************************************************************************************************************************\n",
      "\n",
      "sub_60:\n",
      "************************************************************************************************************************\n",
      "partitioning...\n",
      "...complete!\n",
      "\n",
      "Pipeline_1...\n",
      "[('normalization', StandardScaler()), ('dim_reduce', PCA(n_components=0.9)), ('clf', SVC())]\n",
      "\n",
      "Fitting 3 folds for each of 15 candidates, totalling 45 fits\n"
     ]
    },
    {
     "name": "stderr",
     "output_type": "stream",
     "text": [
      "C:\\Users\\61407\\anaconda3\\lib\\site-packages\\sklearn\\model_selection\\_search.py:952: UserWarning: One or more of the test scores are non-finite: [0.66666667 0.75       0.66666667        nan 0.66666667 0.66666667\n",
      " 0.66666667        nan 0.66666667        nan 0.66666667 0.66666667\n",
      " 0.66666667        nan 0.70833333]\n",
      "  warnings.warn(\n"
     ]
    },
    {
     "name": "stdout",
     "output_type": "stream",
     "text": [
      "Best hyperparameters: {'clf__kernel': 'rbf', 'clf__gamma': 0.1, 'clf__degree': 4, 'clf__coef0': 2.0, 'clf__C': 1}\n",
      "Average validation accuracy: 0.667\n",
      "Test accuracy: 0.75\n",
      "Pipeline_2...\n",
      "[('normalization', StandardScaler()), ('dim_reduce', PCA(n_components=0.9)), ('clf', RandomForestClassifier())]\n",
      "\n",
      "Fitting 3 folds for each of 15 candidates, totalling 45 fits\n",
      "Best hyperparameters: {'clf__n_estimators': 50, 'clf__min_samples_split': 2, 'clf__min_samples_leaf': 2, 'clf__max_features': None, 'clf__max_depth': 10, 'clf__bootstrap': True}\n",
      "Average validation accuracy: 0.625\n",
      "Test accuracy: 0.75\n",
      "Pipeline_3...\n",
      "[('normalization', StandardScaler()), ('dim_reduce', PCA(n_components=0.9)), ('clf', KNeighborsClassifier())]\n",
      "\n",
      "Fitting 3 folds for each of 15 candidates, totalling 45 fits\n",
      "Best hyperparameters: {'clf__weights': 'uniform', 'clf__p': 1, 'clf__n_neighbors': 10, 'clf__algorithm': 'brute'}\n",
      "Average validation accuracy: 0.667\n",
      "Test accuracy: 1.0\n",
      "Pipeline_4...\n",
      "[('normalization', StandardScaler()), ('dim_reduce', FeatureAgglomeration(n_clusters=4)), ('clf', SVC())]\n",
      "\n",
      "Fitting 3 folds for each of 15 candidates, totalling 45 fits\n"
     ]
    },
    {
     "name": "stderr",
     "output_type": "stream",
     "text": [
      "C:\\Users\\61407\\anaconda3\\lib\\site-packages\\sklearn\\model_selection\\_search.py:952: UserWarning: One or more of the test scores are non-finite: [0.58333333 0.58333333 0.54166667        nan 0.58333333 0.58333333\n",
      " 0.54166667        nan 0.625             nan 0.66666667 0.625\n",
      " 0.66666667        nan 0.66666667]\n",
      "  warnings.warn(\n"
     ]
    },
    {
     "name": "stdout",
     "output_type": "stream",
     "text": [
      "Best hyperparameters: {'clf__kernel': 'rbf', 'clf__gamma': 1, 'clf__degree': 3, 'clf__coef0': 0.0, 'clf__C': 0.1}\n",
      "Average validation accuracy: 0.875\n",
      "Test accuracy: 0.75\n",
      "Pipeline_5...\n",
      "[('normalization', StandardScaler()), ('dim_reduce', FeatureAgglomeration(n_clusters=4)), ('clf', RandomForestClassifier())]\n",
      "\n",
      "Fitting 3 folds for each of 15 candidates, totalling 45 fits\n",
      "Best hyperparameters: {'clf__n_estimators': 50, 'clf__min_samples_split': 2, 'clf__min_samples_leaf': 2, 'clf__max_features': None, 'clf__max_depth': 10, 'clf__bootstrap': True}\n",
      "Average validation accuracy: 0.708\n",
      "Test accuracy: 0.75\n",
      "Pipeline_6...\n",
      "[('normalization', StandardScaler()), ('dim_reduce', FeatureAgglomeration(n_clusters=4)), ('clf', KNeighborsClassifier())]\n",
      "\n",
      "Fitting 3 folds for each of 15 candidates, totalling 45 fits\n"
     ]
    },
    {
     "name": "stderr",
     "output_type": "stream",
     "text": [
      "C:\\Users\\61407\\anaconda3\\lib\\site-packages\\sklearn\\model_selection\\_search.py:952: UserWarning: One or more of the test scores are non-finite: [0.66666667 0.66666667 0.625             nan 0.66666667 0.66666667\n",
      " 0.625             nan 0.625             nan 0.625      0.625\n",
      " 0.625             nan 0.625     ]\n",
      "  warnings.warn(\n"
     ]
    },
    {
     "name": "stdout",
     "output_type": "stream",
     "text": [
      "Best hyperparameters: {'clf__weights': 'uniform', 'clf__p': 1, 'clf__n_neighbors': 5, 'clf__algorithm': 'brute'}\n",
      "Average validation accuracy: 0.667\n",
      "Test accuracy: 0.875\n",
      "************************************************************************************************************************\n",
      "\n",
      "sub_61:\n",
      "************************************************************************************************************************\n",
      "partitioning...\n",
      "...complete!\n",
      "\n",
      "Pipeline_1...\n",
      "[('normalization', StandardScaler()), ('dim_reduce', PCA(n_components=0.9)), ('clf', SVC())]\n",
      "\n",
      "Fitting 3 folds for each of 15 candidates, totalling 45 fits\n",
      "Best hyperparameters: {'clf__kernel': 'poly', 'clf__gamma': 'scale', 'clf__degree': 3, 'clf__coef0': 2.0, 'clf__C': 10}\n",
      "Average validation accuracy: 0.75\n",
      "Test accuracy: 0.5\n",
      "Pipeline_2...\n",
      "[('normalization', StandardScaler()), ('dim_reduce', PCA(n_components=0.9)), ('clf', RandomForestClassifier())]\n",
      "\n",
      "Fitting 3 folds for each of 15 candidates, totalling 45 fits\n",
      "Best hyperparameters: {'clf__n_estimators': 50, 'clf__min_samples_split': 10, 'clf__min_samples_leaf': 2, 'clf__max_features': 'log2', 'clf__max_depth': 30, 'clf__bootstrap': True}\n",
      "Average validation accuracy: 0.708\n",
      "Test accuracy: 0.5\n",
      "Pipeline_3...\n",
      "[('normalization', StandardScaler()), ('dim_reduce', PCA(n_components=0.9)), ('clf', KNeighborsClassifier())]\n",
      "\n",
      "Fitting 3 folds for each of 15 candidates, totalling 45 fits\n",
      "Best hyperparameters: {'clf__weights': 'uniform', 'clf__p': 1, 'clf__n_neighbors': 5, 'clf__algorithm': 'brute'}\n",
      "Average validation accuracy: 0.625\n",
      "Test accuracy: 0.5\n",
      "Pipeline_4...\n",
      "[('normalization', StandardScaler()), ('dim_reduce', FeatureAgglomeration(n_clusters=4)), ('clf', SVC())]\n",
      "\n",
      "Fitting 3 folds for each of 15 candidates, totalling 45 fits\n"
     ]
    },
    {
     "name": "stderr",
     "output_type": "stream",
     "text": [
      "C:\\Users\\61407\\anaconda3\\lib\\site-packages\\sklearn\\model_selection\\_search.py:952: UserWarning: One or more of the test scores are non-finite: [0.625      0.54166667 0.54166667        nan 0.58333333 0.625\n",
      " 0.54166667        nan 0.58333333        nan 0.625      0.58333333\n",
      " 0.625             nan 0.54166667]\n",
      "  warnings.warn(\n"
     ]
    },
    {
     "name": "stdout",
     "output_type": "stream",
     "text": [
      "Best hyperparameters: {'clf__kernel': 'poly', 'clf__gamma': 'scale', 'clf__degree': 3, 'clf__coef0': 1.0, 'clf__C': 100}\n",
      "Average validation accuracy: 0.667\n",
      "Test accuracy: 0.25\n",
      "Pipeline_5...\n",
      "[('normalization', StandardScaler()), ('dim_reduce', FeatureAgglomeration(n_clusters=4)), ('clf', RandomForestClassifier())]\n",
      "\n",
      "Fitting 3 folds for each of 15 candidates, totalling 45 fits\n",
      "Best hyperparameters: {'clf__n_estimators': 50, 'clf__min_samples_split': 2, 'clf__min_samples_leaf': 4, 'clf__max_features': 'log2', 'clf__max_depth': 20, 'clf__bootstrap': False}\n",
      "Average validation accuracy: 0.75\n",
      "Test accuracy: 0.375\n",
      "Pipeline_6...\n",
      "[('normalization', StandardScaler()), ('dim_reduce', FeatureAgglomeration(n_clusters=4)), ('clf', KNeighborsClassifier())]\n",
      "\n",
      "Fitting 3 folds for each of 15 candidates, totalling 45 fits\n"
     ]
    },
    {
     "name": "stderr",
     "output_type": "stream",
     "text": [
      "C:\\Users\\61407\\anaconda3\\lib\\site-packages\\sklearn\\model_selection\\_search.py:952: UserWarning: One or more of the test scores are non-finite: [0.54166667 0.66666667 0.58333333        nan 0.54166667 0.54166667\n",
      " 0.58333333        nan 0.625             nan 0.70833333 0.625\n",
      " 0.70833333        nan 0.54166667]\n",
      "  warnings.warn(\n"
     ]
    },
    {
     "name": "stdout",
     "output_type": "stream",
     "text": [
      "Best hyperparameters: {'clf__weights': 'uniform', 'clf__p': 1, 'clf__n_neighbors': 10, 'clf__algorithm': 'brute'}\n",
      "Average validation accuracy: 0.708\n",
      "Test accuracy: 0.375\n",
      "************************************************************************************************************************\n",
      "\n",
      "sub_62:\n",
      "************************************************************************************************************************\n",
      "partitioning...\n",
      "...complete!\n",
      "\n",
      "Pipeline_1...\n",
      "[('normalization', StandardScaler()), ('dim_reduce', PCA(n_components=0.9)), ('clf', SVC())]\n",
      "\n",
      "Fitting 3 folds for each of 15 candidates, totalling 45 fits\n",
      "Best hyperparameters: {'clf__kernel': 'poly', 'clf__gamma': 'auto', 'clf__degree': 2, 'clf__coef0': 2.0, 'clf__C': 100}\n",
      "Average validation accuracy: 0.542\n",
      "Test accuracy: 1.0\n",
      "Pipeline_2...\n",
      "[('normalization', StandardScaler()), ('dim_reduce', PCA(n_components=0.9)), ('clf', RandomForestClassifier())]\n",
      "\n",
      "Fitting 3 folds for each of 15 candidates, totalling 45 fits\n",
      "Best hyperparameters: {'clf__n_estimators': 100, 'clf__min_samples_split': 5, 'clf__min_samples_leaf': 1, 'clf__max_features': None, 'clf__max_depth': 10, 'clf__bootstrap': False}\n",
      "Average validation accuracy: 0.458\n",
      "Test accuracy: 0.5\n",
      "Pipeline_3...\n",
      "[('normalization', StandardScaler()), ('dim_reduce', PCA(n_components=0.9)), ('clf', KNeighborsClassifier())]\n",
      "\n",
      "Fitting 3 folds for each of 15 candidates, totalling 45 fits\n"
     ]
    },
    {
     "name": "stderr",
     "output_type": "stream",
     "text": [
      "C:\\Users\\61407\\anaconda3\\lib\\site-packages\\sklearn\\model_selection\\_search.py:952: UserWarning: One or more of the test scores are non-finite: [0.29166667 0.5        0.375             nan 0.29166667 0.29166667\n",
      " 0.375             nan 0.375             nan 0.33333333 0.375\n",
      " 0.33333333        nan 0.5       ]\n",
      "  warnings.warn(\n"
     ]
    },
    {
     "name": "stdout",
     "output_type": "stream",
     "text": [
      "Best hyperparameters: {'clf__weights': 'uniform', 'clf__p': 2, 'clf__n_neighbors': 10, 'clf__algorithm': 'brute'}\n",
      "Average validation accuracy: 0.5\n",
      "Test accuracy: 0.875\n",
      "Pipeline_4...\n",
      "[('normalization', StandardScaler()), ('dim_reduce', FeatureAgglomeration(n_clusters=4)), ('clf', SVC())]\n",
      "\n",
      "Fitting 3 folds for each of 15 candidates, totalling 45 fits\n",
      "Best hyperparameters: {'clf__kernel': 'poly', 'clf__gamma': 'auto', 'clf__degree': 4, 'clf__coef0': 0.0, 'clf__C': 100}\n",
      "Average validation accuracy: 0.583\n",
      "Test accuracy: 0.75\n",
      "Pipeline_5...\n",
      "[('normalization', StandardScaler()), ('dim_reduce', FeatureAgglomeration(n_clusters=4)), ('clf', RandomForestClassifier())]\n",
      "\n",
      "Fitting 3 folds for each of 15 candidates, totalling 45 fits\n",
      "Best hyperparameters: {'clf__n_estimators': 200, 'clf__min_samples_split': 5, 'clf__min_samples_leaf': 2, 'clf__max_features': None, 'clf__max_depth': 10, 'clf__bootstrap': False}\n",
      "Average validation accuracy: 0.542\n",
      "Test accuracy: 0.75\n",
      "Pipeline_6...\n",
      "[('normalization', StandardScaler()), ('dim_reduce', FeatureAgglomeration(n_clusters=4)), ('clf', KNeighborsClassifier())]\n",
      "\n",
      "Fitting 3 folds for each of 15 candidates, totalling 45 fits\n"
     ]
    },
    {
     "name": "stderr",
     "output_type": "stream",
     "text": [
      "C:\\Users\\61407\\anaconda3\\lib\\site-packages\\sklearn\\model_selection\\_search.py:952: UserWarning: One or more of the test scores are non-finite: [0.29166667 0.375      0.45833333        nan 0.375      0.29166667\n",
      " 0.45833333        nan 0.41666667        nan 0.29166667 0.41666667\n",
      " 0.29166667        nan 0.45833333]\n",
      "  warnings.warn(\n"
     ]
    },
    {
     "name": "stdout",
     "output_type": "stream",
     "text": [
      "Best hyperparameters: {'clf__weights': 'uniform', 'clf__p': 1, 'clf__n_neighbors': 3, 'clf__algorithm': 'auto'}\n",
      "Average validation accuracy: 0.458\n",
      "Test accuracy: 0.875\n",
      "************************************************************************************************************************\n",
      "\n",
      "sub_63:\n",
      "************************************************************************************************************************\n",
      "partitioning...\n",
      "...complete!\n",
      "\n",
      "Pipeline_1...\n",
      "[('normalization', StandardScaler()), ('dim_reduce', PCA(n_components=0.9)), ('clf', SVC())]\n",
      "\n",
      "Fitting 3 folds for each of 15 candidates, totalling 45 fits\n",
      "Best hyperparameters: {'clf__kernel': 'rbf', 'clf__gamma': 0.1, 'clf__degree': 4, 'clf__coef0': 2.0, 'clf__C': 1}\n",
      "Average validation accuracy: 0.708\n",
      "Test accuracy: 0.5\n",
      "Pipeline_2...\n",
      "[('normalization', StandardScaler()), ('dim_reduce', PCA(n_components=0.9)), ('clf', RandomForestClassifier())]\n",
      "\n",
      "Fitting 3 folds for each of 15 candidates, totalling 45 fits\n",
      "Best hyperparameters: {'clf__n_estimators': 200, 'clf__min_samples_split': 10, 'clf__min_samples_leaf': 4, 'clf__max_features': 'sqrt', 'clf__max_depth': 10, 'clf__bootstrap': False}\n",
      "Average validation accuracy: 0.75\n",
      "Test accuracy: 0.5\n",
      "Pipeline_3...\n",
      "[('normalization', StandardScaler()), ('dim_reduce', PCA(n_components=0.9)), ('clf', KNeighborsClassifier())]\n",
      "\n",
      "Fitting 3 folds for each of 15 candidates, totalling 45 fits\n",
      "Best hyperparameters: {'clf__weights': 'uniform', 'clf__p': 2, 'clf__n_neighbors': 10, 'clf__algorithm': 'brute'}\n",
      "Average validation accuracy: 0.583\n",
      "Test accuracy: 0.5\n",
      "Pipeline_4...\n",
      "[('normalization', StandardScaler()), ('dim_reduce', FeatureAgglomeration(n_clusters=4)), ('clf', SVC())]\n",
      "\n",
      "Fitting 3 folds for each of 15 candidates, totalling 45 fits\n"
     ]
    },
    {
     "name": "stderr",
     "output_type": "stream",
     "text": [
      "C:\\Users\\61407\\anaconda3\\lib\\site-packages\\sklearn\\model_selection\\_search.py:952: UserWarning: One or more of the test scores are non-finite: [0.5        0.58333333 0.5               nan 0.5        0.5\n",
      " 0.5               nan 0.5               nan 0.58333333 0.5\n",
      " 0.58333333        nan 0.54166667]\n",
      "  warnings.warn(\n"
     ]
    },
    {
     "name": "stdout",
     "output_type": "stream",
     "text": [
      "Best hyperparameters: {'clf__kernel': 'poly', 'clf__gamma': 0.1, 'clf__degree': 4, 'clf__coef0': 1.0, 'clf__C': 1}\n",
      "Average validation accuracy: 0.75\n",
      "Test accuracy: 0.5\n",
      "Pipeline_5...\n",
      "[('normalization', StandardScaler()), ('dim_reduce', FeatureAgglomeration(n_clusters=4)), ('clf', RandomForestClassifier())]\n",
      "\n",
      "Fitting 3 folds for each of 15 candidates, totalling 45 fits\n",
      "Best hyperparameters: {'clf__n_estimators': 50, 'clf__min_samples_split': 2, 'clf__min_samples_leaf': 2, 'clf__max_features': None, 'clf__max_depth': 10, 'clf__bootstrap': True}\n",
      "Average validation accuracy: 0.75\n",
      "Test accuracy: 0.5\n",
      "Pipeline_6...\n",
      "[('normalization', StandardScaler()), ('dim_reduce', FeatureAgglomeration(n_clusters=4)), ('clf', KNeighborsClassifier())]\n",
      "\n",
      "Fitting 3 folds for each of 15 candidates, totalling 45 fits\n",
      "Best hyperparameters: {'clf__weights': 'distance', 'clf__p': 1, 'clf__n_neighbors': 10, 'clf__algorithm': 'ball_tree'}\n",
      "Average validation accuracy: 0.792\n",
      "Test accuracy: 0.5\n",
      "************************************************************************************************************************\n",
      "\n",
      "sub_64:\n",
      "************************************************************************************************************************\n",
      "partitioning...\n",
      "...complete!\n",
      "\n",
      "Pipeline_1...\n",
      "[('normalization', StandardScaler()), ('dim_reduce', PCA(n_components=0.9)), ('clf', SVC())]\n",
      "\n",
      "Fitting 3 folds for each of 15 candidates, totalling 45 fits\n"
     ]
    },
    {
     "name": "stderr",
     "output_type": "stream",
     "text": [
      "C:\\Users\\61407\\anaconda3\\lib\\site-packages\\sklearn\\model_selection\\_search.py:952: UserWarning: One or more of the test scores are non-finite: [0.70833333 0.54166667 0.75              nan 0.70833333 0.70833333\n",
      " 0.75              nan 0.79166667        nan 0.66666667 0.79166667\n",
      " 0.66666667        nan 0.79166667]\n",
      "  warnings.warn(\n"
     ]
    },
    {
     "name": "stdout",
     "output_type": "stream",
     "text": [
      "Best hyperparameters: {'clf__kernel': 'poly', 'clf__gamma': 'scale', 'clf__degree': 3, 'clf__coef0': 1.0, 'clf__C': 100}\n",
      "Average validation accuracy: 0.75\n",
      "Test accuracy: 1.0\n",
      "Pipeline_2...\n",
      "[('normalization', StandardScaler()), ('dim_reduce', PCA(n_components=0.9)), ('clf', RandomForestClassifier())]\n",
      "\n",
      "Fitting 3 folds for each of 15 candidates, totalling 45 fits\n"
     ]
    },
    {
     "name": "stderr",
     "output_type": "stream",
     "text": [
      "C:\\Users\\61407\\anaconda3\\lib\\site-packages\\sklearn\\ensemble\\_forest.py:424: FutureWarning: `max_features='auto'` has been deprecated in 1.1 and will be removed in 1.3. To keep the past behaviour, explicitly set `max_features='sqrt'` or remove this parameter as it is also the default value for RandomForestClassifiers and ExtraTreesClassifiers.\n",
      "  warn(\n"
     ]
    },
    {
     "name": "stdout",
     "output_type": "stream",
     "text": [
      "Best hyperparameters: {'clf__n_estimators': 200, 'clf__min_samples_split': 5, 'clf__min_samples_leaf': 4, 'clf__max_features': 'auto', 'clf__max_depth': None, 'clf__bootstrap': True}\n",
      "Average validation accuracy: 0.667\n",
      "Test accuracy: 1.0\n",
      "Pipeline_3...\n",
      "[('normalization', StandardScaler()), ('dim_reduce', PCA(n_components=0.9)), ('clf', KNeighborsClassifier())]\n",
      "\n",
      "Fitting 3 folds for each of 15 candidates, totalling 45 fits\n"
     ]
    },
    {
     "name": "stderr",
     "output_type": "stream",
     "text": [
      "C:\\Users\\61407\\anaconda3\\lib\\site-packages\\sklearn\\model_selection\\_search.py:952: UserWarning: One or more of the test scores are non-finite: [0.5        0.5        0.54166667        nan 0.5        0.5\n",
      " 0.54166667        nan 0.5               nan 0.45833333 0.5\n",
      " 0.45833333        nan 0.58333333]\n",
      "  warnings.warn(\n"
     ]
    },
    {
     "name": "stdout",
     "output_type": "stream",
     "text": [
      "Best hyperparameters: {'clf__weights': 'uniform', 'clf__p': 2, 'clf__n_neighbors': 3, 'clf__algorithm': 'kd_tree'}\n",
      "Average validation accuracy: 0.583\n",
      "Test accuracy: 0.875\n",
      "Pipeline_4...\n",
      "[('normalization', StandardScaler()), ('dim_reduce', FeatureAgglomeration(n_clusters=4)), ('clf', SVC())]\n",
      "\n",
      "Fitting 3 folds for each of 15 candidates, totalling 45 fits\n",
      "Best hyperparameters: {'clf__kernel': 'rbf', 'clf__gamma': 1, 'clf__degree': 3, 'clf__coef0': 0.0, 'clf__C': 0.1}\n",
      "Average validation accuracy: 0.875\n",
      "Test accuracy: 0.75\n",
      "Pipeline_5...\n",
      "[('normalization', StandardScaler()), ('dim_reduce', FeatureAgglomeration(n_clusters=4)), ('clf', RandomForestClassifier())]\n",
      "\n",
      "Fitting 3 folds for each of 15 candidates, totalling 45 fits\n",
      "Best hyperparameters: {'clf__n_estimators': 50, 'clf__min_samples_split': 5, 'clf__min_samples_leaf': 2, 'clf__max_features': None, 'clf__max_depth': 20, 'clf__bootstrap': True}\n",
      "Average validation accuracy: 0.792\n",
      "Test accuracy: 0.75\n",
      "Pipeline_6...\n",
      "[('normalization', StandardScaler()), ('dim_reduce', FeatureAgglomeration(n_clusters=4)), ('clf', KNeighborsClassifier())]\n",
      "\n",
      "Fitting 3 folds for each of 15 candidates, totalling 45 fits\n",
      "Best hyperparameters: {'clf__weights': 'uniform', 'clf__p': 1, 'clf__n_neighbors': 3, 'clf__algorithm': 'auto'}\n",
      "Average validation accuracy: 0.708\n",
      "Test accuracy: 0.875\n",
      "************************************************************************************************************************\n",
      "\n",
      "sub_65:\n",
      "************************************************************************************************************************\n",
      "partitioning...\n",
      "...complete!\n",
      "\n",
      "Pipeline_1...\n",
      "[('normalization', StandardScaler()), ('dim_reduce', PCA(n_components=0.9)), ('clf', SVC())]\n",
      "\n",
      "Fitting 3 folds for each of 15 candidates, totalling 45 fits\n"
     ]
    },
    {
     "name": "stderr",
     "output_type": "stream",
     "text": [
      "C:\\Users\\61407\\anaconda3\\lib\\site-packages\\sklearn\\model_selection\\_search.py:952: UserWarning: One or more of the test scores are non-finite: [0.5        0.58333333 0.70833333        nan 0.58333333 0.5\n",
      " 0.70833333        nan 0.66666667        nan 0.625      0.66666667\n",
      " 0.625             nan 0.70833333]\n",
      "  warnings.warn(\n"
     ]
    },
    {
     "name": "stdout",
     "output_type": "stream",
     "text": [
      "Best hyperparameters: {'clf__kernel': 'sigmoid', 'clf__gamma': 'scale', 'clf__degree': 3, 'clf__coef0': 2.0, 'clf__C': 1}\n",
      "Average validation accuracy: 0.583\n",
      "Test accuracy: 0.5\n",
      "Pipeline_2...\n",
      "[('normalization', StandardScaler()), ('dim_reduce', PCA(n_components=0.9)), ('clf', RandomForestClassifier())]\n",
      "\n",
      "Fitting 3 folds for each of 15 candidates, totalling 45 fits\n",
      "Best hyperparameters: {'clf__n_estimators': 50, 'clf__min_samples_split': 5, 'clf__min_samples_leaf': 2, 'clf__max_features': None, 'clf__max_depth': 20, 'clf__bootstrap': True}\n",
      "Average validation accuracy: 0.667\n",
      "Test accuracy: 0.875\n",
      "Pipeline_3...\n",
      "[('normalization', StandardScaler()), ('dim_reduce', PCA(n_components=0.9)), ('clf', KNeighborsClassifier())]\n",
      "\n",
      "Fitting 3 folds for each of 15 candidates, totalling 45 fits\n",
      "Best hyperparameters: {'clf__weights': 'uniform', 'clf__p': 2, 'clf__n_neighbors': 10, 'clf__algorithm': 'brute'}\n",
      "Average validation accuracy: 0.625\n",
      "Test accuracy: 0.875\n",
      "Pipeline_4...\n",
      "[('normalization', StandardScaler()), ('dim_reduce', FeatureAgglomeration(n_clusters=4)), ('clf', SVC())]\n",
      "\n",
      "Fitting 3 folds for each of 15 candidates, totalling 45 fits\n"
     ]
    },
    {
     "name": "stderr",
     "output_type": "stream",
     "text": [
      "C:\\Users\\61407\\anaconda3\\lib\\site-packages\\sklearn\\model_selection\\_search.py:952: UserWarning: One or more of the test scores are non-finite: [0.58333333 0.625      0.625             nan 0.58333333 0.58333333\n",
      " 0.625             nan 0.58333333        nan 0.5        0.58333333\n",
      " 0.5               nan 0.625     ]\n",
      "  warnings.warn(\n"
     ]
    },
    {
     "name": "stdout",
     "output_type": "stream",
     "text": [
      "Best hyperparameters: {'clf__kernel': 'poly', 'clf__gamma': 'auto', 'clf__degree': 4, 'clf__coef0': 0.0, 'clf__C': 100}\n",
      "Average validation accuracy: 0.792\n",
      "Test accuracy: 0.625\n",
      "Pipeline_5...\n",
      "[('normalization', StandardScaler()), ('dim_reduce', FeatureAgglomeration(n_clusters=4)), ('clf', RandomForestClassifier())]\n",
      "\n",
      "Fitting 3 folds for each of 15 candidates, totalling 45 fits\n",
      "Best hyperparameters: {'clf__n_estimators': 50, 'clf__min_samples_split': 5, 'clf__min_samples_leaf': 2, 'clf__max_features': None, 'clf__max_depth': 20, 'clf__bootstrap': True}\n",
      "Average validation accuracy: 0.667\n",
      "Test accuracy: 0.75\n",
      "Pipeline_6...\n",
      "[('normalization', StandardScaler()), ('dim_reduce', FeatureAgglomeration(n_clusters=4)), ('clf', KNeighborsClassifier())]\n",
      "\n",
      "Fitting 3 folds for each of 15 candidates, totalling 45 fits\n",
      "Best hyperparameters: {'clf__weights': 'uniform', 'clf__p': 1, 'clf__n_neighbors': 10, 'clf__algorithm': 'brute'}\n",
      "Average validation accuracy: 0.667\n",
      "Test accuracy: 0.75\n",
      "************************************************************************************************************************\n",
      "\n",
      "sub_68:\n",
      "************************************************************************************************************************\n",
      "partitioning...\n",
      "...complete!\n",
      "\n",
      "Pipeline_1...\n",
      "[('normalization', StandardScaler()), ('dim_reduce', PCA(n_components=0.9)), ('clf', SVC())]\n",
      "\n",
      "Fitting 3 folds for each of 15 candidates, totalling 45 fits\n"
     ]
    },
    {
     "name": "stderr",
     "output_type": "stream",
     "text": [
      "C:\\Users\\61407\\anaconda3\\lib\\site-packages\\sklearn\\model_selection\\_search.py:952: UserWarning: One or more of the test scores are non-finite: [0.54166667 0.58333333 0.54166667        nan 0.58333333 0.54166667\n",
      " 0.54166667        nan 0.625             nan 0.66666667 0.625\n",
      " 0.66666667        nan 0.54166667]\n",
      "  warnings.warn(\n"
     ]
    },
    {
     "name": "stdout",
     "output_type": "stream",
     "text": [
      "Best hyperparameters: {'clf__kernel': 'poly', 'clf__gamma': 'scale', 'clf__degree': 4, 'clf__coef0': 1.0, 'clf__C': 0.1}\n",
      "Average validation accuracy: 0.708\n",
      "Test accuracy: 1.0\n",
      "Pipeline_2...\n",
      "[('normalization', StandardScaler()), ('dim_reduce', PCA(n_components=0.9)), ('clf', RandomForestClassifier())]\n",
      "\n",
      "Fitting 3 folds for each of 15 candidates, totalling 45 fits\n",
      "Best hyperparameters: {'clf__n_estimators': 50, 'clf__min_samples_split': 2, 'clf__min_samples_leaf': 4, 'clf__max_features': 'log2', 'clf__max_depth': 20, 'clf__bootstrap': False}\n",
      "Average validation accuracy: 0.5\n",
      "Test accuracy: 0.875\n",
      "Pipeline_3...\n",
      "[('normalization', StandardScaler()), ('dim_reduce', PCA(n_components=0.9)), ('clf', KNeighborsClassifier())]\n",
      "\n",
      "Fitting 3 folds for each of 15 candidates, totalling 45 fits\n"
     ]
    },
    {
     "name": "stderr",
     "output_type": "stream",
     "text": [
      "C:\\Users\\61407\\anaconda3\\lib\\site-packages\\sklearn\\model_selection\\_search.py:952: UserWarning: One or more of the test scores are non-finite: [0.54166667 0.54166667 0.625             nan 0.58333333 0.54166667\n",
      " 0.625             nan 0.5               nan 0.54166667 0.5\n",
      " 0.54166667        nan 0.5       ]\n",
      "  warnings.warn(\n"
     ]
    },
    {
     "name": "stdout",
     "output_type": "stream",
     "text": [
      "Best hyperparameters: {'clf__weights': 'uniform', 'clf__p': 1, 'clf__n_neighbors': 3, 'clf__algorithm': 'auto'}\n",
      "Average validation accuracy: 0.625\n",
      "Test accuracy: 0.75\n",
      "Pipeline_4...\n",
      "[('normalization', StandardScaler()), ('dim_reduce', FeatureAgglomeration(n_clusters=4)), ('clf', SVC())]\n",
      "\n",
      "Fitting 3 folds for each of 15 candidates, totalling 45 fits\n",
      "Best hyperparameters: {'clf__kernel': 'poly', 'clf__gamma': 'scale', 'clf__degree': 3, 'clf__coef0': 2.0, 'clf__C': 10}\n",
      "Average validation accuracy: 0.583\n",
      "Test accuracy: 1.0\n",
      "Pipeline_5...\n",
      "[('normalization', StandardScaler()), ('dim_reduce', FeatureAgglomeration(n_clusters=4)), ('clf', RandomForestClassifier())]\n",
      "\n",
      "Fitting 3 folds for each of 15 candidates, totalling 45 fits\n",
      "Best hyperparameters: {'clf__n_estimators': 200, 'clf__min_samples_split': 2, 'clf__min_samples_leaf': 1, 'clf__max_features': None, 'clf__max_depth': 20, 'clf__bootstrap': True}\n",
      "Average validation accuracy: 0.458\n",
      "Test accuracy: 1.0\n",
      "Pipeline_6...\n",
      "[('normalization', StandardScaler()), ('dim_reduce', FeatureAgglomeration(n_clusters=4)), ('clf', KNeighborsClassifier())]\n",
      "\n",
      "Fitting 3 folds for each of 15 candidates, totalling 45 fits\n",
      "Best hyperparameters: {'clf__weights': 'uniform', 'clf__p': 1, 'clf__n_neighbors': 3, 'clf__algorithm': 'auto'}\n",
      "Average validation accuracy: 0.417\n",
      "Test accuracy: 0.875\n",
      "************************************************************************************************************************\n",
      "\n",
      "sub_69:\n",
      "************************************************************************************************************************\n",
      "partitioning...\n",
      "...complete!\n",
      "\n",
      "Pipeline_1...\n",
      "[('normalization', StandardScaler()), ('dim_reduce', PCA(n_components=0.9)), ('clf', SVC())]\n",
      "\n",
      "Fitting 3 folds for each of 15 candidates, totalling 45 fits\n"
     ]
    },
    {
     "name": "stderr",
     "output_type": "stream",
     "text": [
      "C:\\Users\\61407\\anaconda3\\lib\\site-packages\\sklearn\\model_selection\\_search.py:952: UserWarning: One or more of the test scores are non-finite: [0.375      0.20833333 0.41666667        nan 0.41666667 0.375\n",
      " 0.41666667        nan 0.29166667        nan 0.25       0.29166667\n",
      " 0.25              nan 0.33333333]\n",
      "  warnings.warn(\n"
     ]
    },
    {
     "name": "stdout",
     "output_type": "stream",
     "text": [
      "Best hyperparameters: {'clf__kernel': 'linear', 'clf__gamma': 'scale', 'clf__degree': 3, 'clf__coef0': 2.0, 'clf__C': 10}\n",
      "Average validation accuracy: 0.792\n",
      "Test accuracy: 0.375\n",
      "Pipeline_2...\n",
      "[('normalization', StandardScaler()), ('dim_reduce', PCA(n_components=0.9)), ('clf', RandomForestClassifier())]\n",
      "\n",
      "Fitting 3 folds for each of 15 candidates, totalling 45 fits\n",
      "Best hyperparameters: {'clf__n_estimators': 50, 'clf__min_samples_split': 10, 'clf__min_samples_leaf': 2, 'clf__max_features': 'log2', 'clf__max_depth': 30, 'clf__bootstrap': True}\n",
      "Average validation accuracy: 0.625\n",
      "Test accuracy: 0.375\n",
      "Pipeline_3...\n",
      "[('normalization', StandardScaler()), ('dim_reduce', PCA(n_components=0.9)), ('clf', KNeighborsClassifier())]\n",
      "\n",
      "Fitting 3 folds for each of 15 candidates, totalling 45 fits\n",
      "Best hyperparameters: {'clf__weights': 'uniform', 'clf__p': 2, 'clf__n_neighbors': 10, 'clf__algorithm': 'brute'}\n",
      "Average validation accuracy: 0.708\n",
      "Test accuracy: 0.375\n",
      "Pipeline_4...\n",
      "[('normalization', StandardScaler()), ('dim_reduce', FeatureAgglomeration(n_clusters=4)), ('clf', SVC())]\n",
      "\n",
      "Fitting 3 folds for each of 15 candidates, totalling 45 fits\n"
     ]
    },
    {
     "name": "stderr",
     "output_type": "stream",
     "text": [
      "C:\\Users\\61407\\anaconda3\\lib\\site-packages\\sklearn\\model_selection\\_search.py:952: UserWarning: One or more of the test scores are non-finite: [0.66666667 0.70833333 0.625             nan 0.66666667 0.66666667\n",
      " 0.625             nan 0.66666667        nan 0.625      0.66666667\n",
      " 0.625             nan 0.58333333]\n",
      "  warnings.warn(\n"
     ]
    },
    {
     "name": "stdout",
     "output_type": "stream",
     "text": [
      "Best hyperparameters: {'clf__kernel': 'rbf', 'clf__gamma': 0.1, 'clf__degree': 4, 'clf__coef0': 2.0, 'clf__C': 1}\n",
      "Average validation accuracy: 0.792\n",
      "Test accuracy: 0.375\n",
      "Pipeline_5...\n",
      "[('normalization', StandardScaler()), ('dim_reduce', FeatureAgglomeration(n_clusters=4)), ('clf', RandomForestClassifier())]\n",
      "\n",
      "Fitting 3 folds for each of 15 candidates, totalling 45 fits\n",
      "Best hyperparameters: {'clf__n_estimators': 50, 'clf__min_samples_split': 10, 'clf__min_samples_leaf': 2, 'clf__max_features': 'log2', 'clf__max_depth': 30, 'clf__bootstrap': True}\n",
      "Average validation accuracy: 0.708\n",
      "Test accuracy: 0.375\n",
      "Pipeline_6...\n",
      "[('normalization', StandardScaler()), ('dim_reduce', FeatureAgglomeration(n_clusters=4)), ('clf', KNeighborsClassifier())]\n",
      "\n",
      "Fitting 3 folds for each of 15 candidates, totalling 45 fits\n",
      "Best hyperparameters: {'clf__weights': 'uniform', 'clf__p': 2, 'clf__n_neighbors': 10, 'clf__algorithm': 'brute'}\n",
      "Average validation accuracy: 0.75\n",
      "Test accuracy: 0.375\n",
      "************************************************************************************************************************\n",
      "\n",
      "sub_7:\n",
      "************************************************************************************************************************\n",
      "partitioning...\n",
      "...complete!\n",
      "\n",
      "Pipeline_1...\n",
      "[('normalization', StandardScaler()), ('dim_reduce', PCA(n_components=0.9)), ('clf', SVC())]\n",
      "\n",
      "Fitting 3 folds for each of 15 candidates, totalling 45 fits\n"
     ]
    },
    {
     "name": "stderr",
     "output_type": "stream",
     "text": [
      "C:\\Users\\61407\\anaconda3\\lib\\site-packages\\sklearn\\model_selection\\_search.py:952: UserWarning: One or more of the test scores are non-finite: [0.66666667 0.75       0.66666667        nan 0.66666667 0.66666667\n",
      " 0.66666667        nan 0.75              nan 0.75       0.75\n",
      " 0.75              nan 0.70833333]\n",
      "  warnings.warn(\n"
     ]
    },
    {
     "name": "stdout",
     "output_type": "stream",
     "text": [
      "Best hyperparameters: {'clf__kernel': 'rbf', 'clf__gamma': 0.1, 'clf__degree': 4, 'clf__coef0': 2.0, 'clf__C': 1}\n",
      "Average validation accuracy: 0.667\n",
      "Test accuracy: 0.75\n",
      "Pipeline_2...\n",
      "[('normalization', StandardScaler()), ('dim_reduce', PCA(n_components=0.9)), ('clf', RandomForestClassifier())]\n",
      "\n",
      "Fitting 3 folds for each of 15 candidates, totalling 45 fits\n",
      "Best hyperparameters: {'clf__n_estimators': 50, 'clf__min_samples_split': 2, 'clf__min_samples_leaf': 2, 'clf__max_features': None, 'clf__max_depth': 10, 'clf__bootstrap': True}\n",
      "Average validation accuracy: 0.792\n",
      "Test accuracy: 0.25\n",
      "Pipeline_3...\n",
      "[('normalization', StandardScaler()), ('dim_reduce', PCA(n_components=0.9)), ('clf', KNeighborsClassifier())]\n",
      "\n",
      "Fitting 3 folds for each of 15 candidates, totalling 45 fits\n",
      "Best hyperparameters: {'clf__weights': 'uniform', 'clf__p': 2, 'clf__n_neighbors': 10, 'clf__algorithm': 'brute'}\n",
      "Average validation accuracy: 0.583\n",
      "Test accuracy: 0.625\n",
      "Pipeline_4...\n",
      "[('normalization', StandardScaler()), ('dim_reduce', FeatureAgglomeration(n_clusters=4)), ('clf', SVC())]\n",
      "\n",
      "Fitting 3 folds for each of 15 candidates, totalling 45 fits\n"
     ]
    },
    {
     "name": "stderr",
     "output_type": "stream",
     "text": [
      "C:\\Users\\61407\\anaconda3\\lib\\site-packages\\sklearn\\model_selection\\_search.py:952: UserWarning: One or more of the test scores are non-finite: [0.5        0.58333333 0.54166667        nan 0.5        0.5\n",
      " 0.54166667        nan 0.54166667        nan 0.58333333 0.54166667\n",
      " 0.58333333        nan 0.41666667]\n",
      "  warnings.warn(\n"
     ]
    },
    {
     "name": "stdout",
     "output_type": "stream",
     "text": [
      "Best hyperparameters: {'clf__kernel': 'poly', 'clf__gamma': 'scale', 'clf__degree': 3, 'clf__coef0': 1.0, 'clf__C': 100}\n",
      "Average validation accuracy: 0.792\n",
      "Test accuracy: 0.25\n",
      "Pipeline_5...\n",
      "[('normalization', StandardScaler()), ('dim_reduce', FeatureAgglomeration(n_clusters=4)), ('clf', RandomForestClassifier())]\n",
      "\n",
      "Fitting 3 folds for each of 15 candidates, totalling 45 fits\n",
      "Best hyperparameters: {'clf__n_estimators': 200, 'clf__min_samples_split': 5, 'clf__min_samples_leaf': 2, 'clf__max_features': None, 'clf__max_depth': 10, 'clf__bootstrap': False}\n",
      "Average validation accuracy: 0.625\n",
      "Test accuracy: 0.125\n",
      "Pipeline_6...\n",
      "[('normalization', StandardScaler()), ('dim_reduce', FeatureAgglomeration(n_clusters=4)), ('clf', KNeighborsClassifier())]\n",
      "\n",
      "Fitting 3 folds for each of 15 candidates, totalling 45 fits\n",
      "Best hyperparameters: {'clf__weights': 'uniform', 'clf__p': 2, 'clf__n_neighbors': 10, 'clf__algorithm': 'brute'}\n",
      "Average validation accuracy: 0.667\n",
      "Test accuracy: 0.375\n",
      "************************************************************************************************************************\n",
      "\n",
      "sub_70:\n",
      "************************************************************************************************************************\n",
      "partitioning...\n",
      "...complete!\n",
      "\n",
      "Pipeline_1...\n",
      "[('normalization', StandardScaler()), ('dim_reduce', PCA(n_components=0.9)), ('clf', SVC())]\n",
      "\n",
      "Fitting 3 folds for each of 15 candidates, totalling 45 fits\n"
     ]
    },
    {
     "name": "stderr",
     "output_type": "stream",
     "text": [
      "C:\\Users\\61407\\anaconda3\\lib\\site-packages\\sklearn\\model_selection\\_search.py:952: UserWarning: One or more of the test scores are non-finite: [0.41666667 0.66666667 0.54166667        nan 0.41666667 0.41666667\n",
      " 0.54166667        nan 0.54166667        nan 0.54166667 0.54166667\n",
      " 0.54166667        nan 0.54166667]\n",
      "  warnings.warn(\n"
     ]
    },
    {
     "name": "stdout",
     "output_type": "stream",
     "text": [
      "Best hyperparameters: {'clf__kernel': 'poly', 'clf__gamma': 0.1, 'clf__degree': 4, 'clf__coef0': 1.0, 'clf__C': 1}\n",
      "Average validation accuracy: 0.583\n",
      "Test accuracy: 0.25\n",
      "Pipeline_2...\n",
      "[('normalization', StandardScaler()), ('dim_reduce', PCA(n_components=0.9)), ('clf', RandomForestClassifier())]\n",
      "\n",
      "Fitting 3 folds for each of 15 candidates, totalling 45 fits\n"
     ]
    },
    {
     "name": "stderr",
     "output_type": "stream",
     "text": [
      "C:\\Users\\61407\\anaconda3\\lib\\site-packages\\sklearn\\ensemble\\_forest.py:424: FutureWarning: `max_features='auto'` has been deprecated in 1.1 and will be removed in 1.3. To keep the past behaviour, explicitly set `max_features='sqrt'` or remove this parameter as it is also the default value for RandomForestClassifiers and ExtraTreesClassifiers.\n",
      "  warn(\n"
     ]
    },
    {
     "name": "stdout",
     "output_type": "stream",
     "text": [
      "Best hyperparameters: {'clf__n_estimators': 200, 'clf__min_samples_split': 5, 'clf__min_samples_leaf': 4, 'clf__max_features': 'auto', 'clf__max_depth': None, 'clf__bootstrap': True}\n",
      "Average validation accuracy: 0.5\n",
      "Test accuracy: 0.375\n",
      "Pipeline_3...\n",
      "[('normalization', StandardScaler()), ('dim_reduce', PCA(n_components=0.9)), ('clf', KNeighborsClassifier())]\n",
      "\n",
      "Fitting 3 folds for each of 15 candidates, totalling 45 fits\n",
      "Best hyperparameters: {'clf__weights': 'distance', 'clf__p': 1, 'clf__n_neighbors': 10, 'clf__algorithm': 'ball_tree'}\n",
      "Average validation accuracy: 0.542\n",
      "Test accuracy: 0.25\n",
      "Pipeline_4...\n",
      "[('normalization', StandardScaler()), ('dim_reduce', FeatureAgglomeration(n_clusters=4)), ('clf', SVC())]\n",
      "\n",
      "Fitting 3 folds for each of 15 candidates, totalling 45 fits\n"
     ]
    },
    {
     "name": "stderr",
     "output_type": "stream",
     "text": [
      "C:\\Users\\61407\\anaconda3\\lib\\site-packages\\sklearn\\model_selection\\_search.py:952: UserWarning: One or more of the test scores are non-finite: [0.5        0.25       0.45833333        nan 0.5        0.5\n",
      " 0.45833333        nan 0.54166667        nan 0.375      0.54166667\n",
      " 0.375             nan 0.54166667]\n",
      "  warnings.warn(\n"
     ]
    },
    {
     "name": "stdout",
     "output_type": "stream",
     "text": [
      "Best hyperparameters: {'clf__kernel': 'poly', 'clf__gamma': 0.1, 'clf__degree': 2, 'clf__coef0': 1.0, 'clf__C': 10}\n",
      "Average validation accuracy: 0.583\n",
      "Test accuracy: 0.375\n",
      "Pipeline_5...\n",
      "[('normalization', StandardScaler()), ('dim_reduce', FeatureAgglomeration(n_clusters=4)), ('clf', RandomForestClassifier())]\n",
      "\n",
      "Fitting 3 folds for each of 15 candidates, totalling 45 fits\n",
      "Best hyperparameters: {'clf__n_estimators': 200, 'clf__min_samples_split': 10, 'clf__min_samples_leaf': 4, 'clf__max_features': 'sqrt', 'clf__max_depth': 10, 'clf__bootstrap': False}\n",
      "Average validation accuracy: 0.583\n",
      "Test accuracy: 0.5\n",
      "Pipeline_6...\n",
      "[('normalization', StandardScaler()), ('dim_reduce', FeatureAgglomeration(n_clusters=4)), ('clf', KNeighborsClassifier())]\n",
      "\n",
      "Fitting 3 folds for each of 15 candidates, totalling 45 fits\n",
      "Best hyperparameters: {'clf__weights': 'uniform', 'clf__p': 1, 'clf__n_neighbors': 5, 'clf__algorithm': 'brute'}\n",
      "Average validation accuracy: 0.542\n",
      "Test accuracy: 0.125\n",
      "************************************************************************************************************************\n",
      "\n",
      "sub_71:\n",
      "************************************************************************************************************************\n",
      "partitioning...\n",
      "...complete!\n",
      "\n",
      "Pipeline_1...\n",
      "[('normalization', StandardScaler()), ('dim_reduce', PCA(n_components=0.9)), ('clf', SVC())]\n",
      "\n",
      "Fitting 3 folds for each of 15 candidates, totalling 45 fits\n"
     ]
    },
    {
     "name": "stderr",
     "output_type": "stream",
     "text": [
      "C:\\Users\\61407\\anaconda3\\lib\\site-packages\\sklearn\\model_selection\\_search.py:952: UserWarning: One or more of the test scores are non-finite: [0.54166667 0.41666667 0.54166667        nan 0.45833333 0.54166667\n",
      " 0.54166667        nan 0.45833333        nan 0.45833333 0.45833333\n",
      " 0.45833333        nan 0.54166667]\n",
      "  warnings.warn(\n"
     ]
    },
    {
     "name": "stdout",
     "output_type": "stream",
     "text": [
      "Best hyperparameters: {'clf__kernel': 'rbf', 'clf__gamma': 0.1, 'clf__degree': 4, 'clf__coef0': 2.0, 'clf__C': 1}\n",
      "Average validation accuracy: 0.917\n",
      "Test accuracy: 0.875\n",
      "Pipeline_2...\n",
      "[('normalization', StandardScaler()), ('dim_reduce', PCA(n_components=0.9)), ('clf', RandomForestClassifier())]\n",
      "\n",
      "Fitting 3 folds for each of 15 candidates, totalling 45 fits\n",
      "Best hyperparameters: {'clf__n_estimators': 50, 'clf__min_samples_split': 10, 'clf__min_samples_leaf': 2, 'clf__max_features': 'log2', 'clf__max_depth': 30, 'clf__bootstrap': True}\n",
      "Average validation accuracy: 0.667\n",
      "Test accuracy: 0.75\n",
      "Pipeline_3...\n",
      "[('normalization', StandardScaler()), ('dim_reduce', PCA(n_components=0.9)), ('clf', KNeighborsClassifier())]\n",
      "\n",
      "Fitting 3 folds for each of 15 candidates, totalling 45 fits\n",
      "Best hyperparameters: {'clf__weights': 'uniform', 'clf__p': 1, 'clf__n_neighbors': 3, 'clf__algorithm': 'auto'}\n",
      "Average validation accuracy: 0.667\n",
      "Test accuracy: 0.625\n",
      "Pipeline_4...\n",
      "[('normalization', StandardScaler()), ('dim_reduce', FeatureAgglomeration(n_clusters=4)), ('clf', SVC())]\n",
      "\n",
      "Fitting 3 folds for each of 15 candidates, totalling 45 fits\n"
     ]
    },
    {
     "name": "stderr",
     "output_type": "stream",
     "text": [
      "C:\\Users\\61407\\anaconda3\\lib\\site-packages\\sklearn\\model_selection\\_search.py:952: UserWarning: One or more of the test scores are non-finite: [0.54166667 0.5        0.66666667        nan 0.58333333 0.54166667\n",
      " 0.66666667        nan 0.5               nan 0.58333333 0.5\n",
      " 0.58333333        nan 0.66666667]\n",
      "  warnings.warn(\n"
     ]
    },
    {
     "name": "stdout",
     "output_type": "stream",
     "text": [
      "Best hyperparameters: {'clf__kernel': 'rbf', 'clf__gamma': 1, 'clf__degree': 3, 'clf__coef0': 0.0, 'clf__C': 0.1}\n",
      "Average validation accuracy: 0.792\n",
      "Test accuracy: 1.0\n",
      "Pipeline_5...\n",
      "[('normalization', StandardScaler()), ('dim_reduce', FeatureAgglomeration(n_clusters=4)), ('clf', RandomForestClassifier())]\n",
      "\n",
      "Fitting 3 folds for each of 15 candidates, totalling 45 fits\n",
      "Best hyperparameters: {'clf__n_estimators': 100, 'clf__min_samples_split': 2, 'clf__min_samples_leaf': 2, 'clf__max_features': None, 'clf__max_depth': 10, 'clf__bootstrap': False}\n",
      "Average validation accuracy: 0.625\n",
      "Test accuracy: 0.625\n",
      "Pipeline_6...\n",
      "[('normalization', StandardScaler()), ('dim_reduce', FeatureAgglomeration(n_clusters=4)), ('clf', KNeighborsClassifier())]\n",
      "\n",
      "Fitting 3 folds for each of 15 candidates, totalling 45 fits\n",
      "Best hyperparameters: {'clf__weights': 'uniform', 'clf__p': 2, 'clf__n_neighbors': 3, 'clf__algorithm': 'kd_tree'}\n",
      "Average validation accuracy: 0.667\n",
      "Test accuracy: 0.625\n",
      "************************************************************************************************************************\n",
      "\n",
      "sub_72:\n",
      "************************************************************************************************************************\n",
      "partitioning...\n",
      "...complete!\n",
      "\n",
      "Pipeline_1...\n",
      "[('normalization', StandardScaler()), ('dim_reduce', PCA(n_components=0.9)), ('clf', SVC())]\n",
      "\n",
      "Fitting 3 folds for each of 15 candidates, totalling 45 fits\n"
     ]
    },
    {
     "name": "stderr",
     "output_type": "stream",
     "text": [
      "C:\\Users\\61407\\anaconda3\\lib\\site-packages\\sklearn\\model_selection\\_search.py:952: UserWarning: One or more of the test scores are non-finite: [0.58333333 0.5        0.58333333        nan 0.58333333 0.58333333\n",
      " 0.58333333        nan 0.54166667        nan 0.5        0.54166667\n",
      " 0.5               nan 0.66666667]\n",
      "  warnings.warn(\n"
     ]
    },
    {
     "name": "stdout",
     "output_type": "stream",
     "text": [
      "Best hyperparameters: {'clf__kernel': 'sigmoid', 'clf__gamma': 'scale', 'clf__degree': 3, 'clf__coef0': 2.0, 'clf__C': 1}\n",
      "Average validation accuracy: 0.583\n",
      "Test accuracy: 1.0\n",
      "Pipeline_2...\n",
      "[('normalization', StandardScaler()), ('dim_reduce', PCA(n_components=0.9)), ('clf', RandomForestClassifier())]\n",
      "\n",
      "Fitting 3 folds for each of 15 candidates, totalling 45 fits\n",
      "Best hyperparameters: {'clf__n_estimators': 100, 'clf__min_samples_split': 2, 'clf__min_samples_leaf': 1, 'clf__max_features': None, 'clf__max_depth': 20, 'clf__bootstrap': True}\n",
      "Average validation accuracy: 0.583\n",
      "Test accuracy: 0.5\n",
      "Pipeline_3...\n",
      "[('normalization', StandardScaler()), ('dim_reduce', PCA(n_components=0.9)), ('clf', KNeighborsClassifier())]\n",
      "\n",
      "Fitting 3 folds for each of 15 candidates, totalling 45 fits\n",
      "Best hyperparameters: {'clf__weights': 'uniform', 'clf__p': 1, 'clf__n_neighbors': 10, 'clf__algorithm': 'brute'}\n",
      "Average validation accuracy: 0.625\n",
      "Test accuracy: 0.75\n",
      "Pipeline_4...\n",
      "[('normalization', StandardScaler()), ('dim_reduce', FeatureAgglomeration(n_clusters=4)), ('clf', SVC())]\n",
      "\n",
      "Fitting 3 folds for each of 15 candidates, totalling 45 fits\n"
     ]
    },
    {
     "name": "stderr",
     "output_type": "stream",
     "text": [
      "C:\\Users\\61407\\anaconda3\\lib\\site-packages\\sklearn\\model_selection\\_search.py:952: UserWarning: One or more of the test scores are non-finite: [0.54166667 0.58333333 0.41666667        nan 0.5        0.54166667\n",
      " 0.41666667        nan 0.54166667        nan 0.625      0.54166667\n",
      " 0.625             nan 0.33333333]\n",
      "  warnings.warn(\n"
     ]
    },
    {
     "name": "stdout",
     "output_type": "stream",
     "text": [
      "Best hyperparameters: {'clf__kernel': 'sigmoid', 'clf__gamma': 1, 'clf__degree': 2, 'clf__coef0': 0.0, 'clf__C': 100}\n",
      "Average validation accuracy: 0.625\n",
      "Test accuracy: 0.875\n",
      "Pipeline_5...\n",
      "[('normalization', StandardScaler()), ('dim_reduce', FeatureAgglomeration(n_clusters=4)), ('clf', RandomForestClassifier())]\n",
      "\n",
      "Fitting 3 folds for each of 15 candidates, totalling 45 fits\n",
      "Best hyperparameters: {'clf__n_estimators': 200, 'clf__min_samples_split': 5, 'clf__min_samples_leaf': 2, 'clf__max_features': None, 'clf__max_depth': 10, 'clf__bootstrap': False}\n",
      "Average validation accuracy: 0.625\n",
      "Test accuracy: 0.75\n",
      "Pipeline_6...\n",
      "[('normalization', StandardScaler()), ('dim_reduce', FeatureAgglomeration(n_clusters=4)), ('clf', KNeighborsClassifier())]\n",
      "\n",
      "Fitting 3 folds for each of 15 candidates, totalling 45 fits\n",
      "Best hyperparameters: {'clf__weights': 'uniform', 'clf__p': 1, 'clf__n_neighbors': 3, 'clf__algorithm': 'auto'}\n",
      "Average validation accuracy: 0.583\n",
      "Test accuracy: 0.75\n",
      "************************************************************************************************************************\n",
      "\n",
      "sub_73:\n",
      "************************************************************************************************************************\n",
      "partitioning...\n",
      "...complete!\n",
      "\n",
      "Pipeline_1...\n",
      "[('normalization', StandardScaler()), ('dim_reduce', PCA(n_components=0.9)), ('clf', SVC())]\n",
      "\n",
      "Fitting 3 folds for each of 15 candidates, totalling 45 fits\n"
     ]
    },
    {
     "name": "stderr",
     "output_type": "stream",
     "text": [
      "C:\\Users\\61407\\anaconda3\\lib\\site-packages\\sklearn\\model_selection\\_search.py:952: UserWarning: One or more of the test scores are non-finite: [0.45833333 0.45833333 0.58333333        nan 0.45833333 0.45833333\n",
      " 0.58333333        nan 0.54166667        nan 0.58333333 0.54166667\n",
      " 0.58333333        nan 0.58333333]\n",
      "  warnings.warn(\n"
     ]
    },
    {
     "name": "stdout",
     "output_type": "stream",
     "text": [
      "Best hyperparameters: {'clf__kernel': 'poly', 'clf__gamma': 0.1, 'clf__degree': 2, 'clf__coef0': 1.0, 'clf__C': 10}\n",
      "Average validation accuracy: 0.708\n",
      "Test accuracy: 0.875\n",
      "Pipeline_2...\n",
      "[('normalization', StandardScaler()), ('dim_reduce', PCA(n_components=0.9)), ('clf', RandomForestClassifier())]\n",
      "\n",
      "Fitting 3 folds for each of 15 candidates, totalling 45 fits\n"
     ]
    },
    {
     "name": "stderr",
     "output_type": "stream",
     "text": [
      "C:\\Users\\61407\\anaconda3\\lib\\site-packages\\sklearn\\ensemble\\_forest.py:424: FutureWarning: `max_features='auto'` has been deprecated in 1.1 and will be removed in 1.3. To keep the past behaviour, explicitly set `max_features='sqrt'` or remove this parameter as it is also the default value for RandomForestClassifiers and ExtraTreesClassifiers.\n",
      "  warn(\n"
     ]
    },
    {
     "name": "stdout",
     "output_type": "stream",
     "text": [
      "Best hyperparameters: {'clf__n_estimators': 100, 'clf__min_samples_split': 5, 'clf__min_samples_leaf': 4, 'clf__max_features': 'auto', 'clf__max_depth': 30, 'clf__bootstrap': False}\n",
      "Average validation accuracy: 0.792\n",
      "Test accuracy: 1.0\n",
      "Pipeline_3...\n",
      "[('normalization', StandardScaler()), ('dim_reduce', PCA(n_components=0.9)), ('clf', KNeighborsClassifier())]\n",
      "\n",
      "Fitting 3 folds for each of 15 candidates, totalling 45 fits\n",
      "Best hyperparameters: {'clf__weights': 'uniform', 'clf__p': 1, 'clf__n_neighbors': 3, 'clf__algorithm': 'auto'}\n",
      "Average validation accuracy: 0.75\n",
      "Test accuracy: 0.875\n",
      "Pipeline_4...\n",
      "[('normalization', StandardScaler()), ('dim_reduce', FeatureAgglomeration(n_clusters=4)), ('clf', SVC())]\n",
      "\n",
      "Fitting 3 folds for each of 15 candidates, totalling 45 fits\n"
     ]
    },
    {
     "name": "stderr",
     "output_type": "stream",
     "text": [
      "C:\\Users\\61407\\anaconda3\\lib\\site-packages\\sklearn\\model_selection\\_search.py:952: UserWarning: One or more of the test scores are non-finite: [0.66666667 0.54166667 0.75              nan 0.66666667 0.66666667\n",
      " 0.75              nan 0.54166667        nan 0.5        0.54166667\n",
      " 0.5               nan 0.66666667]\n",
      "  warnings.warn(\n"
     ]
    },
    {
     "name": "stdout",
     "output_type": "stream",
     "text": [
      "Best hyperparameters: {'clf__kernel': 'poly', 'clf__gamma': 0.1, 'clf__degree': 2, 'clf__coef0': 1.0, 'clf__C': 10}\n",
      "Average validation accuracy: 0.708\n",
      "Test accuracy: 1.0\n",
      "Pipeline_5...\n",
      "[('normalization', StandardScaler()), ('dim_reduce', FeatureAgglomeration(n_clusters=4)), ('clf', RandomForestClassifier())]\n",
      "\n",
      "Fitting 3 folds for each of 15 candidates, totalling 45 fits\n"
     ]
    },
    {
     "name": "stderr",
     "output_type": "stream",
     "text": [
      "C:\\Users\\61407\\anaconda3\\lib\\site-packages\\sklearn\\ensemble\\_forest.py:424: FutureWarning: `max_features='auto'` has been deprecated in 1.1 and will be removed in 1.3. To keep the past behaviour, explicitly set `max_features='sqrt'` or remove this parameter as it is also the default value for RandomForestClassifiers and ExtraTreesClassifiers.\n",
      "  warn(\n"
     ]
    },
    {
     "name": "stdout",
     "output_type": "stream",
     "text": [
      "Best hyperparameters: {'clf__n_estimators': 200, 'clf__min_samples_split': 5, 'clf__min_samples_leaf': 4, 'clf__max_features': 'auto', 'clf__max_depth': None, 'clf__bootstrap': True}\n",
      "Average validation accuracy: 0.75\n",
      "Test accuracy: 0.875\n",
      "Pipeline_6...\n",
      "[('normalization', StandardScaler()), ('dim_reduce', FeatureAgglomeration(n_clusters=4)), ('clf', KNeighborsClassifier())]\n",
      "\n",
      "Fitting 3 folds for each of 15 candidates, totalling 45 fits\n",
      "Best hyperparameters: {'clf__weights': 'uniform', 'clf__p': 1, 'clf__n_neighbors': 3, 'clf__algorithm': 'auto'}\n",
      "Average validation accuracy: 0.708\n",
      "Test accuracy: 0.875\n",
      "************************************************************************************************************************\n",
      "\n",
      "sub_74:\n",
      "************************************************************************************************************************\n",
      "partitioning...\n",
      "...complete!\n",
      "\n",
      "Pipeline_1...\n",
      "[('normalization', StandardScaler()), ('dim_reduce', PCA(n_components=0.9)), ('clf', SVC())]\n",
      "\n",
      "Fitting 3 folds for each of 15 candidates, totalling 45 fits\n"
     ]
    },
    {
     "name": "stderr",
     "output_type": "stream",
     "text": [
      "C:\\Users\\61407\\anaconda3\\lib\\site-packages\\sklearn\\model_selection\\_search.py:952: UserWarning: One or more of the test scores are non-finite: [0.625      0.58333333 0.70833333        nan 0.54166667 0.625\n",
      " 0.70833333        nan 0.54166667        nan 0.5        0.54166667\n",
      " 0.5               nan 0.70833333]\n",
      "  warnings.warn(\n"
     ]
    },
    {
     "name": "stdout",
     "output_type": "stream",
     "text": [
      "Best hyperparameters: {'clf__kernel': 'poly', 'clf__gamma': 0.1, 'clf__degree': 2, 'clf__coef0': 1.0, 'clf__C': 10}\n",
      "Average validation accuracy: 0.917\n",
      "Test accuracy: 0.5\n",
      "Pipeline_2...\n",
      "[('normalization', StandardScaler()), ('dim_reduce', PCA(n_components=0.9)), ('clf', RandomForestClassifier())]\n",
      "\n",
      "Fitting 3 folds for each of 15 candidates, totalling 45 fits\n",
      "Best hyperparameters: {'clf__n_estimators': 50, 'clf__min_samples_split': 2, 'clf__min_samples_leaf': 4, 'clf__max_features': 'log2', 'clf__max_depth': 20, 'clf__bootstrap': False}\n",
      "Average validation accuracy: 0.917\n",
      "Test accuracy: 0.125\n",
      "Pipeline_3...\n",
      "[('normalization', StandardScaler()), ('dim_reduce', PCA(n_components=0.9)), ('clf', KNeighborsClassifier())]\n",
      "\n",
      "Fitting 3 folds for each of 15 candidates, totalling 45 fits\n",
      "Best hyperparameters: {'clf__weights': 'uniform', 'clf__p': 1, 'clf__n_neighbors': 3, 'clf__algorithm': 'auto'}\n",
      "Average validation accuracy: 0.875\n",
      "Test accuracy: 0.375\n",
      "Pipeline_4...\n",
      "[('normalization', StandardScaler()), ('dim_reduce', FeatureAgglomeration(n_clusters=4)), ('clf', SVC())]\n",
      "\n",
      "Fitting 3 folds for each of 15 candidates, totalling 45 fits\n"
     ]
    },
    {
     "name": "stderr",
     "output_type": "stream",
     "text": [
      "C:\\Users\\61407\\anaconda3\\lib\\site-packages\\sklearn\\model_selection\\_search.py:952: UserWarning: One or more of the test scores are non-finite: [0.83333333 0.79166667 0.875             nan 0.83333333 0.83333333\n",
      " 0.875             nan 0.875             nan 0.79166667 0.875\n",
      " 0.79166667        nan 0.875     ]\n",
      "  warnings.warn(\n"
     ]
    },
    {
     "name": "stdout",
     "output_type": "stream",
     "text": [
      "Best hyperparameters: {'clf__kernel': 'poly', 'clf__gamma': 'scale', 'clf__degree': 3, 'clf__coef0': 2.0, 'clf__C': 10}\n",
      "Average validation accuracy: 0.875\n",
      "Test accuracy: 0.5\n",
      "Pipeline_5...\n",
      "[('normalization', StandardScaler()), ('dim_reduce', FeatureAgglomeration(n_clusters=4)), ('clf', RandomForestClassifier())]\n",
      "\n",
      "Fitting 3 folds for each of 15 candidates, totalling 45 fits\n",
      "Best hyperparameters: {'clf__n_estimators': 200, 'clf__min_samples_split': 10, 'clf__min_samples_leaf': 4, 'clf__max_features': 'sqrt', 'clf__max_depth': 10, 'clf__bootstrap': False}\n",
      "Average validation accuracy: 0.917\n",
      "Test accuracy: 0.25\n",
      "Pipeline_6...\n",
      "[('normalization', StandardScaler()), ('dim_reduce', FeatureAgglomeration(n_clusters=4)), ('clf', KNeighborsClassifier())]\n",
      "\n",
      "Fitting 3 folds for each of 15 candidates, totalling 45 fits\n"
     ]
    },
    {
     "name": "stderr",
     "output_type": "stream",
     "text": [
      "C:\\Users\\61407\\anaconda3\\lib\\site-packages\\sklearn\\model_selection\\_search.py:952: UserWarning: One or more of the test scores are non-finite: [0.83333333 0.83333333 0.875             nan 0.875      0.83333333\n",
      " 0.875             nan 0.91666667        nan 0.83333333 0.91666667\n",
      " 0.83333333        nan 0.875     ]\n",
      "  warnings.warn(\n"
     ]
    },
    {
     "name": "stdout",
     "output_type": "stream",
     "text": [
      "Best hyperparameters: {'clf__weights': 'distance', 'clf__p': 1, 'clf__n_neighbors': 10, 'clf__algorithm': 'ball_tree'}\n",
      "Average validation accuracy: 0.917\n",
      "Test accuracy: 0.25\n",
      "************************************************************************************************************************\n",
      "\n",
      "sub_75:\n",
      "************************************************************************************************************************\n",
      "partitioning...\n",
      "...complete!\n",
      "\n",
      "Pipeline_1...\n",
      "[('normalization', StandardScaler()), ('dim_reduce', PCA(n_components=0.9)), ('clf', SVC())]\n",
      "\n",
      "Fitting 3 folds for each of 15 candidates, totalling 45 fits\n",
      "Best hyperparameters: {'clf__kernel': 'poly', 'clf__gamma': 0.1, 'clf__degree': 4, 'clf__coef0': 1.0, 'clf__C': 1}\n",
      "Average validation accuracy: 0.792\n",
      "Test accuracy: 0.375\n",
      "Pipeline_2...\n",
      "[('normalization', StandardScaler()), ('dim_reduce', PCA(n_components=0.9)), ('clf', RandomForestClassifier())]\n",
      "\n",
      "Fitting 3 folds for each of 15 candidates, totalling 45 fits\n",
      "Best hyperparameters: {'clf__n_estimators': 200, 'clf__min_samples_split': 5, 'clf__min_samples_leaf': 1, 'clf__max_features': 'sqrt', 'clf__max_depth': None, 'clf__bootstrap': False}\n",
      "Average validation accuracy: 0.833\n",
      "Test accuracy: 0.375\n",
      "Pipeline_3...\n",
      "[('normalization', StandardScaler()), ('dim_reduce', PCA(n_components=0.9)), ('clf', KNeighborsClassifier())]\n",
      "\n",
      "Fitting 3 folds for each of 15 candidates, totalling 45 fits\n",
      "Best hyperparameters: {'clf__weights': 'uniform', 'clf__p': 2, 'clf__n_neighbors': 3, 'clf__algorithm': 'kd_tree'}\n",
      "Average validation accuracy: 0.667\n",
      "Test accuracy: 0.5\n",
      "Pipeline_4...\n",
      "[('normalization', StandardScaler()), ('dim_reduce', FeatureAgglomeration(n_clusters=4)), ('clf', SVC())]\n",
      "\n",
      "Fitting 3 folds for each of 15 candidates, totalling 45 fits\n"
     ]
    },
    {
     "name": "stderr",
     "output_type": "stream",
     "text": [
      "C:\\Users\\61407\\anaconda3\\lib\\site-packages\\sklearn\\model_selection\\_search.py:952: UserWarning: One or more of the test scores are non-finite: [0.58333333 0.58333333 0.625             nan 0.58333333 0.58333333\n",
      " 0.625             nan 0.625             nan 0.625      0.625\n",
      " 0.625             nan 0.66666667]\n",
      "  warnings.warn(\n"
     ]
    },
    {
     "name": "stdout",
     "output_type": "stream",
     "text": [
      "Best hyperparameters: {'clf__kernel': 'poly', 'clf__gamma': 'auto', 'clf__degree': 4, 'clf__coef0': 0.0, 'clf__C': 100}\n",
      "Average validation accuracy: 0.708\n",
      "Test accuracy: 0.5\n",
      "Pipeline_5...\n",
      "[('normalization', StandardScaler()), ('dim_reduce', FeatureAgglomeration(n_clusters=4)), ('clf', RandomForestClassifier())]\n",
      "\n",
      "Fitting 3 folds for each of 15 candidates, totalling 45 fits\n",
      "Best hyperparameters: {'clf__n_estimators': 50, 'clf__min_samples_split': 2, 'clf__min_samples_leaf': 4, 'clf__max_features': 'log2', 'clf__max_depth': 20, 'clf__bootstrap': False}\n",
      "Average validation accuracy: 0.667\n",
      "Test accuracy: 0.375\n",
      "Pipeline_6...\n",
      "[('normalization', StandardScaler()), ('dim_reduce', FeatureAgglomeration(n_clusters=4)), ('clf', KNeighborsClassifier())]\n",
      "\n",
      "Fitting 3 folds for each of 15 candidates, totalling 45 fits\n"
     ]
    },
    {
     "name": "stderr",
     "output_type": "stream",
     "text": [
      "C:\\Users\\61407\\anaconda3\\lib\\site-packages\\sklearn\\model_selection\\_search.py:952: UserWarning: One or more of the test scores are non-finite: [0.58333333 0.5        0.54166667        nan 0.58333333 0.58333333\n",
      " 0.54166667        nan 0.54166667        nan 0.5        0.54166667\n",
      " 0.5               nan 0.58333333]\n",
      "  warnings.warn(\n"
     ]
    },
    {
     "name": "stdout",
     "output_type": "stream",
     "text": [
      "Best hyperparameters: {'clf__weights': 'uniform', 'clf__p': 1, 'clf__n_neighbors': 5, 'clf__algorithm': 'brute'}\n",
      "Average validation accuracy: 0.583\n",
      "Test accuracy: 0.125\n",
      "************************************************************************************************************************\n",
      "\n",
      "sub_76:\n",
      "************************************************************************************************************************\n",
      "partitioning...\n",
      "...complete!\n",
      "\n",
      "Pipeline_1...\n",
      "[('normalization', StandardScaler()), ('dim_reduce', PCA(n_components=0.9)), ('clf', SVC())]\n",
      "\n",
      "Fitting 3 folds for each of 15 candidates, totalling 45 fits\n",
      "Best hyperparameters: {'clf__kernel': 'poly', 'clf__gamma': 0.1, 'clf__degree': 2, 'clf__coef0': 1.0, 'clf__C': 10}\n",
      "Average validation accuracy: 0.875\n",
      "Test accuracy: 0.5\n",
      "Pipeline_2...\n",
      "[('normalization', StandardScaler()), ('dim_reduce', PCA(n_components=0.9)), ('clf', RandomForestClassifier())]\n",
      "\n",
      "Fitting 3 folds for each of 15 candidates, totalling 45 fits\n"
     ]
    },
    {
     "name": "stderr",
     "output_type": "stream",
     "text": [
      "C:\\Users\\61407\\anaconda3\\lib\\site-packages\\sklearn\\ensemble\\_forest.py:424: FutureWarning: `max_features='auto'` has been deprecated in 1.1 and will be removed in 1.3. To keep the past behaviour, explicitly set `max_features='sqrt'` or remove this parameter as it is also the default value for RandomForestClassifiers and ExtraTreesClassifiers.\n",
      "  warn(\n"
     ]
    },
    {
     "name": "stdout",
     "output_type": "stream",
     "text": [
      "Best hyperparameters: {'clf__n_estimators': 200, 'clf__min_samples_split': 5, 'clf__min_samples_leaf': 4, 'clf__max_features': 'auto', 'clf__max_depth': None, 'clf__bootstrap': True}\n",
      "Average validation accuracy: 0.792\n",
      "Test accuracy: 0.25\n",
      "Pipeline_3...\n",
      "[('normalization', StandardScaler()), ('dim_reduce', PCA(n_components=0.9)), ('clf', KNeighborsClassifier())]\n",
      "\n",
      "Fitting 3 folds for each of 15 candidates, totalling 45 fits\n",
      "Best hyperparameters: {'clf__weights': 'uniform', 'clf__p': 1, 'clf__n_neighbors': 3, 'clf__algorithm': 'auto'}\n",
      "Average validation accuracy: 0.833\n",
      "Test accuracy: 1.0\n",
      "Pipeline_4...\n",
      "[('normalization', StandardScaler()), ('dim_reduce', FeatureAgglomeration(n_clusters=4)), ('clf', SVC())]\n",
      "\n",
      "Fitting 3 folds for each of 15 candidates, totalling 45 fits\n"
     ]
    },
    {
     "name": "stderr",
     "output_type": "stream",
     "text": [
      "C:\\Users\\61407\\anaconda3\\lib\\site-packages\\sklearn\\model_selection\\_search.py:952: UserWarning: One or more of the test scores are non-finite: [0.79166667 0.79166667 0.83333333        nan 0.79166667 0.79166667\n",
      " 0.83333333        nan 0.83333333        nan 0.79166667 0.83333333\n",
      " 0.79166667        nan 0.83333333]\n",
      "  warnings.warn(\n"
     ]
    },
    {
     "name": "stdout",
     "output_type": "stream",
     "text": [
      "Best hyperparameters: {'clf__kernel': 'poly', 'clf__gamma': 0.1, 'clf__degree': 4, 'clf__coef0': 1.0, 'clf__C': 1}\n",
      "Average validation accuracy: 0.833\n",
      "Test accuracy: 0.75\n",
      "Pipeline_5...\n",
      "[('normalization', StandardScaler()), ('dim_reduce', FeatureAgglomeration(n_clusters=4)), ('clf', RandomForestClassifier())]\n",
      "\n",
      "Fitting 3 folds for each of 15 candidates, totalling 45 fits\n",
      "Best hyperparameters: {'clf__n_estimators': 50, 'clf__min_samples_split': 5, 'clf__min_samples_leaf': 2, 'clf__max_features': None, 'clf__max_depth': 20, 'clf__bootstrap': True}\n",
      "Average validation accuracy: 0.75\n",
      "Test accuracy: 0.5\n",
      "Pipeline_6...\n",
      "[('normalization', StandardScaler()), ('dim_reduce', FeatureAgglomeration(n_clusters=4)), ('clf', KNeighborsClassifier())]\n",
      "\n",
      "Fitting 3 folds for each of 15 candidates, totalling 45 fits\n",
      "Best hyperparameters: {'clf__weights': 'uniform', 'clf__p': 1, 'clf__n_neighbors': 5, 'clf__algorithm': 'brute'}\n",
      "Average validation accuracy: 0.833\n",
      "Test accuracy: 0.75\n",
      "************************************************************************************************************************\n",
      "\n",
      "sub_78:\n",
      "************************************************************************************************************************\n",
      "partitioning...\n",
      "...complete!\n",
      "\n",
      "Pipeline_1...\n",
      "[('normalization', StandardScaler()), ('dim_reduce', PCA(n_components=0.9)), ('clf', SVC())]\n",
      "\n",
      "Fitting 3 folds for each of 15 candidates, totalling 45 fits\n"
     ]
    },
    {
     "name": "stderr",
     "output_type": "stream",
     "text": [
      "C:\\Users\\61407\\anaconda3\\lib\\site-packages\\sklearn\\model_selection\\_search.py:952: UserWarning: One or more of the test scores are non-finite: [0.83333333 0.79166667 0.79166667        nan 0.83333333 0.83333333\n",
      " 0.79166667        nan 0.83333333        nan 0.79166667 0.83333333\n",
      " 0.79166667        nan 0.79166667]\n",
      "  warnings.warn(\n"
     ]
    },
    {
     "name": "stdout",
     "output_type": "stream",
     "text": [
      "Best hyperparameters: {'clf__kernel': 'sigmoid', 'clf__gamma': 1, 'clf__degree': 2, 'clf__coef0': 0.0, 'clf__C': 100}\n",
      "Average validation accuracy: 0.75\n",
      "Test accuracy: 0.625\n",
      "Pipeline_2...\n",
      "[('normalization', StandardScaler()), ('dim_reduce', PCA(n_components=0.9)), ('clf', RandomForestClassifier())]\n",
      "\n",
      "Fitting 3 folds for each of 15 candidates, totalling 45 fits\n"
     ]
    },
    {
     "name": "stderr",
     "output_type": "stream",
     "text": [
      "C:\\Users\\61407\\anaconda3\\lib\\site-packages\\sklearn\\ensemble\\_forest.py:424: FutureWarning: `max_features='auto'` has been deprecated in 1.1 and will be removed in 1.3. To keep the past behaviour, explicitly set `max_features='sqrt'` or remove this parameter as it is also the default value for RandomForestClassifiers and ExtraTreesClassifiers.\n",
      "  warn(\n"
     ]
    },
    {
     "name": "stdout",
     "output_type": "stream",
     "text": [
      "Best hyperparameters: {'clf__n_estimators': 200, 'clf__min_samples_split': 5, 'clf__min_samples_leaf': 4, 'clf__max_features': 'auto', 'clf__max_depth': None, 'clf__bootstrap': True}\n",
      "Average validation accuracy: 0.625\n",
      "Test accuracy: 0.25\n",
      "Pipeline_3...\n",
      "[('normalization', StandardScaler()), ('dim_reduce', PCA(n_components=0.9)), ('clf', KNeighborsClassifier())]\n",
      "\n",
      "Fitting 3 folds for each of 15 candidates, totalling 45 fits\n",
      "Best hyperparameters: {'clf__weights': 'uniform', 'clf__p': 1, 'clf__n_neighbors': 3, 'clf__algorithm': 'auto'}\n",
      "Average validation accuracy: 0.708\n",
      "Test accuracy: 0.375\n",
      "Pipeline_4...\n",
      "[('normalization', StandardScaler()), ('dim_reduce', FeatureAgglomeration(n_clusters=4)), ('clf', SVC())]\n",
      "\n",
      "Fitting 3 folds for each of 15 candidates, totalling 45 fits\n"
     ]
    },
    {
     "name": "stderr",
     "output_type": "stream",
     "text": [
      "C:\\Users\\61407\\anaconda3\\lib\\site-packages\\sklearn\\model_selection\\_search.py:952: UserWarning: One or more of the test scores are non-finite: [0.58333333 0.58333333 0.70833333        nan 0.58333333 0.58333333\n",
      " 0.70833333        nan 0.66666667        nan 0.58333333 0.66666667\n",
      " 0.58333333        nan 0.66666667]\n",
      "  warnings.warn(\n"
     ]
    },
    {
     "name": "stdout",
     "output_type": "stream",
     "text": [
      "Best hyperparameters: {'clf__kernel': 'rbf', 'clf__gamma': 0.1, 'clf__degree': 4, 'clf__coef0': 2.0, 'clf__C': 1}\n",
      "Average validation accuracy: 0.75\n",
      "Test accuracy: 0.5\n",
      "Pipeline_5...\n",
      "[('normalization', StandardScaler()), ('dim_reduce', FeatureAgglomeration(n_clusters=4)), ('clf', RandomForestClassifier())]\n",
      "\n",
      "Fitting 3 folds for each of 15 candidates, totalling 45 fits\n",
      "Best hyperparameters: {'clf__n_estimators': 50, 'clf__min_samples_split': 2, 'clf__min_samples_leaf': 4, 'clf__max_features': 'log2', 'clf__max_depth': 20, 'clf__bootstrap': False}\n",
      "Average validation accuracy: 0.667\n",
      "Test accuracy: 0.375\n",
      "Pipeline_6...\n",
      "[('normalization', StandardScaler()), ('dim_reduce', FeatureAgglomeration(n_clusters=4)), ('clf', KNeighborsClassifier())]\n",
      "\n",
      "Fitting 3 folds for each of 15 candidates, totalling 45 fits\n",
      "Best hyperparameters: {'clf__weights': 'uniform', 'clf__p': 2, 'clf__n_neighbors': 3, 'clf__algorithm': 'kd_tree'}\n",
      "Average validation accuracy: 0.75\n",
      "Test accuracy: 0.625\n",
      "************************************************************************************************************************\n",
      "\n",
      "sub_79:\n",
      "************************************************************************************************************************\n",
      "partitioning...\n",
      "...complete!\n",
      "\n",
      "Pipeline_1...\n",
      "[('normalization', StandardScaler()), ('dim_reduce', PCA(n_components=0.9)), ('clf', SVC())]\n",
      "\n",
      "Fitting 3 folds for each of 15 candidates, totalling 45 fits\n"
     ]
    },
    {
     "name": "stderr",
     "output_type": "stream",
     "text": [
      "C:\\Users\\61407\\anaconda3\\lib\\site-packages\\sklearn\\model_selection\\_search.py:952: UserWarning: One or more of the test scores are non-finite: [0.70833333 0.54166667 0.66666667        nan 0.70833333 0.70833333\n",
      " 0.66666667        nan 0.70833333        nan 0.58333333 0.70833333\n",
      " 0.58333333        nan 0.75      ]\n",
      "  warnings.warn(\n"
     ]
    },
    {
     "name": "stdout",
     "output_type": "stream",
     "text": [
      "Best hyperparameters: {'clf__kernel': 'poly', 'clf__gamma': 'auto', 'clf__degree': 3, 'clf__coef0': 2.0, 'clf__C': 0.1}\n",
      "Average validation accuracy: 0.792\n",
      "Test accuracy: 0.375\n",
      "Pipeline_2...\n",
      "[('normalization', StandardScaler()), ('dim_reduce', PCA(n_components=0.9)), ('clf', RandomForestClassifier())]\n",
      "\n",
      "Fitting 3 folds for each of 15 candidates, totalling 45 fits\n"
     ]
    },
    {
     "name": "stderr",
     "output_type": "stream",
     "text": [
      "C:\\Users\\61407\\anaconda3\\lib\\site-packages\\sklearn\\ensemble\\_forest.py:424: FutureWarning: `max_features='auto'` has been deprecated in 1.1 and will be removed in 1.3. To keep the past behaviour, explicitly set `max_features='sqrt'` or remove this parameter as it is also the default value for RandomForestClassifiers and ExtraTreesClassifiers.\n",
      "  warn(\n"
     ]
    },
    {
     "name": "stdout",
     "output_type": "stream",
     "text": [
      "Best hyperparameters: {'clf__n_estimators': 100, 'clf__min_samples_split': 5, 'clf__min_samples_leaf': 4, 'clf__max_features': 'auto', 'clf__max_depth': 30, 'clf__bootstrap': False}\n",
      "Average validation accuracy: 0.792\n",
      "Test accuracy: 0.375\n",
      "Pipeline_3...\n",
      "[('normalization', StandardScaler()), ('dim_reduce', PCA(n_components=0.9)), ('clf', KNeighborsClassifier())]\n",
      "\n",
      "Fitting 3 folds for each of 15 candidates, totalling 45 fits\n",
      "Best hyperparameters: {'clf__weights': 'uniform', 'clf__p': 1, 'clf__n_neighbors': 3, 'clf__algorithm': 'auto'}\n",
      "Average validation accuracy: 0.792\n",
      "Test accuracy: 0.5\n",
      "Pipeline_4...\n",
      "[('normalization', StandardScaler()), ('dim_reduce', FeatureAgglomeration(n_clusters=4)), ('clf', SVC())]\n",
      "\n",
      "Fitting 3 folds for each of 15 candidates, totalling 45 fits\n"
     ]
    },
    {
     "name": "stderr",
     "output_type": "stream",
     "text": [
      "C:\\Users\\61407\\anaconda3\\lib\\site-packages\\sklearn\\model_selection\\_search.py:952: UserWarning: One or more of the test scores are non-finite: [0.70833333 0.5        0.79166667        nan 0.79166667 0.70833333\n",
      " 0.79166667        nan 0.79166667        nan 0.625      0.79166667\n",
      " 0.625             nan 0.70833333]\n",
      "  warnings.warn(\n"
     ]
    },
    {
     "name": "stdout",
     "output_type": "stream",
     "text": [
      "Best hyperparameters: {'clf__kernel': 'poly', 'clf__gamma': 0.1, 'clf__degree': 4, 'clf__coef0': 1.0, 'clf__C': 1}\n",
      "Average validation accuracy: 0.75\n",
      "Test accuracy: 0.375\n",
      "Pipeline_5...\n",
      "[('normalization', StandardScaler()), ('dim_reduce', FeatureAgglomeration(n_clusters=4)), ('clf', RandomForestClassifier())]\n",
      "\n",
      "Fitting 3 folds for each of 15 candidates, totalling 45 fits\n",
      "Best hyperparameters: {'clf__n_estimators': 100, 'clf__min_samples_split': 2, 'clf__min_samples_leaf': 1, 'clf__max_features': None, 'clf__max_depth': 20, 'clf__bootstrap': True}\n",
      "Average validation accuracy: 0.792\n",
      "Test accuracy: 0.25\n",
      "Pipeline_6...\n",
      "[('normalization', StandardScaler()), ('dim_reduce', FeatureAgglomeration(n_clusters=4)), ('clf', KNeighborsClassifier())]\n",
      "\n",
      "Fitting 3 folds for each of 15 candidates, totalling 45 fits\n",
      "Best hyperparameters: {'clf__weights': 'uniform', 'clf__p': 1, 'clf__n_neighbors': 3, 'clf__algorithm': 'auto'}\n",
      "Average validation accuracy: 0.75\n",
      "Test accuracy: 0.375\n",
      "************************************************************************************************************************\n",
      "\n",
      "sub_80:\n",
      "************************************************************************************************************************\n",
      "partitioning...\n",
      "...complete!\n",
      "\n",
      "Pipeline_1...\n",
      "[('normalization', StandardScaler()), ('dim_reduce', PCA(n_components=0.9)), ('clf', SVC())]\n",
      "\n",
      "Fitting 3 folds for each of 15 candidates, totalling 45 fits\n"
     ]
    },
    {
     "name": "stderr",
     "output_type": "stream",
     "text": [
      "C:\\Users\\61407\\anaconda3\\lib\\site-packages\\sklearn\\model_selection\\_search.py:952: UserWarning: One or more of the test scores are non-finite: [0.625      0.5        0.75              nan 0.75       0.625\n",
      " 0.75              nan 0.75              nan 0.45833333 0.75\n",
      " 0.45833333        nan 0.70833333]\n",
      "  warnings.warn(\n"
     ]
    },
    {
     "name": "stdout",
     "output_type": "stream",
     "text": [
      "Best hyperparameters: {'clf__kernel': 'sigmoid', 'clf__gamma': 'scale', 'clf__degree': 3, 'clf__coef0': 2.0, 'clf__C': 1}\n",
      "Average validation accuracy: 0.708\n",
      "Test accuracy: 0.5\n",
      "Pipeline_2...\n",
      "[('normalization', StandardScaler()), ('dim_reduce', PCA(n_components=0.9)), ('clf', RandomForestClassifier())]\n",
      "\n",
      "Fitting 3 folds for each of 15 candidates, totalling 45 fits\n",
      "Best hyperparameters: {'clf__n_estimators': 50, 'clf__min_samples_split': 2, 'clf__min_samples_leaf': 4, 'clf__max_features': 'log2', 'clf__max_depth': 20, 'clf__bootstrap': False}\n",
      "Average validation accuracy: 0.75\n",
      "Test accuracy: 0.25\n",
      "Pipeline_3...\n",
      "[('normalization', StandardScaler()), ('dim_reduce', PCA(n_components=0.9)), ('clf', KNeighborsClassifier())]\n",
      "\n",
      "Fitting 3 folds for each of 15 candidates, totalling 45 fits\n",
      "Best hyperparameters: {'clf__weights': 'uniform', 'clf__p': 2, 'clf__n_neighbors': 10, 'clf__algorithm': 'brute'}\n",
      "Average validation accuracy: 0.792\n",
      "Test accuracy: 0.625\n",
      "Pipeline_4...\n",
      "[('normalization', StandardScaler()), ('dim_reduce', FeatureAgglomeration(n_clusters=4)), ('clf', SVC())]\n",
      "\n",
      "Fitting 3 folds for each of 15 candidates, totalling 45 fits\n"
     ]
    },
    {
     "name": "stderr",
     "output_type": "stream",
     "text": [
      "C:\\Users\\61407\\anaconda3\\lib\\site-packages\\sklearn\\model_selection\\_search.py:952: UserWarning: One or more of the test scores are non-finite: [0.58333333 0.79166667 0.66666667        nan 0.58333333 0.58333333\n",
      " 0.66666667        nan 0.66666667        nan 0.625      0.66666667\n",
      " 0.625             nan 0.70833333]\n",
      "  warnings.warn(\n"
     ]
    },
    {
     "name": "stdout",
     "output_type": "stream",
     "text": [
      "Best hyperparameters: {'clf__kernel': 'poly', 'clf__gamma': 'auto', 'clf__degree': 3, 'clf__coef0': 2.0, 'clf__C': 0.1}\n",
      "Average validation accuracy: 0.667\n",
      "Test accuracy: 0.25\n",
      "Pipeline_5...\n",
      "[('normalization', StandardScaler()), ('dim_reduce', FeatureAgglomeration(n_clusters=4)), ('clf', RandomForestClassifier())]\n",
      "\n",
      "Fitting 3 folds for each of 15 candidates, totalling 45 fits\n"
     ]
    },
    {
     "name": "stderr",
     "output_type": "stream",
     "text": [
      "C:\\Users\\61407\\anaconda3\\lib\\site-packages\\sklearn\\ensemble\\_forest.py:424: FutureWarning: `max_features='auto'` has been deprecated in 1.1 and will be removed in 1.3. To keep the past behaviour, explicitly set `max_features='sqrt'` or remove this parameter as it is also the default value for RandomForestClassifiers and ExtraTreesClassifiers.\n",
      "  warn(\n"
     ]
    },
    {
     "name": "stdout",
     "output_type": "stream",
     "text": [
      "Best hyperparameters: {'clf__n_estimators': 200, 'clf__min_samples_split': 5, 'clf__min_samples_leaf': 4, 'clf__max_features': 'auto', 'clf__max_depth': None, 'clf__bootstrap': True}\n",
      "Average validation accuracy: 0.667\n",
      "Test accuracy: 0.125\n",
      "Pipeline_6...\n",
      "[('normalization', StandardScaler()), ('dim_reduce', FeatureAgglomeration(n_clusters=4)), ('clf', KNeighborsClassifier())]\n",
      "\n",
      "Fitting 3 folds for each of 15 candidates, totalling 45 fits\n",
      "Best hyperparameters: {'clf__weights': 'uniform', 'clf__p': 1, 'clf__n_neighbors': 10, 'clf__algorithm': 'brute'}\n",
      "Average validation accuracy: 0.75\n",
      "Test accuracy: 0.25\n",
      "************************************************************************************************************************\n",
      "\n",
      "sub_81:\n",
      "************************************************************************************************************************\n",
      "partitioning...\n",
      "...complete!\n",
      "\n",
      "Pipeline_1...\n",
      "[('normalization', StandardScaler()), ('dim_reduce', PCA(n_components=0.9)), ('clf', SVC())]\n",
      "\n",
      "Fitting 3 folds for each of 15 candidates, totalling 45 fits\n"
     ]
    },
    {
     "name": "stderr",
     "output_type": "stream",
     "text": [
      "C:\\Users\\61407\\anaconda3\\lib\\site-packages\\sklearn\\model_selection\\_search.py:952: UserWarning: One or more of the test scores are non-finite: [0.70833333 0.70833333 0.54166667        nan 0.625      0.70833333\n",
      " 0.54166667        nan 0.625             nan 0.75       0.625\n",
      " 0.75              nan 0.54166667]\n",
      "  warnings.warn(\n"
     ]
    },
    {
     "name": "stdout",
     "output_type": "stream",
     "text": [
      "Best hyperparameters: {'clf__kernel': 'poly', 'clf__gamma': 'auto', 'clf__degree': 4, 'clf__coef0': 0.0, 'clf__C': 100}\n",
      "Average validation accuracy: 0.75\n",
      "Test accuracy: 0.625\n",
      "Pipeline_2...\n",
      "[('normalization', StandardScaler()), ('dim_reduce', PCA(n_components=0.9)), ('clf', RandomForestClassifier())]\n",
      "\n",
      "Fitting 3 folds for each of 15 candidates, totalling 45 fits\n",
      "Best hyperparameters: {'clf__n_estimators': 50, 'clf__min_samples_split': 2, 'clf__min_samples_leaf': 4, 'clf__max_features': 'log2', 'clf__max_depth': 20, 'clf__bootstrap': False}\n",
      "Average validation accuracy: 0.75\n",
      "Test accuracy: 0.875\n",
      "Pipeline_3...\n",
      "[('normalization', StandardScaler()), ('dim_reduce', PCA(n_components=0.9)), ('clf', KNeighborsClassifier())]\n",
      "\n",
      "Fitting 3 folds for each of 15 candidates, totalling 45 fits\n",
      "Best hyperparameters: {'clf__weights': 'uniform', 'clf__p': 2, 'clf__n_neighbors': 10, 'clf__algorithm': 'brute'}\n",
      "Average validation accuracy: 0.75\n",
      "Test accuracy: 1.0\n",
      "Pipeline_4...\n",
      "[('normalization', StandardScaler()), ('dim_reduce', FeatureAgglomeration(n_clusters=4)), ('clf', SVC())]\n",
      "\n",
      "Fitting 3 folds for each of 15 candidates, totalling 45 fits\n"
     ]
    },
    {
     "name": "stderr",
     "output_type": "stream",
     "text": [
      "C:\\Users\\61407\\anaconda3\\lib\\site-packages\\sklearn\\model_selection\\_search.py:952: UserWarning: One or more of the test scores are non-finite: [0.58333333 0.75       0.58333333        nan 0.58333333 0.58333333\n",
      " 0.58333333        nan 0.625             nan 0.58333333 0.625\n",
      " 0.58333333        nan 0.54166667]\n",
      "  warnings.warn(\n"
     ]
    },
    {
     "name": "stdout",
     "output_type": "stream",
     "text": [
      "Best hyperparameters: {'clf__kernel': 'poly', 'clf__gamma': 'scale', 'clf__degree': 3, 'clf__coef0': 1.0, 'clf__C': 100}\n",
      "Average validation accuracy: 0.625\n",
      "Test accuracy: 0.75\n",
      "Pipeline_5...\n",
      "[('normalization', StandardScaler()), ('dim_reduce', FeatureAgglomeration(n_clusters=4)), ('clf', RandomForestClassifier())]\n",
      "\n",
      "Fitting 3 folds for each of 15 candidates, totalling 45 fits\n",
      "Best hyperparameters: {'clf__n_estimators': 50, 'clf__min_samples_split': 2, 'clf__min_samples_leaf': 2, 'clf__max_features': None, 'clf__max_depth': 10, 'clf__bootstrap': True}\n",
      "Average validation accuracy: 0.708\n",
      "Test accuracy: 0.625\n",
      "Pipeline_6...\n",
      "[('normalization', StandardScaler()), ('dim_reduce', FeatureAgglomeration(n_clusters=4)), ('clf', KNeighborsClassifier())]\n",
      "\n",
      "Fitting 3 folds for each of 15 candidates, totalling 45 fits\n",
      "Best hyperparameters: {'clf__weights': 'uniform', 'clf__p': 1, 'clf__n_neighbors': 10, 'clf__algorithm': 'brute'}\n",
      "Average validation accuracy: 0.75\n",
      "Test accuracy: 1.0\n",
      "************************************************************************************************************************\n",
      "\n",
      "sub_82:\n",
      "************************************************************************************************************************\n",
      "partitioning...\n",
      "...complete!\n",
      "\n",
      "Pipeline_1...\n",
      "[('normalization', StandardScaler()), ('dim_reduce', PCA(n_components=0.9)), ('clf', SVC())]\n",
      "\n",
      "Fitting 3 folds for each of 15 candidates, totalling 45 fits\n"
     ]
    },
    {
     "name": "stderr",
     "output_type": "stream",
     "text": [
      "C:\\Users\\61407\\anaconda3\\lib\\site-packages\\sklearn\\model_selection\\_search.py:952: UserWarning: One or more of the test scores are non-finite: [0.58333333 0.66666667 0.5               nan 0.58333333 0.58333333\n",
      " 0.5               nan 0.625             nan 0.75       0.625\n",
      " 0.75              nan 0.45833333]\n",
      "  warnings.warn(\n"
     ]
    },
    {
     "name": "stdout",
     "output_type": "stream",
     "text": [
      "Best hyperparameters: {'clf__kernel': 'poly', 'clf__gamma': 'scale', 'clf__degree': 3, 'clf__coef0': 2.0, 'clf__C': 10}\n",
      "Average validation accuracy: 0.708\n",
      "Test accuracy: 0.875\n",
      "Pipeline_2...\n",
      "[('normalization', StandardScaler()), ('dim_reduce', PCA(n_components=0.9)), ('clf', RandomForestClassifier())]\n",
      "\n",
      "Fitting 3 folds for each of 15 candidates, totalling 45 fits\n",
      "Best hyperparameters: {'clf__n_estimators': 50, 'clf__min_samples_split': 2, 'clf__min_samples_leaf': 2, 'clf__max_features': None, 'clf__max_depth': 10, 'clf__bootstrap': True}\n",
      "Average validation accuracy: 0.792\n",
      "Test accuracy: 0.75\n",
      "Pipeline_3...\n",
      "[('normalization', StandardScaler()), ('dim_reduce', PCA(n_components=0.9)), ('clf', KNeighborsClassifier())]\n",
      "\n",
      "Fitting 3 folds for each of 15 candidates, totalling 45 fits\n",
      "Best hyperparameters: {'clf__weights': 'uniform', 'clf__p': 1, 'clf__n_neighbors': 5, 'clf__algorithm': 'brute'}\n",
      "Average validation accuracy: 0.708\n",
      "Test accuracy: 0.75\n",
      "Pipeline_4...\n",
      "[('normalization', StandardScaler()), ('dim_reduce', FeatureAgglomeration(n_clusters=4)), ('clf', SVC())]\n",
      "\n",
      "Fitting 3 folds for each of 15 candidates, totalling 45 fits\n"
     ]
    },
    {
     "name": "stderr",
     "output_type": "stream",
     "text": [
      "C:\\Users\\61407\\anaconda3\\lib\\site-packages\\sklearn\\model_selection\\_search.py:952: UserWarning: One or more of the test scores are non-finite: [0.70833333 0.625      0.70833333        nan 0.70833333 0.70833333\n",
      " 0.70833333        nan 0.625             nan 0.54166667 0.625\n",
      " 0.54166667        nan 0.625     ]\n",
      "  warnings.warn(\n"
     ]
    },
    {
     "name": "stdout",
     "output_type": "stream",
     "text": [
      "Best hyperparameters: {'clf__kernel': 'poly', 'clf__gamma': 0.1, 'clf__degree': 2, 'clf__coef0': 1.0, 'clf__C': 10}\n",
      "Average validation accuracy: 0.667\n",
      "Test accuracy: 0.625\n",
      "Pipeline_5...\n",
      "[('normalization', StandardScaler()), ('dim_reduce', FeatureAgglomeration(n_clusters=4)), ('clf', RandomForestClassifier())]\n",
      "\n",
      "Fitting 3 folds for each of 15 candidates, totalling 45 fits\n"
     ]
    },
    {
     "name": "stderr",
     "output_type": "stream",
     "text": [
      "C:\\Users\\61407\\anaconda3\\lib\\site-packages\\sklearn\\ensemble\\_forest.py:424: FutureWarning: `max_features='auto'` has been deprecated in 1.1 and will be removed in 1.3. To keep the past behaviour, explicitly set `max_features='sqrt'` or remove this parameter as it is also the default value for RandomForestClassifiers and ExtraTreesClassifiers.\n",
      "  warn(\n"
     ]
    },
    {
     "name": "stdout",
     "output_type": "stream",
     "text": [
      "Best hyperparameters: {'clf__n_estimators': 200, 'clf__min_samples_split': 5, 'clf__min_samples_leaf': 4, 'clf__max_features': 'auto', 'clf__max_depth': None, 'clf__bootstrap': True}\n",
      "Average validation accuracy: 0.583\n",
      "Test accuracy: 0.625\n",
      "Pipeline_6...\n",
      "[('normalization', StandardScaler()), ('dim_reduce', FeatureAgglomeration(n_clusters=4)), ('clf', KNeighborsClassifier())]\n",
      "\n",
      "Fitting 3 folds for each of 15 candidates, totalling 45 fits\n",
      "Best hyperparameters: {'clf__weights': 'uniform', 'clf__p': 1, 'clf__n_neighbors': 10, 'clf__algorithm': 'brute'}\n",
      "Average validation accuracy: 0.667\n",
      "Test accuracy: 0.625\n",
      "************************************************************************************************************************\n",
      "\n",
      "sub_83:\n",
      "************************************************************************************************************************\n",
      "partitioning...\n",
      "...complete!\n",
      "\n",
      "Pipeline_1...\n",
      "[('normalization', StandardScaler()), ('dim_reduce', PCA(n_components=0.9)), ('clf', SVC())]\n",
      "\n",
      "Fitting 3 folds for each of 15 candidates, totalling 45 fits\n"
     ]
    },
    {
     "name": "stderr",
     "output_type": "stream",
     "text": [
      "C:\\Users\\61407\\anaconda3\\lib\\site-packages\\sklearn\\model_selection\\_search.py:952: UserWarning: One or more of the test scores are non-finite: [0.45833333 0.54166667 0.45833333        nan 0.41666667 0.45833333\n",
      " 0.45833333        nan 0.625             nan 0.66666667 0.625\n",
      " 0.66666667        nan 0.54166667]\n",
      "  warnings.warn(\n"
     ]
    },
    {
     "name": "stdout",
     "output_type": "stream",
     "text": [
      "Best hyperparameters: {'clf__kernel': 'poly', 'clf__gamma': 0.1, 'clf__degree': 4, 'clf__coef0': 1.0, 'clf__C': 1}\n",
      "Average validation accuracy: 0.625\n",
      "Test accuracy: 0.5\n",
      "Pipeline_2...\n",
      "[('normalization', StandardScaler()), ('dim_reduce', PCA(n_components=0.9)), ('clf', RandomForestClassifier())]\n",
      "\n",
      "Fitting 3 folds for each of 15 candidates, totalling 45 fits\n",
      "Best hyperparameters: {'clf__n_estimators': 200, 'clf__min_samples_split': 10, 'clf__min_samples_leaf': 4, 'clf__max_features': 'sqrt', 'clf__max_depth': 10, 'clf__bootstrap': False}\n",
      "Average validation accuracy: 0.667\n",
      "Test accuracy: 0.375\n",
      "Pipeline_3...\n",
      "[('normalization', StandardScaler()), ('dim_reduce', PCA(n_components=0.9)), ('clf', KNeighborsClassifier())]\n",
      "\n",
      "Fitting 3 folds for each of 15 candidates, totalling 45 fits\n",
      "Best hyperparameters: {'clf__weights': 'uniform', 'clf__p': 1, 'clf__n_neighbors': 5, 'clf__algorithm': 'brute'}\n",
      "Average validation accuracy: 0.625\n",
      "Test accuracy: 0.375\n",
      "Pipeline_4...\n",
      "[('normalization', StandardScaler()), ('dim_reduce', FeatureAgglomeration(n_clusters=4)), ('clf', SVC())]\n",
      "\n",
      "Fitting 3 folds for each of 15 candidates, totalling 45 fits\n"
     ]
    },
    {
     "name": "stderr",
     "output_type": "stream",
     "text": [
      "C:\\Users\\61407\\anaconda3\\lib\\site-packages\\sklearn\\model_selection\\_search.py:952: UserWarning: One or more of the test scores are non-finite: [0.625      0.54166667 0.58333333        nan 0.58333333 0.625\n",
      " 0.58333333        nan 0.625             nan 0.54166667 0.625\n",
      " 0.54166667        nan 0.625     ]\n",
      "  warnings.warn(\n"
     ]
    },
    {
     "name": "stdout",
     "output_type": "stream",
     "text": [
      "Best hyperparameters: {'clf__kernel': 'poly', 'clf__gamma': 'auto', 'clf__degree': 4, 'clf__coef0': 0.0, 'clf__C': 100}\n",
      "Average validation accuracy: 0.708\n",
      "Test accuracy: 0.375\n",
      "Pipeline_5...\n",
      "[('normalization', StandardScaler()), ('dim_reduce', FeatureAgglomeration(n_clusters=4)), ('clf', RandomForestClassifier())]\n",
      "\n",
      "Fitting 3 folds for each of 15 candidates, totalling 45 fits\n",
      "Best hyperparameters: {'clf__n_estimators': 200, 'clf__min_samples_split': 5, 'clf__min_samples_leaf': 2, 'clf__max_features': None, 'clf__max_depth': 10, 'clf__bootstrap': False}\n",
      "Average validation accuracy: 0.583\n",
      "Test accuracy: 0.625\n",
      "Pipeline_6...\n",
      "[('normalization', StandardScaler()), ('dim_reduce', FeatureAgglomeration(n_clusters=4)), ('clf', KNeighborsClassifier())]\n",
      "\n",
      "Fitting 3 folds for each of 15 candidates, totalling 45 fits\n",
      "Best hyperparameters: {'clf__weights': 'distance', 'clf__p': 1, 'clf__n_neighbors': 10, 'clf__algorithm': 'ball_tree'}\n",
      "Average validation accuracy: 0.625\n",
      "Test accuracy: 0.25\n",
      "************************************************************************************************************************\n",
      "\n",
      "sub_84:\n",
      "************************************************************************************************************************\n",
      "partitioning...\n",
      "...complete!\n",
      "\n",
      "Pipeline_1...\n",
      "[('normalization', StandardScaler()), ('dim_reduce', PCA(n_components=0.9)), ('clf', SVC())]\n",
      "\n",
      "Fitting 3 folds for each of 15 candidates, totalling 45 fits\n"
     ]
    },
    {
     "name": "stderr",
     "output_type": "stream",
     "text": [
      "C:\\Users\\61407\\anaconda3\\lib\\site-packages\\sklearn\\model_selection\\_search.py:952: UserWarning: One or more of the test scores are non-finite: [0.54166667 0.54166667 0.58333333        nan 0.54166667 0.54166667\n",
      " 0.58333333        nan 0.625             nan 0.58333333 0.625\n",
      " 0.58333333        nan 0.58333333]\n",
      "  warnings.warn(\n"
     ]
    },
    {
     "name": "stdout",
     "output_type": "stream",
     "text": [
      "Best hyperparameters: {'clf__kernel': 'poly', 'clf__gamma': 0.1, 'clf__degree': 2, 'clf__coef0': 1.0, 'clf__C': 10}\n",
      "Average validation accuracy: 0.5\n",
      "Test accuracy: 0.625\n",
      "Pipeline_2...\n",
      "[('normalization', StandardScaler()), ('dim_reduce', PCA(n_components=0.9)), ('clf', RandomForestClassifier())]\n",
      "\n",
      "Fitting 3 folds for each of 15 candidates, totalling 45 fits\n",
      "Best hyperparameters: {'clf__n_estimators': 50, 'clf__min_samples_split': 10, 'clf__min_samples_leaf': 2, 'clf__max_features': 'log2', 'clf__max_depth': 30, 'clf__bootstrap': True}\n",
      "Average validation accuracy: 0.542\n",
      "Test accuracy: 0.875\n",
      "Pipeline_3...\n",
      "[('normalization', StandardScaler()), ('dim_reduce', PCA(n_components=0.9)), ('clf', KNeighborsClassifier())]\n",
      "\n",
      "Fitting 3 folds for each of 15 candidates, totalling 45 fits\n",
      "Best hyperparameters: {'clf__weights': 'distance', 'clf__p': 1, 'clf__n_neighbors': 10, 'clf__algorithm': 'ball_tree'}\n",
      "Average validation accuracy: 0.458\n",
      "Test accuracy: 1.0\n",
      "Pipeline_4...\n",
      "[('normalization', StandardScaler()), ('dim_reduce', FeatureAgglomeration(n_clusters=4)), ('clf', SVC())]\n",
      "\n",
      "Fitting 3 folds for each of 15 candidates, totalling 45 fits\n"
     ]
    },
    {
     "name": "stderr",
     "output_type": "stream",
     "text": [
      "C:\\Users\\61407\\anaconda3\\lib\\site-packages\\sklearn\\model_selection\\_search.py:952: UserWarning: One or more of the test scores are non-finite: [0.41666667 0.41666667 0.41666667        nan 0.41666667 0.41666667\n",
      " 0.41666667        nan 0.45833333        nan 0.45833333 0.45833333\n",
      " 0.45833333        nan 0.41666667]\n",
      "  warnings.warn(\n"
     ]
    },
    {
     "name": "stdout",
     "output_type": "stream",
     "text": [
      "Best hyperparameters: {'clf__kernel': 'poly', 'clf__gamma': 'scale', 'clf__degree': 3, 'clf__coef0': 1.0, 'clf__C': 100}\n",
      "Average validation accuracy: 0.458\n",
      "Test accuracy: 0.625\n",
      "Pipeline_5...\n",
      "[('normalization', StandardScaler()), ('dim_reduce', FeatureAgglomeration(n_clusters=4)), ('clf', RandomForestClassifier())]\n",
      "\n",
      "Fitting 3 folds for each of 15 candidates, totalling 45 fits\n",
      "Best hyperparameters: {'clf__n_estimators': 50, 'clf__min_samples_split': 2, 'clf__min_samples_leaf': 4, 'clf__max_features': 'log2', 'clf__max_depth': 20, 'clf__bootstrap': False}\n",
      "Average validation accuracy: 0.5\n",
      "Test accuracy: 0.75\n",
      "Pipeline_6...\n",
      "[('normalization', StandardScaler()), ('dim_reduce', FeatureAgglomeration(n_clusters=4)), ('clf', KNeighborsClassifier())]\n",
      "\n",
      "Fitting 3 folds for each of 15 candidates, totalling 45 fits\n"
     ]
    },
    {
     "name": "stderr",
     "output_type": "stream",
     "text": [
      "C:\\Users\\61407\\anaconda3\\lib\\site-packages\\sklearn\\model_selection\\_search.py:952: UserWarning: One or more of the test scores are non-finite: [0.41666667 0.41666667 0.45833333        nan 0.33333333 0.41666667\n",
      " 0.45833333        nan 0.33333333        nan 0.375      0.33333333\n",
      " 0.375             nan 0.45833333]\n",
      "  warnings.warn(\n"
     ]
    },
    {
     "name": "stdout",
     "output_type": "stream",
     "text": [
      "Best hyperparameters: {'clf__weights': 'uniform', 'clf__p': 1, 'clf__n_neighbors': 3, 'clf__algorithm': 'auto'}\n",
      "Average validation accuracy: 0.458\n",
      "Test accuracy: 1.0\n",
      "************************************************************************************************************************\n",
      "\n",
      "sub_85:\n",
      "************************************************************************************************************************\n",
      "partitioning...\n",
      "...complete!\n",
      "\n",
      "Pipeline_1...\n",
      "[('normalization', StandardScaler()), ('dim_reduce', PCA(n_components=0.9)), ('clf', SVC())]\n",
      "\n",
      "Fitting 3 folds for each of 15 candidates, totalling 45 fits\n",
      "Best hyperparameters: {'clf__kernel': 'sigmoid', 'clf__gamma': 'scale', 'clf__degree': 3, 'clf__coef0': 2.0, 'clf__C': 1}\n",
      "Average validation accuracy: 0.958\n",
      "Test accuracy: 0.875\n",
      "Pipeline_2...\n",
      "[('normalization', StandardScaler()), ('dim_reduce', PCA(n_components=0.9)), ('clf', RandomForestClassifier())]\n",
      "\n",
      "Fitting 3 folds for each of 15 candidates, totalling 45 fits\n",
      "Best hyperparameters: {'clf__n_estimators': 50, 'clf__min_samples_split': 2, 'clf__min_samples_leaf': 2, 'clf__max_features': None, 'clf__max_depth': 10, 'clf__bootstrap': True}\n",
      "Average validation accuracy: 0.875\n",
      "Test accuracy: 0.75\n",
      "Pipeline_3...\n",
      "[('normalization', StandardScaler()), ('dim_reduce', PCA(n_components=0.9)), ('clf', KNeighborsClassifier())]\n",
      "\n",
      "Fitting 3 folds for each of 15 candidates, totalling 45 fits\n",
      "Best hyperparameters: {'clf__weights': 'uniform', 'clf__p': 1, 'clf__n_neighbors': 10, 'clf__algorithm': 'brute'}\n",
      "Average validation accuracy: 0.917\n",
      "Test accuracy: 0.875\n",
      "Pipeline_4...\n",
      "[('normalization', StandardScaler()), ('dim_reduce', FeatureAgglomeration(n_clusters=4)), ('clf', SVC())]\n",
      "\n",
      "Fitting 3 folds for each of 15 candidates, totalling 45 fits\n"
     ]
    },
    {
     "name": "stderr",
     "output_type": "stream",
     "text": [
      "C:\\Users\\61407\\anaconda3\\lib\\site-packages\\sklearn\\model_selection\\_search.py:952: UserWarning: One or more of the test scores are non-finite: [0.875      0.875      0.83333333        nan 0.875      0.875\n",
      " 0.83333333        nan 0.83333333        nan 0.91666667 0.83333333\n",
      " 0.91666667        nan 0.83333333]\n",
      "  warnings.warn(\n"
     ]
    },
    {
     "name": "stdout",
     "output_type": "stream",
     "text": [
      "Best hyperparameters: {'clf__kernel': 'poly', 'clf__gamma': 'scale', 'clf__degree': 3, 'clf__coef0': 1.0, 'clf__C': 100}\n",
      "Average validation accuracy: 0.917\n",
      "Test accuracy: 0.875\n",
      "Pipeline_5...\n",
      "[('normalization', StandardScaler()), ('dim_reduce', FeatureAgglomeration(n_clusters=4)), ('clf', RandomForestClassifier())]\n",
      "\n",
      "Fitting 3 folds for each of 15 candidates, totalling 45 fits\n",
      "Best hyperparameters: {'clf__n_estimators': 50, 'clf__min_samples_split': 2, 'clf__min_samples_leaf': 2, 'clf__max_features': None, 'clf__max_depth': 10, 'clf__bootstrap': True}\n",
      "Average validation accuracy: 0.917\n",
      "Test accuracy: 0.875\n",
      "Pipeline_6...\n",
      "[('normalization', StandardScaler()), ('dim_reduce', FeatureAgglomeration(n_clusters=4)), ('clf', KNeighborsClassifier())]\n",
      "\n",
      "Fitting 3 folds for each of 15 candidates, totalling 45 fits\n",
      "Best hyperparameters: {'clf__weights': 'uniform', 'clf__p': 2, 'clf__n_neighbors': 10, 'clf__algorithm': 'brute'}\n",
      "Average validation accuracy: 0.875\n",
      "Test accuracy: 0.75\n",
      "************************************************************************************************************************\n",
      "\n",
      "sub_86:\n",
      "************************************************************************************************************************\n",
      "partitioning...\n",
      "...complete!\n",
      "\n",
      "Pipeline_1...\n",
      "[('normalization', StandardScaler()), ('dim_reduce', PCA(n_components=0.9)), ('clf', SVC())]\n",
      "\n",
      "Fitting 3 folds for each of 15 candidates, totalling 45 fits\n"
     ]
    },
    {
     "name": "stderr",
     "output_type": "stream",
     "text": [
      "C:\\Users\\61407\\anaconda3\\lib\\site-packages\\sklearn\\model_selection\\_search.py:952: UserWarning: One or more of the test scores are non-finite: [0.83333333 0.875      0.83333333        nan 0.83333333 0.83333333\n",
      " 0.83333333        nan 0.875             nan 0.875      0.875\n",
      " 0.875             nan 0.83333333]\n",
      "  warnings.warn(\n"
     ]
    },
    {
     "name": "stdout",
     "output_type": "stream",
     "text": [
      "Best hyperparameters: {'clf__kernel': 'sigmoid', 'clf__gamma': 1, 'clf__degree': 2, 'clf__coef0': 0.0, 'clf__C': 100}\n",
      "Average validation accuracy: 0.625\n",
      "Test accuracy: 0.375\n",
      "Pipeline_2...\n",
      "[('normalization', StandardScaler()), ('dim_reduce', PCA(n_components=0.9)), ('clf', RandomForestClassifier())]\n",
      "\n",
      "Fitting 3 folds for each of 15 candidates, totalling 45 fits\n",
      "Best hyperparameters: {'clf__n_estimators': 50, 'clf__min_samples_split': 2, 'clf__min_samples_leaf': 2, 'clf__max_features': None, 'clf__max_depth': 10, 'clf__bootstrap': True}\n",
      "Average validation accuracy: 0.458\n",
      "Test accuracy: 0.875\n",
      "Pipeline_3...\n",
      "[('normalization', StandardScaler()), ('dim_reduce', PCA(n_components=0.9)), ('clf', KNeighborsClassifier())]\n",
      "\n",
      "Fitting 3 folds for each of 15 candidates, totalling 45 fits\n",
      "Best hyperparameters: {'clf__weights': 'uniform', 'clf__p': 1, 'clf__n_neighbors': 5, 'clf__algorithm': 'brute'}\n",
      "Average validation accuracy: 0.5\n",
      "Test accuracy: 1.0\n",
      "Pipeline_4...\n",
      "[('normalization', StandardScaler()), ('dim_reduce', FeatureAgglomeration(n_clusters=4)), ('clf', SVC())]\n",
      "\n",
      "Fitting 3 folds for each of 15 candidates, totalling 45 fits\n"
     ]
    },
    {
     "name": "stderr",
     "output_type": "stream",
     "text": [
      "C:\\Users\\61407\\anaconda3\\lib\\site-packages\\sklearn\\model_selection\\_search.py:952: UserWarning: One or more of the test scores are non-finite: [0.5        0.45833333 0.33333333        nan 0.45833333 0.5\n",
      " 0.33333333        nan 0.45833333        nan 0.45833333 0.45833333\n",
      " 0.45833333        nan 0.33333333]\n",
      "  warnings.warn(\n"
     ]
    },
    {
     "name": "stdout",
     "output_type": "stream",
     "text": [
      "Best hyperparameters: {'clf__kernel': 'poly', 'clf__gamma': 'auto', 'clf__degree': 2, 'clf__coef0': 2.0, 'clf__C': 100}\n",
      "Average validation accuracy: 0.667\n",
      "Test accuracy: 0.5\n",
      "Pipeline_5...\n",
      "[('normalization', StandardScaler()), ('dim_reduce', FeatureAgglomeration(n_clusters=4)), ('clf', RandomForestClassifier())]\n",
      "\n",
      "Fitting 3 folds for each of 15 candidates, totalling 45 fits\n",
      "Best hyperparameters: {'clf__n_estimators': 200, 'clf__min_samples_split': 10, 'clf__min_samples_leaf': 4, 'clf__max_features': 'sqrt', 'clf__max_depth': None, 'clf__bootstrap': False}\n",
      "Average validation accuracy: 0.583\n",
      "Test accuracy: 0.375\n",
      "Pipeline_6...\n",
      "[('normalization', StandardScaler()), ('dim_reduce', FeatureAgglomeration(n_clusters=4)), ('clf', KNeighborsClassifier())]\n",
      "\n",
      "Fitting 3 folds for each of 15 candidates, totalling 45 fits\n",
      "Best hyperparameters: {'clf__weights': 'uniform', 'clf__p': 2, 'clf__n_neighbors': 10, 'clf__algorithm': 'brute'}\n",
      "Average validation accuracy: 0.5\n",
      "Test accuracy: 0.5\n",
      "************************************************************************************************************************\n",
      "\n",
      "sub_91:\n",
      "************************************************************************************************************************\n",
      "partitioning...\n",
      "...complete!\n",
      "\n",
      "Pipeline_1...\n",
      "[('normalization', StandardScaler()), ('dim_reduce', PCA(n_components=0.9)), ('clf', SVC())]\n",
      "\n",
      "Fitting 3 folds for each of 15 candidates, totalling 45 fits\n"
     ]
    },
    {
     "name": "stderr",
     "output_type": "stream",
     "text": [
      "C:\\Users\\61407\\anaconda3\\lib\\site-packages\\sklearn\\model_selection\\_search.py:952: UserWarning: One or more of the test scores are non-finite: [0.41666667 0.5        0.375             nan 0.41666667 0.41666667\n",
      " 0.375             nan 0.45833333        nan 0.45833333 0.45833333\n",
      " 0.45833333        nan 0.41666667]\n",
      "  warnings.warn(\n"
     ]
    },
    {
     "name": "stdout",
     "output_type": "stream",
     "text": [
      "Best hyperparameters: {'clf__kernel': 'poly', 'clf__gamma': 'auto', 'clf__degree': 4, 'clf__coef0': 0.0, 'clf__C': 100}\n",
      "Average validation accuracy: 0.667\n",
      "Test accuracy: 0.75\n",
      "Pipeline_2...\n",
      "[('normalization', StandardScaler()), ('dim_reduce', PCA(n_components=0.9)), ('clf', RandomForestClassifier())]\n",
      "\n",
      "Fitting 3 folds for each of 15 candidates, totalling 45 fits\n",
      "Best hyperparameters: {'clf__n_estimators': 50, 'clf__min_samples_split': 2, 'clf__min_samples_leaf': 2, 'clf__max_features': None, 'clf__max_depth': 10, 'clf__bootstrap': True}\n",
      "Average validation accuracy: 0.458\n",
      "Test accuracy: 0.375\n",
      "Pipeline_3...\n",
      "[('normalization', StandardScaler()), ('dim_reduce', PCA(n_components=0.9)), ('clf', KNeighborsClassifier())]\n",
      "\n",
      "Fitting 3 folds for each of 15 candidates, totalling 45 fits\n",
      "Best hyperparameters: {'clf__weights': 'uniform', 'clf__p': 1, 'clf__n_neighbors': 3, 'clf__algorithm': 'auto'}\n",
      "Average validation accuracy: 0.417\n",
      "Test accuracy: 0.25\n",
      "Pipeline_4...\n",
      "[('normalization', StandardScaler()), ('dim_reduce', FeatureAgglomeration(n_clusters=4)), ('clf', SVC())]\n",
      "\n",
      "Fitting 3 folds for each of 15 candidates, totalling 45 fits\n"
     ]
    },
    {
     "name": "stderr",
     "output_type": "stream",
     "text": [
      "C:\\Users\\61407\\anaconda3\\lib\\site-packages\\sklearn\\model_selection\\_search.py:952: UserWarning: One or more of the test scores are non-finite: [0.33333333 0.25       0.41666667        nan 0.33333333 0.33333333\n",
      " 0.41666667        nan 0.29166667        nan 0.20833333 0.29166667\n",
      " 0.20833333        nan 0.41666667]\n",
      "  warnings.warn(\n"
     ]
    },
    {
     "name": "stdout",
     "output_type": "stream",
     "text": [
      "Best hyperparameters: {'clf__kernel': 'poly', 'clf__gamma': 'auto', 'clf__degree': 4, 'clf__coef0': 0.0, 'clf__C': 100}\n",
      "Average validation accuracy: 0.542\n",
      "Test accuracy: 0.25\n",
      "Pipeline_5...\n",
      "[('normalization', StandardScaler()), ('dim_reduce', FeatureAgglomeration(n_clusters=4)), ('clf', RandomForestClassifier())]\n",
      "\n",
      "Fitting 3 folds for each of 15 candidates, totalling 45 fits\n",
      "Best hyperparameters: {'clf__n_estimators': 100, 'clf__min_samples_split': 10, 'clf__min_samples_leaf': 1, 'clf__max_features': 'sqrt', 'clf__max_depth': 20, 'clf__bootstrap': False}\n",
      "Average validation accuracy: 0.417\n",
      "Test accuracy: 0.375\n",
      "Pipeline_6...\n",
      "[('normalization', StandardScaler()), ('dim_reduce', FeatureAgglomeration(n_clusters=4)), ('clf', KNeighborsClassifier())]\n",
      "\n",
      "Fitting 3 folds for each of 15 candidates, totalling 45 fits\n",
      "Best hyperparameters: {'clf__weights': 'uniform', 'clf__p': 1, 'clf__n_neighbors': 3, 'clf__algorithm': 'auto'}\n",
      "Average validation accuracy: 0.417\n",
      "Test accuracy: 0.375\n",
      "************************************************************************************************************************\n",
      "\n",
      "sub_92:\n",
      "************************************************************************************************************************\n",
      "partitioning...\n",
      "...complete!\n",
      "\n",
      "Pipeline_1...\n",
      "[('normalization', StandardScaler()), ('dim_reduce', PCA(n_components=0.9)), ('clf', SVC())]\n",
      "\n",
      "Fitting 3 folds for each of 15 candidates, totalling 45 fits\n"
     ]
    },
    {
     "name": "stderr",
     "output_type": "stream",
     "text": [
      "C:\\Users\\61407\\anaconda3\\lib\\site-packages\\sklearn\\model_selection\\_search.py:952: UserWarning: One or more of the test scores are non-finite: [0.29166667 0.20833333 0.41666667        nan 0.33333333 0.29166667\n",
      " 0.41666667        nan 0.16666667        nan 0.33333333 0.16666667\n",
      " 0.33333333        nan 0.41666667]\n",
      "  warnings.warn(\n"
     ]
    },
    {
     "name": "stdout",
     "output_type": "stream",
     "text": [
      "Best hyperparameters: {'clf__kernel': 'poly', 'clf__gamma': 0.1, 'clf__degree': 4, 'clf__coef0': 1.0, 'clf__C': 1}\n",
      "Average validation accuracy: 0.542\n",
      "Test accuracy: 0.75\n",
      "Pipeline_2...\n",
      "[('normalization', StandardScaler()), ('dim_reduce', PCA(n_components=0.9)), ('clf', RandomForestClassifier())]\n",
      "\n",
      "Fitting 3 folds for each of 15 candidates, totalling 45 fits\n"
     ]
    },
    {
     "name": "stderr",
     "output_type": "stream",
     "text": [
      "C:\\Users\\61407\\anaconda3\\lib\\site-packages\\sklearn\\ensemble\\_forest.py:424: FutureWarning: `max_features='auto'` has been deprecated in 1.1 and will be removed in 1.3. To keep the past behaviour, explicitly set `max_features='sqrt'` or remove this parameter as it is also the default value for RandomForestClassifiers and ExtraTreesClassifiers.\n",
      "  warn(\n"
     ]
    },
    {
     "name": "stdout",
     "output_type": "stream",
     "text": [
      "Best hyperparameters: {'clf__n_estimators': 200, 'clf__min_samples_split': 5, 'clf__min_samples_leaf': 4, 'clf__max_features': 'auto', 'clf__max_depth': None, 'clf__bootstrap': True}\n",
      "Average validation accuracy: 0.667\n",
      "Test accuracy: 0.875\n",
      "Pipeline_3...\n",
      "[('normalization', StandardScaler()), ('dim_reduce', PCA(n_components=0.9)), ('clf', KNeighborsClassifier())]\n",
      "\n",
      "Fitting 3 folds for each of 15 candidates, totalling 45 fits\n",
      "Best hyperparameters: {'clf__weights': 'uniform', 'clf__p': 1, 'clf__n_neighbors': 10, 'clf__algorithm': 'brute'}\n",
      "Average validation accuracy: 0.625\n",
      "Test accuracy: 0.75\n",
      "Pipeline_4...\n",
      "[('normalization', StandardScaler()), ('dim_reduce', FeatureAgglomeration(n_clusters=4)), ('clf', SVC())]\n",
      "\n",
      "Fitting 3 folds for each of 15 candidates, totalling 45 fits\n"
     ]
    },
    {
     "name": "stderr",
     "output_type": "stream",
     "text": [
      "C:\\Users\\61407\\anaconda3\\lib\\site-packages\\sklearn\\model_selection\\_search.py:952: UserWarning: One or more of the test scores are non-finite: [0.45833333 0.58333333 0.58333333        nan 0.45833333 0.45833333\n",
      " 0.58333333        nan 0.58333333        nan 0.625      0.58333333\n",
      " 0.625             nan 0.41666667]\n",
      "  warnings.warn(\n"
     ]
    },
    {
     "name": "stdout",
     "output_type": "stream",
     "text": [
      "Best hyperparameters: {'clf__kernel': 'sigmoid', 'clf__gamma': 1, 'clf__degree': 2, 'clf__coef0': 0.0, 'clf__C': 100}\n",
      "Average validation accuracy: 0.792\n",
      "Test accuracy: 0.75\n",
      "Pipeline_5...\n",
      "[('normalization', StandardScaler()), ('dim_reduce', FeatureAgglomeration(n_clusters=4)), ('clf', RandomForestClassifier())]\n",
      "\n",
      "Fitting 3 folds for each of 15 candidates, totalling 45 fits\n",
      "Best hyperparameters: {'clf__n_estimators': 50, 'clf__min_samples_split': 2, 'clf__min_samples_leaf': 4, 'clf__max_features': 'log2', 'clf__max_depth': 20, 'clf__bootstrap': False}\n",
      "Average validation accuracy: 0.667\n",
      "Test accuracy: 0.5\n",
      "Pipeline_6...\n",
      "[('normalization', StandardScaler()), ('dim_reduce', FeatureAgglomeration(n_clusters=4)), ('clf', KNeighborsClassifier())]\n",
      "\n",
      "Fitting 3 folds for each of 15 candidates, totalling 45 fits\n",
      "Best hyperparameters: {'clf__weights': 'uniform', 'clf__p': 2, 'clf__n_neighbors': 10, 'clf__algorithm': 'brute'}\n",
      "Average validation accuracy: 0.583\n",
      "Test accuracy: 0.625\n",
      "************************************************************************************************************************\n",
      "\n",
      "sub_93:\n",
      "************************************************************************************************************************\n",
      "partitioning...\n",
      "...complete!\n",
      "\n",
      "Pipeline_1...\n",
      "[('normalization', StandardScaler()), ('dim_reduce', PCA(n_components=0.9)), ('clf', SVC())]\n",
      "\n",
      "Fitting 3 folds for each of 15 candidates, totalling 45 fits\n"
     ]
    },
    {
     "name": "stderr",
     "output_type": "stream",
     "text": [
      "C:\\Users\\61407\\anaconda3\\lib\\site-packages\\sklearn\\model_selection\\_search.py:952: UserWarning: One or more of the test scores are non-finite: [0.54166667 0.58333333 0.54166667        nan 0.54166667 0.54166667\n",
      " 0.54166667        nan 0.41666667        nan 0.58333333 0.41666667\n",
      " 0.58333333        nan 0.54166667]\n",
      "  warnings.warn(\n"
     ]
    },
    {
     "name": "stdout",
     "output_type": "stream",
     "text": [
      "Best hyperparameters: {'clf__kernel': 'poly', 'clf__gamma': 'auto', 'clf__degree': 4, 'clf__coef0': 0.0, 'clf__C': 100}\n",
      "Average validation accuracy: 0.542\n",
      "Test accuracy: 0.125\n",
      "Pipeline_2...\n",
      "[('normalization', StandardScaler()), ('dim_reduce', PCA(n_components=0.9)), ('clf', RandomForestClassifier())]\n",
      "\n",
      "Fitting 3 folds for each of 15 candidates, totalling 45 fits\n",
      "Best hyperparameters: {'clf__n_estimators': 100, 'clf__min_samples_split': 10, 'clf__min_samples_leaf': 1, 'clf__max_features': 'sqrt', 'clf__max_depth': 20, 'clf__bootstrap': False}\n",
      "Average validation accuracy: 0.458\n",
      "Test accuracy: 0.75\n",
      "Pipeline_3...\n",
      "[('normalization', StandardScaler()), ('dim_reduce', PCA(n_components=0.9)), ('clf', KNeighborsClassifier())]\n",
      "\n",
      "Fitting 3 folds for each of 15 candidates, totalling 45 fits\n",
      "Best hyperparameters: {'clf__weights': 'uniform', 'clf__p': 1, 'clf__n_neighbors': 5, 'clf__algorithm': 'brute'}\n",
      "Average validation accuracy: 0.542\n",
      "Test accuracy: 0.625\n",
      "Pipeline_4...\n",
      "[('normalization', StandardScaler()), ('dim_reduce', FeatureAgglomeration(n_clusters=4)), ('clf', SVC())]\n",
      "\n",
      "Fitting 3 folds for each of 15 candidates, totalling 45 fits\n"
     ]
    },
    {
     "name": "stderr",
     "output_type": "stream",
     "text": [
      "C:\\Users\\61407\\anaconda3\\lib\\site-packages\\sklearn\\model_selection\\_search.py:952: UserWarning: One or more of the test scores are non-finite: [0.54166667 0.5        0.41666667        nan 0.45833333 0.54166667\n",
      " 0.41666667        nan 0.5               nan 0.54166667 0.5\n",
      " 0.54166667        nan 0.45833333]\n",
      "  warnings.warn(\n"
     ]
    },
    {
     "name": "stdout",
     "output_type": "stream",
     "text": [
      "Best hyperparameters: {'clf__kernel': 'sigmoid', 'clf__gamma': 1, 'clf__degree': 2, 'clf__coef0': 0.0, 'clf__C': 100}\n",
      "Average validation accuracy: 0.5\n",
      "Test accuracy: 0.5\n",
      "Pipeline_5...\n",
      "[('normalization', StandardScaler()), ('dim_reduce', FeatureAgglomeration(n_clusters=4)), ('clf', RandomForestClassifier())]\n",
      "\n",
      "Fitting 3 folds for each of 15 candidates, totalling 45 fits\n",
      "Best hyperparameters: {'clf__n_estimators': 50, 'clf__min_samples_split': 2, 'clf__min_samples_leaf': 4, 'clf__max_features': 'log2', 'clf__max_depth': 20, 'clf__bootstrap': False}\n",
      "Average validation accuracy: 0.375\n",
      "Test accuracy: 0.375\n",
      "Pipeline_6...\n",
      "[('normalization', StandardScaler()), ('dim_reduce', FeatureAgglomeration(n_clusters=4)), ('clf', KNeighborsClassifier())]\n",
      "\n",
      "Fitting 3 folds for each of 15 candidates, totalling 45 fits\n",
      "Best hyperparameters: {'clf__weights': 'uniform', 'clf__p': 1, 'clf__n_neighbors': 3, 'clf__algorithm': 'auto'}\n",
      "Average validation accuracy: 0.5\n",
      "Test accuracy: 0.25\n",
      "************************************************************************************************************************\n",
      "\n",
      "sub_94:\n",
      "************************************************************************************************************************\n",
      "partitioning...\n",
      "...complete!\n",
      "\n",
      "Pipeline_1...\n",
      "[('normalization', StandardScaler()), ('dim_reduce', PCA(n_components=0.9)), ('clf', SVC())]\n",
      "\n",
      "Fitting 3 folds for each of 15 candidates, totalling 45 fits\n"
     ]
    },
    {
     "name": "stderr",
     "output_type": "stream",
     "text": [
      "C:\\Users\\61407\\anaconda3\\lib\\site-packages\\sklearn\\model_selection\\_search.py:952: UserWarning: One or more of the test scores are non-finite: [0.33333333 0.20833333 0.5               nan 0.375      0.33333333\n",
      " 0.5               nan 0.41666667        nan 0.33333333 0.41666667\n",
      " 0.33333333        nan 0.29166667]\n",
      "  warnings.warn(\n"
     ]
    },
    {
     "name": "stdout",
     "output_type": "stream",
     "text": [
      "Best hyperparameters: {'clf__kernel': 'poly', 'clf__gamma': 0.1, 'clf__degree': 2, 'clf__coef0': 1.0, 'clf__C': 10}\n",
      "Average validation accuracy: 0.667\n",
      "Test accuracy: 0.5\n",
      "Pipeline_2...\n",
      "[('normalization', StandardScaler()), ('dim_reduce', PCA(n_components=0.9)), ('clf', RandomForestClassifier())]\n",
      "\n",
      "Fitting 3 folds for each of 15 candidates, totalling 45 fits\n",
      "Best hyperparameters: {'clf__n_estimators': 50, 'clf__min_samples_split': 5, 'clf__min_samples_leaf': 2, 'clf__max_features': None, 'clf__max_depth': 20, 'clf__bootstrap': True}\n",
      "Average validation accuracy: 0.542\n",
      "Test accuracy: 0.5\n",
      "Pipeline_3...\n",
      "[('normalization', StandardScaler()), ('dim_reduce', PCA(n_components=0.9)), ('clf', KNeighborsClassifier())]\n",
      "\n",
      "Fitting 3 folds for each of 15 candidates, totalling 45 fits\n",
      "Best hyperparameters: {'clf__weights': 'uniform', 'clf__p': 2, 'clf__n_neighbors': 10, 'clf__algorithm': 'brute'}\n",
      "Average validation accuracy: 0.542\n",
      "Test accuracy: 0.5\n",
      "Pipeline_4...\n",
      "[('normalization', StandardScaler()), ('dim_reduce', FeatureAgglomeration(n_clusters=4)), ('clf', SVC())]\n",
      "\n",
      "Fitting 3 folds for each of 15 candidates, totalling 45 fits\n"
     ]
    },
    {
     "name": "stderr",
     "output_type": "stream",
     "text": [
      "C:\\Users\\61407\\anaconda3\\lib\\site-packages\\sklearn\\model_selection\\_search.py:952: UserWarning: One or more of the test scores are non-finite: [0.45833333 0.54166667 0.5               nan 0.45833333 0.45833333\n",
      " 0.5               nan 0.5               nan 0.41666667 0.5\n",
      " 0.41666667        nan 0.45833333]\n",
      "  warnings.warn(\n"
     ]
    },
    {
     "name": "stdout",
     "output_type": "stream",
     "text": [
      "Best hyperparameters: {'clf__kernel': 'poly', 'clf__gamma': 'scale', 'clf__degree': 3, 'clf__coef0': 1.0, 'clf__C': 100}\n",
      "Average validation accuracy: 0.708\n",
      "Test accuracy: 0.625\n",
      "Pipeline_5...\n",
      "[('normalization', StandardScaler()), ('dim_reduce', FeatureAgglomeration(n_clusters=4)), ('clf', RandomForestClassifier())]\n",
      "\n",
      "Fitting 3 folds for each of 15 candidates, totalling 45 fits\n",
      "Best hyperparameters: {'clf__n_estimators': 100, 'clf__min_samples_split': 5, 'clf__min_samples_leaf': 1, 'clf__max_features': None, 'clf__max_depth': 10, 'clf__bootstrap': False}\n",
      "Average validation accuracy: 0.542\n",
      "Test accuracy: 0.5\n",
      "Pipeline_6...\n",
      "[('normalization', StandardScaler()), ('dim_reduce', FeatureAgglomeration(n_clusters=4)), ('clf', KNeighborsClassifier())]\n",
      "\n",
      "Fitting 3 folds for each of 15 candidates, totalling 45 fits\n",
      "Best hyperparameters: {'clf__weights': 'uniform', 'clf__p': 2, 'clf__n_neighbors': 3, 'clf__algorithm': 'kd_tree'}\n",
      "Average validation accuracy: 0.583\n",
      "Test accuracy: 0.5\n",
      "************************************************************************************************************************\n",
      "\n",
      "sub_95:\n",
      "************************************************************************************************************************\n",
      "partitioning...\n",
      "...complete!\n",
      "\n",
      "Pipeline_1...\n",
      "[('normalization', StandardScaler()), ('dim_reduce', PCA(n_components=0.9)), ('clf', SVC())]\n",
      "\n",
      "Fitting 3 folds for each of 15 candidates, totalling 45 fits\n"
     ]
    },
    {
     "name": "stderr",
     "output_type": "stream",
     "text": [
      "C:\\Users\\61407\\anaconda3\\lib\\site-packages\\sklearn\\model_selection\\_search.py:952: UserWarning: One or more of the test scores are non-finite: [0.5        0.45833333 0.54166667        nan 0.5        0.5\n",
      " 0.54166667        nan 0.54166667        nan 0.45833333 0.54166667\n",
      " 0.45833333        nan 0.58333333]\n",
      "  warnings.warn(\n"
     ]
    },
    {
     "name": "stdout",
     "output_type": "stream",
     "text": [
      "Best hyperparameters: {'clf__kernel': 'poly', 'clf__gamma': 0.1, 'clf__degree': 4, 'clf__coef0': 1.0, 'clf__C': 1}\n",
      "Average validation accuracy: 0.792\n",
      "Test accuracy: 0.625\n",
      "Pipeline_2...\n",
      "[('normalization', StandardScaler()), ('dim_reduce', PCA(n_components=0.9)), ('clf', RandomForestClassifier())]\n",
      "\n",
      "Fitting 3 folds for each of 15 candidates, totalling 45 fits\n",
      "Best hyperparameters: {'clf__n_estimators': 50, 'clf__min_samples_split': 2, 'clf__min_samples_leaf': 2, 'clf__max_features': None, 'clf__max_depth': 10, 'clf__bootstrap': True}\n",
      "Average validation accuracy: 0.667\n",
      "Test accuracy: 1.0\n",
      "Pipeline_3...\n",
      "[('normalization', StandardScaler()), ('dim_reduce', PCA(n_components=0.9)), ('clf', KNeighborsClassifier())]\n",
      "\n",
      "Fitting 3 folds for each of 15 candidates, totalling 45 fits\n",
      "Best hyperparameters: {'clf__weights': 'uniform', 'clf__p': 1, 'clf__n_neighbors': 5, 'clf__algorithm': 'brute'}\n",
      "Average validation accuracy: 0.792\n",
      "Test accuracy: 0.75\n",
      "Pipeline_4...\n",
      "[('normalization', StandardScaler()), ('dim_reduce', FeatureAgglomeration(n_clusters=4)), ('clf', SVC())]\n",
      "\n",
      "Fitting 3 folds for each of 15 candidates, totalling 45 fits\n"
     ]
    },
    {
     "name": "stderr",
     "output_type": "stream",
     "text": [
      "C:\\Users\\61407\\anaconda3\\lib\\site-packages\\sklearn\\model_selection\\_search.py:952: UserWarning: One or more of the test scores are non-finite: [0.79166667 0.625      0.75              nan 0.79166667 0.79166667\n",
      " 0.75              nan 0.66666667        nan 0.58333333 0.66666667\n",
      " 0.58333333        nan 0.66666667]\n",
      "  warnings.warn(\n"
     ]
    },
    {
     "name": "stdout",
     "output_type": "stream",
     "text": [
      "Best hyperparameters: {'clf__kernel': 'linear', 'clf__gamma': 'scale', 'clf__degree': 3, 'clf__coef0': 2.0, 'clf__C': 10}\n",
      "Average validation accuracy: 0.833\n",
      "Test accuracy: 0.625\n",
      "Pipeline_5...\n",
      "[('normalization', StandardScaler()), ('dim_reduce', FeatureAgglomeration(n_clusters=4)), ('clf', RandomForestClassifier())]\n",
      "\n",
      "Fitting 3 folds for each of 15 candidates, totalling 45 fits\n",
      "Best hyperparameters: {'clf__n_estimators': 50, 'clf__min_samples_split': 2, 'clf__min_samples_leaf': 4, 'clf__max_features': 'log2', 'clf__max_depth': 20, 'clf__bootstrap': False}\n",
      "Average validation accuracy: 0.625\n",
      "Test accuracy: 0.625\n",
      "Pipeline_6...\n",
      "[('normalization', StandardScaler()), ('dim_reduce', FeatureAgglomeration(n_clusters=4)), ('clf', KNeighborsClassifier())]\n",
      "\n",
      "Fitting 3 folds for each of 15 candidates, totalling 45 fits\n"
     ]
    },
    {
     "name": "stderr",
     "output_type": "stream",
     "text": [
      "C:\\Users\\61407\\anaconda3\\lib\\site-packages\\sklearn\\model_selection\\_search.py:952: UserWarning: One or more of the test scores are non-finite: [0.75       0.70833333 0.625             nan 0.70833333 0.75\n",
      " 0.625             nan 0.70833333        nan 0.75       0.70833333\n",
      " 0.75              nan 0.66666667]\n",
      "  warnings.warn(\n"
     ]
    },
    {
     "name": "stdout",
     "output_type": "stream",
     "text": [
      "Best hyperparameters: {'clf__weights': 'uniform', 'clf__p': 1, 'clf__n_neighbors': 5, 'clf__algorithm': 'brute'}\n",
      "Average validation accuracy: 0.75\n",
      "Test accuracy: 0.875\n",
      "************************************************************************************************************************\n",
      "\n",
      "sub_97:\n",
      "************************************************************************************************************************\n",
      "partitioning...\n",
      "...complete!\n",
      "\n",
      "Pipeline_1...\n",
      "[('normalization', StandardScaler()), ('dim_reduce', PCA(n_components=0.9)), ('clf', SVC())]\n",
      "\n",
      "Fitting 3 folds for each of 15 candidates, totalling 45 fits\n",
      "Best hyperparameters: {'clf__kernel': 'poly', 'clf__gamma': 'scale', 'clf__degree': 4, 'clf__coef0': 1.0, 'clf__C': 0.1}\n",
      "Average validation accuracy: 0.583\n",
      "Test accuracy: 0.5\n",
      "Pipeline_2...\n",
      "[('normalization', StandardScaler()), ('dim_reduce', PCA(n_components=0.9)), ('clf', RandomForestClassifier())]\n",
      "\n",
      "Fitting 3 folds for each of 15 candidates, totalling 45 fits\n",
      "Best hyperparameters: {'clf__n_estimators': 50, 'clf__min_samples_split': 2, 'clf__min_samples_leaf': 4, 'clf__max_features': 'log2', 'clf__max_depth': 20, 'clf__bootstrap': False}\n",
      "Average validation accuracy: 0.583\n",
      "Test accuracy: 0.875\n",
      "Pipeline_3...\n",
      "[('normalization', StandardScaler()), ('dim_reduce', PCA(n_components=0.9)), ('clf', KNeighborsClassifier())]\n",
      "\n",
      "Fitting 3 folds for each of 15 candidates, totalling 45 fits\n"
     ]
    },
    {
     "name": "stderr",
     "output_type": "stream",
     "text": [
      "C:\\Users\\61407\\anaconda3\\lib\\site-packages\\sklearn\\model_selection\\_search.py:952: UserWarning: One or more of the test scores are non-finite: [0.375      0.45833333 0.54166667        nan 0.375      0.375\n",
      " 0.54166667        nan 0.54166667        nan 0.625      0.54166667\n",
      " 0.625             nan 0.54166667]\n",
      "  warnings.warn(\n"
     ]
    },
    {
     "name": "stdout",
     "output_type": "stream",
     "text": [
      "Best hyperparameters: {'clf__weights': 'uniform', 'clf__p': 1, 'clf__n_neighbors': 10, 'clf__algorithm': 'brute'}\n",
      "Average validation accuracy: 0.625\n",
      "Test accuracy: 0.75\n",
      "Pipeline_4...\n",
      "[('normalization', StandardScaler()), ('dim_reduce', FeatureAgglomeration(n_clusters=4)), ('clf', SVC())]\n",
      "\n",
      "Fitting 3 folds for each of 15 candidates, totalling 45 fits\n",
      "Best hyperparameters: {'clf__kernel': 'sigmoid', 'clf__gamma': 1, 'clf__degree': 2, 'clf__coef0': 0.0, 'clf__C': 100}\n",
      "Average validation accuracy: 0.625\n",
      "Test accuracy: 0.625\n",
      "Pipeline_5...\n",
      "[('normalization', StandardScaler()), ('dim_reduce', FeatureAgglomeration(n_clusters=4)), ('clf', RandomForestClassifier())]\n",
      "\n",
      "Fitting 3 folds for each of 15 candidates, totalling 45 fits\n"
     ]
    },
    {
     "name": "stderr",
     "output_type": "stream",
     "text": [
      "C:\\Users\\61407\\anaconda3\\lib\\site-packages\\sklearn\\ensemble\\_forest.py:424: FutureWarning: `max_features='auto'` has been deprecated in 1.1 and will be removed in 1.3. To keep the past behaviour, explicitly set `max_features='sqrt'` or remove this parameter as it is also the default value for RandomForestClassifiers and ExtraTreesClassifiers.\n",
      "  warn(\n"
     ]
    },
    {
     "name": "stdout",
     "output_type": "stream",
     "text": [
      "Best hyperparameters: {'clf__n_estimators': 200, 'clf__min_samples_split': 5, 'clf__min_samples_leaf': 4, 'clf__max_features': 'auto', 'clf__max_depth': None, 'clf__bootstrap': True}\n",
      "Average validation accuracy: 0.458\n",
      "Test accuracy: 0.625\n",
      "Pipeline_6...\n",
      "[('normalization', StandardScaler()), ('dim_reduce', FeatureAgglomeration(n_clusters=4)), ('clf', KNeighborsClassifier())]\n",
      "\n",
      "Fitting 3 folds for each of 15 candidates, totalling 45 fits\n",
      "Best hyperparameters: {'clf__weights': 'uniform', 'clf__p': 2, 'clf__n_neighbors': 10, 'clf__algorithm': 'brute'}\n",
      "Average validation accuracy: 0.625\n",
      "Test accuracy: 0.875\n",
      "************************************************************************************************************************\n",
      "\n"
     ]
    },
    {
     "name": "stderr",
     "output_type": "stream",
     "text": [
      "C:\\Users\\61407\\anaconda3\\lib\\site-packages\\sklearn\\model_selection\\_search.py:952: UserWarning: One or more of the test scores are non-finite: [0.54166667 0.625      0.58333333        nan 0.54166667 0.54166667\n",
      " 0.58333333        nan 0.54166667        nan 0.5        0.54166667\n",
      " 0.5               nan 0.58333333]\n",
      "  warnings.warn(\n"
     ]
    }
   ],
   "source": [
    "# Dirctory of where you want to write/read these models\n",
    "subject_ML_dir = r'C:\\Users\\61407\\mental-health-modelling\\fNIRS Mental Workload\\final_models\\subject'\n",
    "\n",
    "for sub in chunked_data.index.get_level_values('subject').unique():\n",
    "    print(f'{sub}:\\n{\"*\"*120}')\n",
    "    fname = f'{sub}_ML_{structure_suffix}_{subject_suffix}_{label_suffix}.pkl'\n",
    "    \n",
    "    # Check if model already exists\n",
    "    if fname in os.listdir(subject_ML_dir):\n",
    "        print(f'Already exists!\\n{\"*\"*120}\\n')\n",
    "    else:\n",
    "        \n",
    "        # Data partitioning\n",
    "        print('partitioning...')\n",
    "        X_test = chunked_data[(chunked_data.index.get_level_values('subject') == sub) &\n",
    "                              (chunked_data.index.get_level_values('block').isin([value for key, value in test_idx.items() if key[0] == sub]))\n",
    "                             ]\n",
    "        y_test = chunked_labels[(chunked_labels.index.get_level_values('subject') == sub) &\n",
    "                                (chunked_labels.index.get_level_values('block').isin([value for key, value in test_idx.items() if key[0] == sub]))\n",
    "                               ]\n",
    "        X_train = chunked_data[(chunked_data.index.get_level_values('subject') == sub) &\n",
    "                                        (~chunked_data.index.isin(X_test.index))]\n",
    "        y_train = chunked_labels[(chunked_labels.index.get_level_values('subject') == sub) &\n",
    "                                 (~chunked_labels.index.isin(y_test.index))]\n",
    "        print('...complete!\\n')\n",
    "\n",
    "        # Iterate through different pipelines\n",
    "        pipeline_results = {}\n",
    "        for name, pipe in pipelines.items():\n",
    "            pipe_clf = pipe[-1] \n",
    "\n",
    "            if isinstance(pipe_clf, KNeighborsClassifier):\n",
    "                param_dist = knn_params\n",
    "            elif isinstance(pipe_clf, RandomForestClassifier):\n",
    "                param_dist = rf_params\n",
    "            elif isinstance(pipe_clf, SVC):\n",
    "                param_dist = svc_params\n",
    "            else:\n",
    "                print('classifier instance unknown')\n",
    "                break\n",
    "\n",
    "            # Set up randomized search CV\n",
    "            random_search = RandomizedSearchCV(\n",
    "            pipe,  # The pipeline containing the classifier and other steps\n",
    "            param_distributions=param_dist,  # The hyperparameter search space\n",
    "            n_iter=15,  # Number of parameter settings to sample\n",
    "            cv=3,  # Number of cross-validation folds\n",
    "            scoring='accuracy',  # Scoring metric\n",
    "            random_state=42,  # Random state for reproducibility\n",
    "            verbose=2,\n",
    "            n_jobs=-1  # Number of CPU cores to use (set to -2 to use all available but one)\n",
    "            )\n",
    "\n",
    "            # Fit the RandomizedSearchCV object to the data\n",
    "            print(f'{name}...\\n{pipe.steps}\\n')\n",
    "            random_search.fit(X_train, y_train)\n",
    "\n",
    "            # Get the best hyperparameters and the corresponding estimator\n",
    "            best_params = random_search.best_params_\n",
    "            best_estimator = random_search.best_estimator_\n",
    "\n",
    "            # Print the best hyperparameters for the current pipeline\n",
    "            print(\"Best hyperparameters:\", best_params)\n",
    "\n",
    "            # Print the average validation accuracy for best hyperparameters\n",
    "            avg_val = round(random_search.best_score_,3)\n",
    "            print(f'Average validation accuracy: {avg_val}')\n",
    "\n",
    "            # Get predictions on test data using the best hyperparameter settings\n",
    "            y_test_pred = best_estimator.predict(X_test)\n",
    "            test_score = best_estimator.score(X_test, y_test)\n",
    "            print(f'Test accuracy: {test_score}')      \n",
    "\n",
    "            # Add random search object for current pipeline to dictionary\n",
    "            pipeline_results[name] = {}\n",
    "            pipeline_results[name]['best_test'] = {'y_true':y_test, 'y_pred':y_test_pred, 'accuracy':test_score}\n",
    "            pipeline_results[name]['rcv'] = random_search\n",
    "        \n",
    "        # Save subject pipelines\n",
    "        with open(os.path.join(subject_ML_dir, fname), 'wb') as file:\n",
    "            pickle.dump(pipeline_results, file)\n",
    "        print(f'{\"*\"*120}\\n')"
   ]
  },
  {
   "cell_type": "code",
   "execution_count": null,
   "id": "eb64fda8",
   "metadata": {},
   "outputs": [],
   "source": []
  }
 ],
 "metadata": {
  "kernelspec": {
   "display_name": "Python 3 (ipykernel)",
   "language": "python",
   "name": "python3"
  },
  "language_info": {
   "codemirror_mode": {
    "name": "ipython",
    "version": 3
   },
   "file_extension": ".py",
   "mimetype": "text/x-python",
   "name": "python",
   "nbconvert_exporter": "python",
   "pygments_lexer": "ipython3",
   "version": "3.10.9"
  }
 },
 "nbformat": 4,
 "nbformat_minor": 5
}

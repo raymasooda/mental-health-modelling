{
 "cells": [
  {
   "cell_type": "code",
   "execution_count": 1,
   "id": "210c9765",
   "metadata": {},
   "outputs": [],
   "source": [
    "import os\n",
    "import fcwt\n",
    "import matplotlib.pyplot as plt\n",
    "import numpy as np\n",
    "\n",
    "## Import custom functions from 'pre_processing.py' ##\n",
    "try:\n",
    "    import importlib\n",
    "    importlib.reload(pp)\n",
    "except NameError: # It hasn't been imported yet\n",
    "    import pre_processing as pp\n",
    "    \n",
    "fnirs_data = r'C:\\Users\\61407\\mental-health-modelling\\data\\fNIRS\\bandpass_filtered_whole_data'\n",
    "scalogram_dir = r'C:\\Users\\61407\\mental-health-modelling\\fNIRS Mental Workload\\scalograms'\n",
    "all_data = pp.upload_all_subjects(fnirs_data, scaled=True)"
   ]
  },
  {
   "cell_type": "code",
   "execution_count": 2,
   "id": "29243021",
   "metadata": {},
   "outputs": [],
   "source": [
    "from ssqueezepy import ssq_cwt, ssq_stft\n",
    "from ssqueezepy.experimental import scale_to_freq\n",
    "#%%# With units #######################################\n",
    "os.environ['SSQ_GPU'] = '1'\n",
    "from ssqueezepy import Wavelet, cwt, stft, imshow\n",
    "import torch"
   ]
  },
  {
   "cell_type": "code",
   "execution_count": 15,
   "id": "fb096392",
   "metadata": {},
   "outputs": [],
   "source": [
    "def extract_scalogram_tensors(array_1d):\n",
    "    wavelet = Wavelet('morlet')\n",
    "    Wx, scales = cwt(array_1d, wavelet)\n",
    "    return Wx"
   ]
  },
  {
   "cell_type": "code",
   "execution_count": 17,
   "id": "74c71d1a",
   "metadata": {},
   "outputs": [],
   "source": [
    "sub_groups = all_data.groupby(all_data.index.get_level_values(0))\n",
    "for sub in sub_groups.groups.keys():\n",
    "    sub_data = sub_groups.get_group(sub)\n",
    "    data_blocks, block_change_idx = pp.detect_block_changes(sub_data, 'difficulty')\n",
    "    label_dict = {block:int(df.difficulty.unique()) for block, df in data_blocks.items()}\n",
    "    np.save(os.path.join(scalogram_dir, f'{sub}_labels.npy'), label_dict, allow_pickle=True)\n",
    "    \n",
    "    array_3d = np.array([x.drop('difficulty', axis=1).to_numpy().T for x in data_blocks.values()])\n",
    "    tensor_3d = torch.tensor(array_3d, dtype=torch.float32).cuda()\n",
    "    tensor_4d = torch.stack([torch.stack([extract_scalogram_tensors(tensor_3d[i, j, :]) for j in range(tensor_3d.shape[1])]) for i in range(tensor_3d.shape[0])], dim=0)\n",
    "    torch.save(tensor_4d, os.path.join(scalogram_dir, f'{sub}_scalogram_tensors.pt'))"
   ]
  }
 ],
 "metadata": {
  "kernelspec": {
   "display_name": "Python 3.8 (tensorflow-gpu)",
   "language": "python",
   "name": "tensorflow-gpu"
  },
  "language_info": {
   "codemirror_mode": {
    "name": "ipython",
    "version": 3
   },
   "file_extension": ".py",
   "mimetype": "text/x-python",
   "name": "python",
   "nbconvert_exporter": "python",
   "pygments_lexer": "ipython3",
   "version": "3.8.18"
  }
 },
 "nbformat": 4,
 "nbformat_minor": 5
}
